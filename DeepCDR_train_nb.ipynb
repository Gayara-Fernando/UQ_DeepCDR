{
 "cells": [
  {
   "cell_type": "code",
   "execution_count": null,
   "id": "d521130c-1495-4f3b-ad70-751f135c3efd",
   "metadata": {},
   "outputs": [],
   "source": [
    "import os\n",
    "import json\n",
    "import sys\n",
    "import warnings\n",
    "from pathlib import Path\n",
    "from pprint import pformat\n",
    "from typing import Dict, Union\n",
    "import tensorflow as tf\n",
    "\n",
    "import pickle\n",
    "import pandas as pd\n",
    "import numpy as np\n",
    "from tensorflow.keras import backend as K\n",
    "from create_data_generator import data_generator, batch_predict\n",
    "\n",
    "# [Req] IMPROVE imports\n",
    "# notice that the improvelibs are in the folder that is a level above, but in the same parent directory\n",
    "# sys.path.append(os.path.abspath(os.path.join('..', 'IMPROVE')))\n",
    "from improvelib.applications.drug_response_prediction.config import DRPTrainConfig\n",
    "from improvelib.utils import str2bool\n",
    "import improvelib.utils as frm\n",
    "from improvelib.metrics import compute_metrics\n",
    "\n",
    "# Model-specific imports\n",
    "from model_params_def import train_params # [Req]\n",
    "\n",
    "filepath = Path(__file__).resolve().parent # [Req]"
   ]
  },
  {
   "cell_type": "code",
   "execution_count": null,
   "id": "c702044d-db13-411d-bf3e-c27941213ca5",
   "metadata": {},
   "outputs": [],
   "source": [
    "tf.config.list_physical_devices(\"GPU\")"
   ]
  },
  {
   "cell_type": "code",
   "execution_count": null,
   "id": "0525de72-a94e-463e-997a-06e4e9144a89",
   "metadata": {},
   "outputs": [],
   "source": [
    "training = False\n",
    "dropout1 = 0.10\n",
    "dropout2 = 0.20\n",
    "## get the model architecture\n",
    "def deepcdrgcn(dict_features, dict_adj_mat, samp_drug, samp_ach, cancer_dna_methy_model, cancer_gen_expr_model, cancer_gen_mut_model, training = training, dropout1 = dropout1, dropout2 = dropout2):\n",
    "    \n",
    "    input_gcn_features = tf.keras.layers.Input(shape = (dict_features[samp_drug].shape[0], 75))\n",
    "    input_norm_adj_mat = tf.keras.layers.Input(shape = (dict_adj_mat[samp_drug].shape[0], dict_adj_mat[samp_drug].shape[0]))\n",
    "    mult_1 = tf.keras.layers.Dot(1)([input_norm_adj_mat, input_gcn_features])\n",
    "    dense_layer_gcn = tf.keras.layers.Dense(256, activation = \"relu\")\n",
    "    dense_out = dense_layer_gcn(mult_1)\n",
    "    dense_out = tf.keras.layers.BatchNormalization()(dense_out)\n",
    "    dense_out = tf.keras.layers.Dropout(dropout1)(dense_out, training = training)\n",
    "    mult_2 = tf.keras.layers.Dot(1)([input_norm_adj_mat, dense_out])\n",
    "    dense_layer_gcn = tf.keras.layers.Dense(256, activation = \"relu\")\n",
    "    dense_out = dense_layer_gcn(mult_2)\n",
    "    dense_out = tf.keras.layers.BatchNormalization()(dense_out)\n",
    "    dense_out = tf.keras.layers.Dropout(dropout1)(dense_out, training = training)\n",
    "\n",
    "    dense_layer_gcn = tf.keras.layers.Dense(100, activation = \"relu\")\n",
    "    mult_3 = tf.keras.layers.Dot(1)([input_norm_adj_mat, dense_out])\n",
    "    dense_out = dense_layer_gcn(mult_3)\n",
    "    dense_out = tf.keras.layers.BatchNormalization()(dense_out)\n",
    "    dense_out = tf.keras.layers.Dropout(dropout1)(dense_out, training = training)\n",
    "\n",
    "    dense_out = tf.keras.layers.GlobalAvgPool1D()(dense_out)\n",
    "    # All above code is for GCN for drugs\n",
    "\n",
    "    # methylation data\n",
    "    input_gen_methy1 = tf.keras.layers.Input(shape = (1,), dtype = tf.string)\n",
    "    input_gen_methy = cancer_dna_methy_model(input_gen_methy1)\n",
    "    input_gen_methy.trainable = False\n",
    "    gen_methy_layer = tf.keras.layers.Dense(256, activation = \"tanh\")\n",
    "    \n",
    "    gen_methy_emb = gen_methy_layer(input_gen_methy)\n",
    "    gen_methy_emb = tf.keras.layers.BatchNormalization()(gen_methy_emb)\n",
    "    gen_methy_emb = tf.keras.layers.Dropout(dropout1)(gen_methy_emb, training = training)\n",
    "    gen_methy_layer = tf.keras.layers.Dense(100, activation = \"relu\")\n",
    "    gen_methy_emb = gen_methy_layer(gen_methy_emb)\n",
    "\n",
    "    # gene expression data\n",
    "    input_gen_expr1 = tf.keras.layers.Input(shape = (1,), dtype = tf.string)\n",
    "    input_gen_expr = cancer_gen_expr_model(input_gen_expr1)\n",
    "    input_gen_expr.trainable = False\n",
    "    gen_expr_layer = tf.keras.layers.Dense(256, activation = \"tanh\")\n",
    "    \n",
    "    gen_expr_emb = gen_expr_layer(input_gen_expr)\n",
    "    gen_expr_emb = tf.keras.layers.BatchNormalization()(gen_expr_emb)\n",
    "    gen_expr_emb = tf.keras.layers.Dropout(dropout1)(gen_expr_emb, training = training)\n",
    "    gen_expr_layer = tf.keras.layers.Dense(100, activation = \"relu\")\n",
    "    gen_expr_emb = gen_expr_layer(gen_expr_emb)\n",
    "    \n",
    "    \n",
    "    input_gen_mut1 = tf.keras.layers.Input(shape = (1,), dtype = tf.string)\n",
    "    input_gen_mut = cancer_gen_mut_model(input_gen_mut1)\n",
    "    input_gen_mut.trainable = False\n",
    "    \n",
    "    reshape_gen_mut = tf.keras.layers.Reshape((1, cancer_gen_mut_model(samp_ach).numpy().shape[0], 1))\n",
    "    reshape_gen_mut = reshape_gen_mut(input_gen_mut)\n",
    "    gen_mut_layer = tf.keras.layers.Conv2D(50, (1, 700), strides=5, activation = \"tanh\")\n",
    "    gen_mut_emb = gen_mut_layer(reshape_gen_mut)\n",
    "    pool_layer = tf.keras.layers.MaxPooling2D((1,5))\n",
    "    pool_out = pool_layer(gen_mut_emb)\n",
    "    gen_mut_layer = tf.keras.layers.Conv2D(30, (1, 5), strides=2, activation = \"relu\")\n",
    "    gen_mut_emb = gen_mut_layer(pool_out)\n",
    "    pool_layer = tf.keras.layers.MaxPooling2D((1,10))\n",
    "    pool_out = pool_layer(gen_mut_emb)\n",
    "    flatten_layer = tf.keras.layers.Flatten()\n",
    "    flatten_out = flatten_layer(pool_out)\n",
    "    x_mut = tf.keras.layers.Dense(100,activation = 'relu')(flatten_out)\n",
    "    x_mut = tf.keras.layers.Dropout(dropout1)(x_mut)\n",
    "    \n",
    "    all_omics = tf.keras.layers.Concatenate()([dense_out, gen_methy_emb, gen_expr_emb, x_mut])\n",
    "    x = tf.keras.layers.Dense(300,activation = 'tanh')(all_omics)\n",
    "    x = tf.keras.layers.Dropout(dropout1)(x, training = training)\n",
    "    x = tf.keras.layers.Lambda(lambda x: K.expand_dims(x,axis=-1))(x)\n",
    "    x = tf.keras.layers.Lambda(lambda x: K.expand_dims(x,axis=1))(x)\n",
    "    x = tf.keras.layers.Conv2D(filters=30, kernel_size=(1,150),strides=(1, 1), activation = 'relu',padding='valid')(x)\n",
    "    x = tf.keras.layers.MaxPooling2D(pool_size=(1,2))(x)\n",
    "    x = tf.keras.layers.Conv2D(filters=10, kernel_size=(1,5),strides=(1, 1), activation = 'relu',padding='valid')(x)\n",
    "    x = tf.keras.layers.MaxPooling2D(pool_size=(1,3))(x)\n",
    "    x = tf.keras.layers.Conv2D(filters=5, kernel_size=(1,5),strides=(1, 1), activation = 'relu',padding='valid')(x)\n",
    "    x = tf.keras.layers.MaxPooling2D(pool_size=(1,3))(x)\n",
    "    x = tf.keras.layers.Dropout(dropout1)(x, training = training)\n",
    "    x = tf.keras.layers.Flatten()(x)\n",
    "    x = tf.keras.layers.Dropout(dropout2)(x, training = training)\n",
    "    final_out_layer = tf.keras.layers.Dense(1, activation = \"linear\")\n",
    "    final_out = final_out_layer(x)\n",
    "    simplecdr = tf.keras.models.Model([input_gcn_features, input_norm_adj_mat, input_gen_expr1,\n",
    "                                   input_gen_methy1, input_gen_mut1], final_out)\n",
    "    \n",
    "    return simplecdr"
   ]
  },
  {
   "cell_type": "code",
   "execution_count": null,
   "id": "ed6deb8f-f568-4e26-a6a7-7875ad0ebb52",
   "metadata": {},
   "outputs": [],
   "source": [
    "modelpath = frm.build_model_path(model_file_name=\"DeepCDR_model\", model_file_format=\"\", model_dir=\"exp_result\")"
   ]
  },
  {
   "cell_type": "code",
   "execution_count": null,
   "id": "47729a2f-15cf-464c-9e19-3e8b767fdcc8",
   "metadata": {},
   "outputs": [],
   "source": [
    "modelpath"
   ]
  },
  {
   "cell_type": "code",
   "execution_count": null,
   "id": "54917658-3f8b-4a57-b00d-46dd5544636d",
   "metadata": {},
   "outputs": [],
   "source": [
    "train_data_fname = frm.build_ml_data_file_name(data_format=\".csv\", stage=\"train\")  # [Req]\n",
    "val_data_fname = frm.build_ml_data_file_name(data_format=\".csv\", stage=\"val\")  # [Req]"
   ]
  },
  {
   "cell_type": "code",
   "execution_count": null,
   "id": "392a8fbe-aaca-4e92-b2cd-8d87c9cb4a29",
   "metadata": {},
   "outputs": [],
   "source": [
    "print(train_data_fname)\n",
    "print(val_data_fname)"
   ]
  },
  {
   "cell_type": "code",
   "execution_count": null,
   "id": "762628af-391f-4411-b77e-54c39f6c3d63",
   "metadata": {},
   "outputs": [],
   "source": [
    "# specify the directory where preprocessed data is stored\n",
    "data_dir = 'exp_result'"
   ]
  },
  {
   "cell_type": "code",
   "execution_count": null,
   "id": "7850080d-b794-4ce5-b39f-bf14a6827c0c",
   "metadata": {},
   "outputs": [],
   "source": [
    "%%time\n",
    "# load the models\n",
    "cancer_gen_expr_model = tf.keras.models.load_model(os.path.join(data_dir,\"cancer_gen_expr_model\"))\n",
    "cancer_gen_mut_model = tf.keras.models.load_model(os.path.join(data_dir, \"cancer_gen_mut_model\"))\n",
    "cancer_dna_methy_model = tf.keras.models.load_model(os.path.join(data_dir, \"cancer_dna_methy_model\"))"
   ]
  },
  {
   "cell_type": "code",
   "execution_count": null,
   "id": "b29c347a-3de7-485a-a39c-8e232b9ec5b5",
   "metadata": {},
   "outputs": [],
   "source": [
    "cancer_gen_expr_model.trainable = False\n",
    "cancer_gen_mut_model.trainable = False\n",
    "cancer_dna_methy_model.trainable = False"
   ]
  },
  {
   "cell_type": "code",
   "execution_count": null,
   "id": "d6d303de-7298-42d3-881b-7afe68b2fbef",
   "metadata": {},
   "outputs": [],
   "source": [
    "with open(os.path.join(data_dir, \"drug_features.pickle\"),\"rb\") as f:\n",
    "        dict_features = pickle.load(f)"
   ]
  },
  {
   "cell_type": "code",
   "execution_count": null,
   "id": "fd278ebd-6c15-47e9-89ea-7eab59721bda",
   "metadata": {},
   "outputs": [],
   "source": [
    "with open(os.path.join(data_dir, \"norm_adj_mat.pickle\"),\"rb\") as f:\n",
    "        dict_adj_mat = pickle.load(f)"
   ]
  },
  {
   "cell_type": "code",
   "execution_count": null,
   "id": "449b2bdf-e699-403b-a8d7-4c7eaf670c72",
   "metadata": {},
   "outputs": [],
   "source": [
    "train_keep = pd.read_csv(os.path.join(data_dir, \"train_y_data.csv\"))\n",
    "valid_keep = pd.read_csv(os.path.join(data_dir, \"val_y_data.csv\"))"
   ]
  },
  {
   "cell_type": "code",
   "execution_count": null,
   "id": "2e7047a3-eb82-4654-9091-1aaa73dc7464",
   "metadata": {},
   "outputs": [],
   "source": [
    "train_keep.head()"
   ]
  },
  {
   "cell_type": "code",
   "execution_count": null,
   "id": "6e5823ba-4d33-46da-967e-739452979196",
   "metadata": {},
   "outputs": [],
   "source": [
    "valid_keep.head()"
   ]
  },
  {
   "cell_type": "code",
   "execution_count": null,
   "id": "aa90923f-20e5-477c-a476-a50973de38b3",
   "metadata": {},
   "outputs": [],
   "source": [
    "train_keep.shape, valid_keep.shape"
   ]
  },
  {
   "cell_type": "code",
   "execution_count": null,
   "id": "7907cd32-9f4b-45e0-9fbd-73d7baf3f48c",
   "metadata": {},
   "outputs": [],
   "source": [
    "train_keep.columns = [\"Cell_Line\", \"Drug_ID\", \"AUC\"]\n",
    "valid_keep.columns = [\"Cell_Line\", \"Drug_ID\", \"AUC\"]"
   ]
  },
  {
   "cell_type": "code",
   "execution_count": null,
   "id": "39a95241-68cf-463b-a117-87b65c5da003",
   "metadata": {},
   "outputs": [],
   "source": [
    "train_keep.head()"
   ]
  },
  {
   "cell_type": "code",
   "execution_count": null,
   "id": "cfa5ff51-e1b1-4323-8b9d-766bfe7049bb",
   "metadata": {},
   "outputs": [],
   "source": [
    "valid_keep.head()"
   ]
  },
  {
   "cell_type": "code",
   "execution_count": null,
   "id": "10361552-c931-4e14-bda0-ec8784d581f1",
   "metadata": {},
   "outputs": [],
   "source": [
    "samp_drug = valid_keep[\"Drug_ID\"].unique()[-1]\n",
    "samp_ach = np.array(valid_keep[\"Cell_Line\"].unique()[-1])"
   ]
  },
  {
   "cell_type": "code",
   "execution_count": null,
   "id": "89eda92c-d196-416b-bcab-7b575fe64822",
   "metadata": {},
   "outputs": [],
   "source": [
    "print(samp_drug)\n",
    "print(samp_ach)"
   ]
  },
  {
   "cell_type": "code",
   "execution_count": null,
   "id": "047616b9-235a-4c08-a0c0-05a892cdb7c2",
   "metadata": {},
   "outputs": [],
   "source": [
    "train_gcn_feats = []\n",
    "train_adj_list = []\n",
    "for drug_id in train_keep[\"Drug_ID\"].values:\n",
    "    train_gcn_feats.append(dict_features[drug_id])\n",
    "    train_adj_list.append(dict_adj_mat[drug_id])"
   ]
  },
  {
   "cell_type": "code",
   "execution_count": null,
   "id": "d29fcb42-0314-45f6-b814-e8c08cc1de26",
   "metadata": {},
   "outputs": [],
   "source": [
    "len(train_gcn_feats), len(train_adj_list)"
   ]
  },
  {
   "cell_type": "code",
   "execution_count": null,
   "id": "6bfaa944-467d-4419-abaa-8b2cd78fd242",
   "metadata": {},
   "outputs": [],
   "source": [
    "valid_gcn_feats = []\n",
    "valid_adj_list = []\n",
    "for drug_id in valid_keep[\"Drug_ID\"].values:\n",
    "    valid_gcn_feats.append(dict_features[drug_id])\n",
    "    valid_adj_list.append(dict_adj_mat[drug_id])"
   ]
  },
  {
   "cell_type": "code",
   "execution_count": null,
   "id": "ddd74976-960d-4a4c-b54c-3ab4e6a6ea40",
   "metadata": {},
   "outputs": [],
   "source": [
    "len(valid_gcn_feats), len(valid_adj_list)"
   ]
  },
  {
   "cell_type": "code",
   "execution_count": null,
   "id": "a125b477-0267-4102-a4f5-94651b146b30",
   "metadata": {},
   "outputs": [],
   "source": [
    "len(valid_gcn_feats) + len(train_gcn_feats)"
   ]
  },
  {
   "cell_type": "code",
   "execution_count": null,
   "id": "77a339fc-893c-4a9c-a9e5-be91c251cb6c",
   "metadata": {},
   "outputs": [],
   "source": [
    "%%time\n",
    "# reduce the values to float16\n",
    "train_gcn_feats = np.array(train_gcn_feats).astype(\"float32\")\n",
    "valid_gcn_feats = np.array(valid_gcn_feats).astype(\"float32\")\n",
    "\n",
    "train_adj_list = np.array(train_adj_list).astype(\"float32\")\n",
    "valid_adj_list = np.array(valid_adj_list).astype(\"float32\")"
   ]
  },
  {
   "cell_type": "code",
   "execution_count": null,
   "id": "97a351ba-252f-4dd1-acca-44bc496ca998",
   "metadata": {},
   "outputs": [],
   "source": [
    "# create a data generator for the train data\n",
    "batch_size = 32\n",
    "generator_batch_size = 32"
   ]
  },
  {
   "cell_type": "code",
   "execution_count": null,
   "id": "e63b7116-a4c1-4ea7-a7d8-6a1861a3760e",
   "metadata": {},
   "outputs": [],
   "source": [
    "train_gen =  data_generator(train_gcn_feats, train_adj_list, train_keep[\"Cell_Line\"].values.reshape(-1,1), train_keep[\"Cell_Line\"].values.reshape(-1,1), \n",
    "    train_keep[\"Cell_Line\"].values.reshape(-1,1), train_keep[\"AUC\"].values.reshape(-1,1), batch_size, shuffle=True, peek=True, verbose=False)"
   ]
  },
  {
   "cell_type": "code",
   "execution_count": null,
   "id": "f148a20e-a36b-4f54-a4d4-5750c1b04389",
   "metadata": {},
   "outputs": [],
   "source": [
    "val_gen =  data_generator(valid_gcn_feats, valid_adj_list, valid_keep[\"Cell_Line\"].values.reshape(-1,1), valid_keep[\"Cell_Line\"].values.reshape(-1,1), \n",
    "    valid_keep[\"Cell_Line\"].values.reshape(-1,1), valid_keep[\"AUC\"].values.reshape(-1,1), generator_batch_size, peek=True)"
   ]
  },
  {
   "cell_type": "code",
   "execution_count": null,
   "id": "996b659e-bc63-4145-9492-0f0ae2b4ae05",
   "metadata": {},
   "outputs": [],
   "source": [
    "steps_per_epoch = int(np.ceil(len(train_gcn_feats) / batch_size))\n",
    "train_steps = int(np.ceil(len(train_gcn_feats) / generator_batch_size))\n",
    "validation_steps = int(np.ceil(len(valid_gcn_feats) / generator_batch_size))"
   ]
  },
  {
   "cell_type": "code",
   "execution_count": null,
   "id": "b0aedbe5-8633-4063-8403-a0680ff57c60",
   "metadata": {},
   "outputs": [],
   "source": [
    "training = False\n",
    "dropout1 = 0.10\n",
    "dropout2 = 0.20\n",
    "check = deepcdrgcn(dict_features, dict_adj_mat, samp_drug, samp_ach, cancer_dna_methy_model, cancer_gen_expr_model, cancer_gen_mut_model,  training = training, dropout1 = dropout1, dropout2 = dropout2)"
   ]
  },
  {
   "cell_type": "code",
   "execution_count": null,
   "id": "c75c2abd-da4c-4424-8b9d-c0bd4aa59792",
   "metadata": {},
   "outputs": [],
   "source": [
    "check.summary()"
   ]
  },
  {
   "cell_type": "code",
   "execution_count": null,
   "id": "8e26722f-77a7-48d7-bc1f-64f34a88e2f5",
   "metadata": {},
   "outputs": [],
   "source": [
    "# compile the model\n",
    "lr = 0.001\n",
    "check.compile(loss = tf.keras.losses.MeanSquaredError(), \n",
    "                      # optimizer = tf.keras.optimizers.Adam(lr=1e-3),\n",
    "                    optimizer = tf.keras.optimizers.Adam(learning_rate=lr, beta_1=0.9, beta_2=0.999, amsgrad=False), \n",
    "                    metrics = [tf.keras.metrics.RootMeanSquaredError()])"
   ]
  },
  {
   "cell_type": "code",
   "execution_count": null,
   "id": "ad0add2f-3ae7-47b7-8978-1904474a6085",
   "metadata": {},
   "outputs": [],
   "source": [
    "# fit the model              \n",
    "epoch_num = 150\n",
    "patience_val = 10\n",
    "check.fit(train_gen, validation_data = val_gen, epochs = epoch_num, steps_per_epoch=steps_per_epoch, validation_steps=validation_steps,\n",
    "         callbacks = tf.keras.callbacks.EarlyStopping(monitor = \"val_loss\", patience = patience_val, restore_best_weights=True, \n",
    "                                                     mode = \"min\") ,validation_batch_size = generator_batch_size)"
   ]
  },
  {
   "cell_type": "code",
   "execution_count": 1,
   "id": "32126687-df72-4d99-8b40-0a2c4fb6bc0b",
   "metadata": {},
   "outputs": [],
   "source": [
    "# Okay, the code not working here has to purely do with the jupyter notebook, it works fine with the python script."
   ]
  },
  {
   "cell_type": "code",
   "execution_count": null,
   "id": "e63fdcaa-64e6-44e4-8530-1f3469646834",
   "metadata": {},
   "outputs": [],
   "source": []
  }
 ],
 "metadata": {
  "kernelspec": {
   "display_name": "Python (deepcdr_improve_env)",
   "language": "python",
   "name": "deepcdr_improve_env"
  },
  "language_info": {
   "codemirror_mode": {
    "name": "ipython",
    "version": 3
   },
   "file_extension": ".py",
   "mimetype": "text/x-python",
   "name": "python",
   "nbconvert_exporter": "python",
   "pygments_lexer": "ipython3",
   "version": "3.8.16"
  }
 },
 "nbformat": 4,
 "nbformat_minor": 5
}
