{
 "cells": [
  {
   "cell_type": "code",
   "execution_count": 1,
   "id": "32c1ba84-a61d-4b90-8bd3-5d2bc6b56fdc",
   "metadata": {},
   "outputs": [],
   "source": [
    "# Okay, since we did not get the model to train on the nb, let's fit the NNe in a separate script and try to inlcude this in the python script."
   ]
  },
  {
   "cell_type": "code",
   "execution_count": 2,
   "id": "b71ff245-2466-4270-8505-23dd89f99f05",
   "metadata": {},
   "outputs": [
    {
     "name": "stderr",
     "output_type": "stream",
     "text": [
      "2025-04-10 10:53:07.101446: I tensorflow/core/platform/cpu_feature_guard.cc:193] This TensorFlow binary is optimized with oneAPI Deep Neural Network Library (oneDNN) to use the following CPU instructions in performance-critical operations:  SSE4.1 SSE4.2 AVX AVX2 AVX512F AVX512_VNNI FMA\n",
      "To enable them in other operations, rebuild TensorFlow with the appropriate compiler flags.\n",
      "2025-04-10 10:53:12.593581: I tensorflow/core/util/port.cc:104] oneDNN custom operations are on. You may see slightly different numerical results due to floating-point round-off errors from different computation orders. To turn them off, set the environment variable `TF_ENABLE_ONEDNN_OPTS=0`.\n"
     ]
    }
   ],
   "source": [
    "import os\n",
    "import json\n",
    "import sys\n",
    "import warnings\n",
    "from pathlib import Path\n",
    "from pprint import pformat\n",
    "from typing import Dict, Union\n",
    "import tensorflow as tf\n",
    "tf.compat.v1.enable_eager_execution()\n",
    "\n",
    "import pickle\n",
    "import pandas as pd\n",
    "import numpy as np\n",
    "from tensorflow.keras import backend as K\n",
    "from create_data_generator import data_generator, batch_predict\n",
    "\n",
    "# [Req] IMPROVE imports\n",
    "# notice that the improvelibs are in the folder that is a level above, but in the same parent directory\n",
    "sys.path.append(os.path.abspath(os.path.join('..', 'IMPROVE')))\n",
    "from improvelib.applications.drug_response_prediction.config import DRPTrainConfig\n",
    "from improvelib.utils import str2bool\n",
    "import improvelib.utils as frm\n",
    "from improvelib.metrics import compute_metrics\n",
    "\n",
    "# Model-specific imports\n",
    "from model_params_def import train_params # [Req]"
   ]
  },
  {
   "cell_type": "code",
   "execution_count": 3,
   "id": "639d2985-b663-4a46-860d-3c4567c4c552",
   "metadata": {},
   "outputs": [],
   "source": [
    "data_dir = 'exp_result'"
   ]
  },
  {
   "cell_type": "code",
   "execution_count": 4,
   "id": "4fad92b2-63d9-429b-8daa-1ba486827a90",
   "metadata": {},
   "outputs": [
    {
     "name": "stderr",
     "output_type": "stream",
     "text": [
      "2025-04-10 10:54:42.293902: I tensorflow/core/platform/cpu_feature_guard.cc:193] This TensorFlow binary is optimized with oneAPI Deep Neural Network Library (oneDNN) to use the following CPU instructions in performance-critical operations:  SSE4.1 SSE4.2 AVX AVX2 AVX512F AVX512_VNNI FMA\n",
      "To enable them in other operations, rebuild TensorFlow with the appropriate compiler flags.\n",
      "2025-04-10 10:54:49.732819: I tensorflow/core/common_runtime/gpu/gpu_device.cc:1613] Created device /job:localhost/replica:0/task:0/device:GPU:0 with 30960 MB memory:  -> device: 0, name: Tesla V100S-PCIE-32GB, pci bus id: 0000:06:00.0, compute capability: 7.0\n"
     ]
    },
    {
     "name": "stdout",
     "output_type": "stream",
     "text": [
      "WARNING:tensorflow:No training configuration found in save file, so the model was *not* compiled. Compile it manually.\n"
     ]
    },
    {
     "name": "stderr",
     "output_type": "stream",
     "text": [
      "WARNING tensorflow 2025-04-10 10:54:51,164:\tNo training configuration found in save file, so the model was *not* compiled. Compile it manually.\n"
     ]
    },
    {
     "name": "stdout",
     "output_type": "stream",
     "text": [
      "WARNING:tensorflow:No training configuration found in save file, so the model was *not* compiled. Compile it manually.\n"
     ]
    },
    {
     "name": "stderr",
     "output_type": "stream",
     "text": [
      "WARNING tensorflow 2025-04-10 10:54:51,511:\tNo training configuration found in save file, so the model was *not* compiled. Compile it manually.\n"
     ]
    },
    {
     "name": "stdout",
     "output_type": "stream",
     "text": [
      "WARNING:tensorflow:No training configuration found in save file, so the model was *not* compiled. Compile it manually.\n"
     ]
    },
    {
     "name": "stderr",
     "output_type": "stream",
     "text": [
      "WARNING tensorflow 2025-04-10 10:54:51,870:\tNo training configuration found in save file, so the model was *not* compiled. Compile it manually.\n"
     ]
    },
    {
     "name": "stdout",
     "output_type": "stream",
     "text": [
      "CPU times: user 1.44 s, sys: 1.02 s, total: 2.46 s\n",
      "Wall time: 10 s\n"
     ]
    }
   ],
   "source": [
    "%%time\n",
    "# load the models\n",
    "cancer_gen_expr_model = tf.keras.models.load_model(os.path.join(data_dir,\"cancer_gen_expr_model\"))\n",
    "cancer_gen_mut_model = tf.keras.models.load_model(os.path.join(data_dir, \"cancer_gen_mut_model\"))\n",
    "cancer_dna_methy_model = tf.keras.models.load_model(os.path.join(data_dir, \"cancer_dna_methy_model\"))"
   ]
  },
  {
   "cell_type": "code",
   "execution_count": 5,
   "id": "41e39439-acad-4396-815e-d8fc3f5e83da",
   "metadata": {},
   "outputs": [],
   "source": [
    "cancer_gen_expr_model.trainable = False\n",
    "cancer_gen_mut_model.trainable = False\n",
    "cancer_dna_methy_model.trainable = False"
   ]
  },
  {
   "cell_type": "code",
   "execution_count": 6,
   "id": "2a245991-0562-44d3-b93c-a8556c1a1b50",
   "metadata": {},
   "outputs": [],
   "source": [
    "with open(os.path.join(data_dir, \"drug_features.pickle\"),\"rb\") as f:\n",
    "        dict_features = pickle.load(f)"
   ]
  },
  {
   "cell_type": "code",
   "execution_count": 7,
   "id": "98eeb33c-e768-4030-a9c0-5667ca92127c",
   "metadata": {},
   "outputs": [],
   "source": [
    "with open(os.path.join(data_dir, \"norm_adj_mat.pickle\"),\"rb\") as f:\n",
    "        dict_adj_mat = pickle.load(f)"
   ]
  },
  {
   "cell_type": "code",
   "execution_count": 8,
   "id": "49582190-7714-48ea-85d8-8aaf427683e9",
   "metadata": {},
   "outputs": [],
   "source": [
    "train_keep = pd.read_csv(os.path.join(data_dir, \"train_y_data.csv\"))\n",
    "valid_keep = pd.read_csv(os.path.join(data_dir, \"val_y_data.csv\"))"
   ]
  },
  {
   "cell_type": "code",
   "execution_count": 9,
   "id": "cff13aa5-f17b-4cf0-b4be-1e26b792be53",
   "metadata": {},
   "outputs": [
    {
     "data": {
      "text/html": [
       "<div>\n",
       "<style scoped>\n",
       "    .dataframe tbody tr th:only-of-type {\n",
       "        vertical-align: middle;\n",
       "    }\n",
       "\n",
       "    .dataframe tbody tr th {\n",
       "        vertical-align: top;\n",
       "    }\n",
       "\n",
       "    .dataframe thead th {\n",
       "        text-align: right;\n",
       "    }\n",
       "</style>\n",
       "<table border=\"1\" class=\"dataframe\">\n",
       "  <thead>\n",
       "    <tr style=\"text-align: right;\">\n",
       "      <th></th>\n",
       "      <th>improve_sample_id</th>\n",
       "      <th>improve_chem_id</th>\n",
       "      <th>auc</th>\n",
       "    </tr>\n",
       "  </thead>\n",
       "  <tbody>\n",
       "    <tr>\n",
       "      <th>0</th>\n",
       "      <td>ACH-000956</td>\n",
       "      <td>Drug_749</td>\n",
       "      <td>0.7153</td>\n",
       "    </tr>\n",
       "    <tr>\n",
       "      <th>1</th>\n",
       "      <td>ACH-000956</td>\n",
       "      <td>Drug_1326</td>\n",
       "      <td>0.9579</td>\n",
       "    </tr>\n",
       "    <tr>\n",
       "      <th>2</th>\n",
       "      <td>ACH-000956</td>\n",
       "      <td>Drug_490</td>\n",
       "      <td>0.4130</td>\n",
       "    </tr>\n",
       "    <tr>\n",
       "      <th>3</th>\n",
       "      <td>ACH-000956</td>\n",
       "      <td>Drug_558</td>\n",
       "      <td>0.8004</td>\n",
       "    </tr>\n",
       "    <tr>\n",
       "      <th>4</th>\n",
       "      <td>ACH-000956</td>\n",
       "      <td>Drug_195</td>\n",
       "      <td>0.5743</td>\n",
       "    </tr>\n",
       "  </tbody>\n",
       "</table>\n",
       "</div>"
      ],
      "text/plain": [
       "  improve_sample_id improve_chem_id     auc\n",
       "0        ACH-000956        Drug_749  0.7153\n",
       "1        ACH-000956       Drug_1326  0.9579\n",
       "2        ACH-000956        Drug_490  0.4130\n",
       "3        ACH-000956        Drug_558  0.8004\n",
       "4        ACH-000956        Drug_195  0.5743"
      ]
     },
     "execution_count": 9,
     "metadata": {},
     "output_type": "execute_result"
    }
   ],
   "source": [
    "train_keep.head()"
   ]
  },
  {
   "cell_type": "code",
   "execution_count": 10,
   "id": "d5419618-2c8d-4418-a25e-8c3fca7facab",
   "metadata": {},
   "outputs": [
    {
     "data": {
      "text/html": [
       "<div>\n",
       "<style scoped>\n",
       "    .dataframe tbody tr th:only-of-type {\n",
       "        vertical-align: middle;\n",
       "    }\n",
       "\n",
       "    .dataframe tbody tr th {\n",
       "        vertical-align: top;\n",
       "    }\n",
       "\n",
       "    .dataframe thead th {\n",
       "        text-align: right;\n",
       "    }\n",
       "</style>\n",
       "<table border=\"1\" class=\"dataframe\">\n",
       "  <thead>\n",
       "    <tr style=\"text-align: right;\">\n",
       "      <th></th>\n",
       "      <th>improve_sample_id</th>\n",
       "      <th>improve_chem_id</th>\n",
       "      <th>auc</th>\n",
       "    </tr>\n",
       "  </thead>\n",
       "  <tbody>\n",
       "    <tr>\n",
       "      <th>0</th>\n",
       "      <td>ACH-000956</td>\n",
       "      <td>Drug_895</td>\n",
       "      <td>0.5071</td>\n",
       "    </tr>\n",
       "    <tr>\n",
       "      <th>1</th>\n",
       "      <td>ACH-000956</td>\n",
       "      <td>Drug_614</td>\n",
       "      <td>0.6525</td>\n",
       "    </tr>\n",
       "    <tr>\n",
       "      <th>2</th>\n",
       "      <td>ACH-000956</td>\n",
       "      <td>Drug_1040</td>\n",
       "      <td>0.8944</td>\n",
       "    </tr>\n",
       "    <tr>\n",
       "      <th>3</th>\n",
       "      <td>ACH-000323</td>\n",
       "      <td>Drug_1279</td>\n",
       "      <td>0.8691</td>\n",
       "    </tr>\n",
       "    <tr>\n",
       "      <th>4</th>\n",
       "      <td>ACH-000323</td>\n",
       "      <td>Drug_685</td>\n",
       "      <td>0.8527</td>\n",
       "    </tr>\n",
       "  </tbody>\n",
       "</table>\n",
       "</div>"
      ],
      "text/plain": [
       "  improve_sample_id improve_chem_id     auc\n",
       "0        ACH-000956        Drug_895  0.5071\n",
       "1        ACH-000956        Drug_614  0.6525\n",
       "2        ACH-000956       Drug_1040  0.8944\n",
       "3        ACH-000323       Drug_1279  0.8691\n",
       "4        ACH-000323        Drug_685  0.8527"
      ]
     },
     "execution_count": 10,
     "metadata": {},
     "output_type": "execute_result"
    }
   ],
   "source": [
    "valid_keep.head()"
   ]
  },
  {
   "cell_type": "code",
   "execution_count": 11,
   "id": "7ff4e338-e846-436f-a0f7-48f8116a8447",
   "metadata": {},
   "outputs": [
    {
     "data": {
      "text/plain": [
       "((7616, 3), (952, 3))"
      ]
     },
     "execution_count": 11,
     "metadata": {},
     "output_type": "execute_result"
    }
   ],
   "source": [
    "train_keep.shape, valid_keep.shape"
   ]
  },
  {
   "cell_type": "code",
   "execution_count": 12,
   "id": "162e9a6c-07e6-4078-bbc1-913afcdfe82b",
   "metadata": {},
   "outputs": [],
   "source": [
    "train_keep.columns = [\"Cell_Line\", \"Drug_ID\", \"AUC\"]\n",
    "valid_keep.columns = [\"Cell_Line\", \"Drug_ID\", \"AUC\"]"
   ]
  },
  {
   "cell_type": "code",
   "execution_count": 13,
   "id": "9b99ff58-84cc-4a8a-baf8-f57addb155b0",
   "metadata": {},
   "outputs": [
    {
     "data": {
      "text/html": [
       "<div>\n",
       "<style scoped>\n",
       "    .dataframe tbody tr th:only-of-type {\n",
       "        vertical-align: middle;\n",
       "    }\n",
       "\n",
       "    .dataframe tbody tr th {\n",
       "        vertical-align: top;\n",
       "    }\n",
       "\n",
       "    .dataframe thead th {\n",
       "        text-align: right;\n",
       "    }\n",
       "</style>\n",
       "<table border=\"1\" class=\"dataframe\">\n",
       "  <thead>\n",
       "    <tr style=\"text-align: right;\">\n",
       "      <th></th>\n",
       "      <th>Cell_Line</th>\n",
       "      <th>Drug_ID</th>\n",
       "      <th>AUC</th>\n",
       "    </tr>\n",
       "  </thead>\n",
       "  <tbody>\n",
       "    <tr>\n",
       "      <th>0</th>\n",
       "      <td>ACH-000956</td>\n",
       "      <td>Drug_749</td>\n",
       "      <td>0.7153</td>\n",
       "    </tr>\n",
       "    <tr>\n",
       "      <th>1</th>\n",
       "      <td>ACH-000956</td>\n",
       "      <td>Drug_1326</td>\n",
       "      <td>0.9579</td>\n",
       "    </tr>\n",
       "    <tr>\n",
       "      <th>2</th>\n",
       "      <td>ACH-000956</td>\n",
       "      <td>Drug_490</td>\n",
       "      <td>0.4130</td>\n",
       "    </tr>\n",
       "    <tr>\n",
       "      <th>3</th>\n",
       "      <td>ACH-000956</td>\n",
       "      <td>Drug_558</td>\n",
       "      <td>0.8004</td>\n",
       "    </tr>\n",
       "    <tr>\n",
       "      <th>4</th>\n",
       "      <td>ACH-000956</td>\n",
       "      <td>Drug_195</td>\n",
       "      <td>0.5743</td>\n",
       "    </tr>\n",
       "  </tbody>\n",
       "</table>\n",
       "</div>"
      ],
      "text/plain": [
       "    Cell_Line    Drug_ID     AUC\n",
       "0  ACH-000956   Drug_749  0.7153\n",
       "1  ACH-000956  Drug_1326  0.9579\n",
       "2  ACH-000956   Drug_490  0.4130\n",
       "3  ACH-000956   Drug_558  0.8004\n",
       "4  ACH-000956   Drug_195  0.5743"
      ]
     },
     "execution_count": 13,
     "metadata": {},
     "output_type": "execute_result"
    }
   ],
   "source": [
    "train_keep.head()"
   ]
  },
  {
   "cell_type": "code",
   "execution_count": 14,
   "id": "f7d10159-819b-4a00-9a02-514750913b7d",
   "metadata": {},
   "outputs": [
    {
     "data": {
      "text/html": [
       "<div>\n",
       "<style scoped>\n",
       "    .dataframe tbody tr th:only-of-type {\n",
       "        vertical-align: middle;\n",
       "    }\n",
       "\n",
       "    .dataframe tbody tr th {\n",
       "        vertical-align: top;\n",
       "    }\n",
       "\n",
       "    .dataframe thead th {\n",
       "        text-align: right;\n",
       "    }\n",
       "</style>\n",
       "<table border=\"1\" class=\"dataframe\">\n",
       "  <thead>\n",
       "    <tr style=\"text-align: right;\">\n",
       "      <th></th>\n",
       "      <th>Cell_Line</th>\n",
       "      <th>Drug_ID</th>\n",
       "      <th>AUC</th>\n",
       "    </tr>\n",
       "  </thead>\n",
       "  <tbody>\n",
       "    <tr>\n",
       "      <th>0</th>\n",
       "      <td>ACH-000956</td>\n",
       "      <td>Drug_895</td>\n",
       "      <td>0.5071</td>\n",
       "    </tr>\n",
       "    <tr>\n",
       "      <th>1</th>\n",
       "      <td>ACH-000956</td>\n",
       "      <td>Drug_614</td>\n",
       "      <td>0.6525</td>\n",
       "    </tr>\n",
       "    <tr>\n",
       "      <th>2</th>\n",
       "      <td>ACH-000956</td>\n",
       "      <td>Drug_1040</td>\n",
       "      <td>0.8944</td>\n",
       "    </tr>\n",
       "    <tr>\n",
       "      <th>3</th>\n",
       "      <td>ACH-000323</td>\n",
       "      <td>Drug_1279</td>\n",
       "      <td>0.8691</td>\n",
       "    </tr>\n",
       "    <tr>\n",
       "      <th>4</th>\n",
       "      <td>ACH-000323</td>\n",
       "      <td>Drug_685</td>\n",
       "      <td>0.8527</td>\n",
       "    </tr>\n",
       "  </tbody>\n",
       "</table>\n",
       "</div>"
      ],
      "text/plain": [
       "    Cell_Line    Drug_ID     AUC\n",
       "0  ACH-000956   Drug_895  0.5071\n",
       "1  ACH-000956   Drug_614  0.6525\n",
       "2  ACH-000956  Drug_1040  0.8944\n",
       "3  ACH-000323  Drug_1279  0.8691\n",
       "4  ACH-000323   Drug_685  0.8527"
      ]
     },
     "execution_count": 14,
     "metadata": {},
     "output_type": "execute_result"
    }
   ],
   "source": [
    "valid_keep.head()"
   ]
  },
  {
   "cell_type": "code",
   "execution_count": 15,
   "id": "40301079-7e4a-4f26-a166-7ce190491648",
   "metadata": {},
   "outputs": [],
   "source": [
    "samp_drug = valid_keep[\"Drug_ID\"].unique()[-1]\n",
    "samp_ach = np.array(valid_keep[\"Cell_Line\"].unique()[-1])"
   ]
  },
  {
   "cell_type": "code",
   "execution_count": 16,
   "id": "0678d9c8-a75a-42bc-9d3c-663879c5f515",
   "metadata": {},
   "outputs": [
    {
     "name": "stdout",
     "output_type": "stream",
     "text": [
      "Drug_1326\n",
      "ACH-000828\n"
     ]
    }
   ],
   "source": [
    "print(samp_drug)\n",
    "print(samp_ach)"
   ]
  },
  {
   "cell_type": "code",
   "execution_count": 17,
   "id": "ed69aa18-17b5-42d2-ade8-5756b6a22623",
   "metadata": {},
   "outputs": [],
   "source": [
    "train_gcn_feats = []\n",
    "train_adj_list = []\n",
    "for drug_id in train_keep[\"Drug_ID\"].values:\n",
    "    train_gcn_feats.append(dict_features[drug_id])\n",
    "    train_adj_list.append(dict_adj_mat[drug_id])"
   ]
  },
  {
   "cell_type": "code",
   "execution_count": 18,
   "id": "6b6a03df-6960-4384-81ca-6087dc3c157f",
   "metadata": {},
   "outputs": [
    {
     "data": {
      "text/plain": [
       "(7616, 7616)"
      ]
     },
     "execution_count": 18,
     "metadata": {},
     "output_type": "execute_result"
    }
   ],
   "source": [
    "len(train_gcn_feats), len(train_adj_list)"
   ]
  },
  {
   "cell_type": "code",
   "execution_count": 19,
   "id": "0b46a5af-d54a-4088-9d91-ab573a1ae3bf",
   "metadata": {},
   "outputs": [],
   "source": [
    "valid_gcn_feats = []\n",
    "valid_adj_list = []\n",
    "for drug_id in valid_keep[\"Drug_ID\"].values:\n",
    "    valid_gcn_feats.append(dict_features[drug_id])\n",
    "    valid_adj_list.append(dict_adj_mat[drug_id])"
   ]
  },
  {
   "cell_type": "code",
   "execution_count": 20,
   "id": "13d02c43-871c-456a-98e6-2eb7756e66b2",
   "metadata": {},
   "outputs": [
    {
     "data": {
      "text/plain": [
       "(952, 952)"
      ]
     },
     "execution_count": 20,
     "metadata": {},
     "output_type": "execute_result"
    }
   ],
   "source": [
    "len(valid_gcn_feats), len(valid_adj_list)"
   ]
  },
  {
   "cell_type": "code",
   "execution_count": 21,
   "id": "0a9794ae-7741-4267-a70d-949cb1d11fb6",
   "metadata": {},
   "outputs": [
    {
     "data": {
      "text/plain": [
       "8568"
      ]
     },
     "execution_count": 21,
     "metadata": {},
     "output_type": "execute_result"
    }
   ],
   "source": [
    "len(valid_gcn_feats) + len(train_gcn_feats)"
   ]
  },
  {
   "cell_type": "code",
   "execution_count": 22,
   "id": "ad7cf51f-9db0-4d73-b7d7-0a4aa69c0a33",
   "metadata": {},
   "outputs": [
    {
     "name": "stdout",
     "output_type": "stream",
     "text": [
      "CPU times: user 561 ms, sys: 768 ms, total: 1.33 s\n",
      "Wall time: 1.33 s\n"
     ]
    }
   ],
   "source": [
    "%%time\n",
    "# reduce the values to float16\n",
    "train_gcn_feats = np.array(train_gcn_feats).astype(\"float32\")\n",
    "valid_gcn_feats = np.array(valid_gcn_feats).astype(\"float32\")\n",
    "\n",
    "train_adj_list = np.array(train_adj_list).astype(\"float32\")\n",
    "valid_adj_list = np.array(valid_adj_list).astype(\"float32\")"
   ]
  },
  {
   "cell_type": "code",
   "execution_count": 23,
   "id": "09fc8524-9528-40ca-bf39-660c1833eae8",
   "metadata": {},
   "outputs": [],
   "source": [
    "# load trained model here\n",
    "CCLE_model = tf.keras.models.load_model('exp_result/DeepCDR_model/DeepCDR_model')"
   ]
  },
  {
   "cell_type": "code",
   "execution_count": 24,
   "id": "7c70089a-4520-403b-91cc-4c47e6e0280d",
   "metadata": {},
   "outputs": [
    {
     "name": "stdout",
     "output_type": "stream",
     "text": [
      "Model: \"model\"\n",
      "__________________________________________________________________________________________________\n",
      " Layer (type)                   Output Shape         Param #     Connected to                     \n",
      "==================================================================================================\n",
      " input_2 (InputLayer)           [(None, 223, 223)]   0           []                               \n",
      "                                                                                                  \n",
      " input_1 (InputLayer)           [(None, 223, 75)]    0           []                               \n",
      "                                                                                                  \n",
      " dot (Dot)                      (None, 223, 75)      0           ['input_2[0][0]',                \n",
      "                                                                  'input_1[0][0]']                \n",
      "                                                                                                  \n",
      " dense (Dense)                  (None, 223, 256)     19456       ['dot[0][0]']                    \n",
      "                                                                                                  \n",
      " batch_normalization (BatchNorm  (None, 223, 256)    1024        ['dense[0][0]']                  \n",
      " alization)                                                                                       \n",
      "                                                                                                  \n",
      " dropout (Dropout)              (None, 223, 256)     0           ['batch_normalization[0][0]']    \n",
      "                                                                                                  \n",
      " input_5 (InputLayer)           [(None, 1)]          0           []                               \n",
      "                                                                                                  \n",
      " dot_1 (Dot)                    (None, 223, 256)     0           ['input_2[0][0]',                \n",
      "                                                                  'dropout[0][0]']                \n",
      "                                                                                                  \n",
      " model_1 (Functional)           (None, 18739)        19226214    ['input_5[0][0]']                \n",
      "                                                                                                  \n",
      " dense_1 (Dense)                (None, 223, 256)     65792       ['dot_1[0][0]']                  \n",
      "                                                                                                  \n",
      " reshape (Reshape)              (None, 1, 18739, 1)  0           ['model_1[0][0]']                \n",
      "                                                                                                  \n",
      " batch_normalization_1 (BatchNo  (None, 223, 256)    1024        ['dense_1[0][0]']                \n",
      " rmalization)                                                                                     \n",
      "                                                                                                  \n",
      " conv2d (Conv2D)                (None, 1, 3608, 50)  35050       ['reshape[0][0]']                \n",
      "                                                                                                  \n",
      " dropout_1 (Dropout)            (None, 223, 256)     0           ['batch_normalization_1[0][0]']  \n",
      "                                                                                                  \n",
      " input_3 (InputLayer)           [(None, 1)]          0           []                               \n",
      "                                                                                                  \n",
      " input_4 (InputLayer)           [(None, 1)]          0           []                               \n",
      "                                                                                                  \n",
      " max_pooling2d (MaxPooling2D)   (None, 1, 721, 50)   0           ['conv2d[0][0]']                 \n",
      "                                                                                                  \n",
      " dot_2 (Dot)                    (None, 223, 256)     0           ['input_2[0][0]',                \n",
      "                                                                  'dropout_1[0][0]']              \n",
      "                                                                                                  \n",
      " model_2 (Functional)           (None, 19606)        16194556    ['input_3[0][0]']                \n",
      "                                                                                                  \n",
      " model (Functional)             (None, 30805)        31082245    ['input_4[0][0]']                \n",
      "                                                                                                  \n",
      " conv2d_1 (Conv2D)              (None, 1, 359, 30)   7530        ['max_pooling2d[0][0]']          \n",
      "                                                                                                  \n",
      " dense_2 (Dense)                (None, 223, 100)     25700       ['dot_2[0][0]']                  \n",
      "                                                                                                  \n",
      " dense_3 (Dense)                (None, 256)          5019392     ['model_2[0][0]']                \n",
      "                                                                                                  \n",
      " dense_5 (Dense)                (None, 256)          7886336     ['model[0][0]']                  \n",
      "                                                                                                  \n",
      " max_pooling2d_1 (MaxPooling2D)  (None, 1, 35, 30)   0           ['conv2d_1[0][0]']               \n",
      "                                                                                                  \n",
      " batch_normalization_2 (BatchNo  (None, 223, 100)    400         ['dense_2[0][0]']                \n",
      " rmalization)                                                                                     \n",
      "                                                                                                  \n",
      " batch_normalization_3 (BatchNo  (None, 256)         1024        ['dense_3[0][0]']                \n",
      " rmalization)                                                                                     \n",
      "                                                                                                  \n",
      " batch_normalization_4 (BatchNo  (None, 256)         1024        ['dense_5[0][0]']                \n",
      " rmalization)                                                                                     \n",
      "                                                                                                  \n",
      " flatten (Flatten)              (None, 1050)         0           ['max_pooling2d_1[0][0]']        \n",
      "                                                                                                  \n",
      " dropout_2 (Dropout)            (None, 223, 100)     0           ['batch_normalization_2[0][0]']  \n",
      "                                                                                                  \n",
      " dropout_3 (Dropout)            (None, 256)          0           ['batch_normalization_3[0][0]']  \n",
      "                                                                                                  \n",
      " dropout_4 (Dropout)            (None, 256)          0           ['batch_normalization_4[0][0]']  \n",
      "                                                                                                  \n",
      " dense_7 (Dense)                (None, 100)          105100      ['flatten[0][0]']                \n",
      "                                                                                                  \n",
      " global_average_pooling1d (Glob  (None, 100)         0           ['dropout_2[0][0]']              \n",
      " alAveragePooling1D)                                                                              \n",
      "                                                                                                  \n",
      " dense_4 (Dense)                (None, 100)          25700       ['dropout_3[0][0]']              \n",
      "                                                                                                  \n",
      " dense_6 (Dense)                (None, 100)          25700       ['dropout_4[0][0]']              \n",
      "                                                                                                  \n",
      " dropout_5 (Dropout)            (None, 100)          0           ['dense_7[0][0]']                \n",
      "                                                                                                  \n",
      " concatenate (Concatenate)      (None, 400)          0           ['global_average_pooling1d[0][0]'\n",
      "                                                                 , 'dense_4[0][0]',               \n",
      "                                                                  'dense_6[0][0]',                \n",
      "                                                                  'dropout_5[0][0]']              \n",
      "                                                                                                  \n",
      " dense_8 (Dense)                (None, 300)          120300      ['concatenate[0][0]']            \n",
      "                                                                                                  \n",
      " dropout_6 (Dropout)            (None, 300)          0           ['dense_8[0][0]']                \n",
      "                                                                                                  \n",
      " lambda (Lambda)                (None, 300, 1)       0           ['dropout_6[0][0]']              \n",
      "                                                                                                  \n",
      " lambda_1 (Lambda)              (None, 1, 300, 1)    0           ['lambda[0][0]']                 \n",
      "                                                                                                  \n",
      " conv2d_2 (Conv2D)              (None, 1, 151, 30)   4530        ['lambda_1[0][0]']               \n",
      "                                                                                                  \n",
      " max_pooling2d_2 (MaxPooling2D)  (None, 1, 75, 30)   0           ['conv2d_2[0][0]']               \n",
      "                                                                                                  \n",
      " conv2d_3 (Conv2D)              (None, 1, 71, 10)    1510        ['max_pooling2d_2[0][0]']        \n",
      "                                                                                                  \n",
      " max_pooling2d_3 (MaxPooling2D)  (None, 1, 23, 10)   0           ['conv2d_3[0][0]']               \n",
      "                                                                                                  \n",
      " conv2d_4 (Conv2D)              (None, 1, 19, 5)     255         ['max_pooling2d_3[0][0]']        \n",
      "                                                                                                  \n",
      " max_pooling2d_4 (MaxPooling2D)  (None, 1, 6, 5)     0           ['conv2d_4[0][0]']               \n",
      "                                                                                                  \n",
      " dropout_7 (Dropout)            (None, 1, 6, 5)      0           ['max_pooling2d_4[0][0]']        \n",
      "                                                                                                  \n",
      " flatten_1 (Flatten)            (None, 30)           0           ['dropout_7[0][0]']              \n",
      "                                                                                                  \n",
      " dropout_8 (Dropout)            (None, 30)           0           ['flatten_1[0][0]']              \n",
      "                                                                                                  \n",
      " dense_9 (Dense)                (None, 1)            31          ['dropout_8[0][0]']              \n",
      "                                                                                                  \n",
      "==================================================================================================\n",
      "Total params: 79,849,893\n",
      "Trainable params: 13,344,630\n",
      "Non-trainable params: 66,505,263\n",
      "__________________________________________________________________________________________________\n"
     ]
    }
   ],
   "source": [
    "CCLE_model.summary()"
   ]
  },
  {
   "cell_type": "code",
   "execution_count": 25,
   "id": "0cc7a4fc-a95e-4227-a6c0-916a67ec5304",
   "metadata": {},
   "outputs": [],
   "source": [
    "# create a data generator for the train data\n",
    "batch_size = 32\n",
    "generator_batch_size = 32"
   ]
  },
  {
   "cell_type": "code",
   "execution_count": 26,
   "id": "ab99523b-7731-4487-8516-31140080f55a",
   "metadata": {},
   "outputs": [
    {
     "name": "stdout",
     "output_type": "stream",
     "text": [
      "Generating batch from index 0 to 32\n"
     ]
    },
    {
     "name": "stderr",
     "output_type": "stream",
     "text": [
      "2025-04-10 10:55:09.433100: I tensorflow/compiler/xla/stream_executor/cuda/cuda_dnn.cc:428] Loaded cuDNN version 8401\n"
     ]
    },
    {
     "name": "stdout",
     "output_type": "stream",
     "text": [
      "Generating batch from index 32 to 64\n",
      "Generating batch from index 64 to 96\n",
      "Generating batch from index 96 to 128\n",
      "Generating batch from index 128 to 160\n",
      "Generating batch from index 160 to 192\n",
      "Generating batch from index 192 to 224\n",
      "Generating batch from index 224 to 256\n",
      "Generating batch from index 256 to 288\n",
      "Generating batch from index 288 to 320\n",
      "Generating batch from index 320 to 352\n",
      "Generating batch from index 352 to 384\n",
      "Generating batch from index 384 to 416\n",
      "Generating batch from index 416 to 448\n",
      "Generating batch from index 448 to 480\n",
      "Generating batch from index 480 to 512\n",
      "Generating batch from index 512 to 544\n",
      "Generating batch from index 544 to 576\n",
      "Generating batch from index 576 to 608\n",
      "Generating batch from index 608 to 640\n",
      "Generating batch from index 640 to 672\n",
      "Generating batch from index 672 to 704\n",
      "Generating batch from index 704 to 736\n",
      "Generating batch from index 736 to 768\n",
      "Generating batch from index 768 to 800\n",
      "Generating batch from index 800 to 832\n",
      "Generating batch from index 832 to 864\n",
      "Generating batch from index 864 to 896\n",
      "Generating batch from index 896 to 928\n",
      "Generating batch from index 928 to 952\n"
     ]
    }
   ],
   "source": [
    "# # get the predictions on the validation set\n",
    "\n",
    "val_steps = int(np.ceil(len(valid_gcn_feats) / generator_batch_size))\n",
    "preds_val, target_val = batch_predict(CCLE_model, data_generator(valid_gcn_feats, valid_adj_list, valid_keep[\"Cell_Line\"].values.reshape(-1,1), valid_keep[\"Cell_Line\"].values.reshape(-1,1), valid_keep[\"Cell_Line\"].values.reshape(-1,1), valid_keep[\"AUC\"].values.reshape(-1,1), generator_batch_size, shuffle = False), val_steps)   "
   ]
  },
  {
   "cell_type": "code",
   "execution_count": 27,
   "id": "5adbf333-cb45-45cc-a84b-763c0d7ee659",
   "metadata": {},
   "outputs": [],
   "source": [
    "frm.store_predictions_df(\n",
    "        y_true=target_val, \n",
    "        y_pred=preds_val, \n",
    "        stage=\"val\",\n",
    "        y_col_name=\"auc\",\n",
    "        output_dir='new_result',\n",
    "        input_dir='exp_result'\n",
    "    )"
   ]
  },
  {
   "cell_type": "code",
   "execution_count": 30,
   "id": "16e4a201-55f3-4894-bdac-3ff034c3951a",
   "metadata": {},
   "outputs": [
    {
     "name": "stdout",
     "output_type": "stream",
     "text": [
      "\n",
      "IMPROVE_RESULT val_loss:\t0.005228987737754953\n",
      "\n",
      "Validation scores:\n",
      "\t{'mse': 0.005228987737754953, 'rmse': 0.07231173997183965, 'pcc': 0.886184480102248, 'scc': 0.7734529884496383, 'r2': 0.780726142084764}\n"
     ]
    }
   ],
   "source": [
    "val_scores = frm.compute_performance_scores(\n",
    "        y_true=target_val, \n",
    "        y_pred=preds_val, \n",
    "        stage=\"val\",\n",
    "        metric_type='regression',\n",
    "        output_dir= 'new_result'\n",
    "    )"
   ]
  },
  {
   "cell_type": "code",
   "execution_count": 31,
   "id": "f1b1d19a-0d03-4ae7-9632-98dcd942a233",
   "metadata": {},
   "outputs": [],
   "source": [
    "# Predict the values for train set as well, because we need these for the NNE"
   ]
  },
  {
   "cell_type": "code",
   "execution_count": 33,
   "id": "8cc39700-1e5d-439e-9075-664f43736562",
   "metadata": {},
   "outputs": [
    {
     "name": "stdout",
     "output_type": "stream",
     "text": [
      "Generating batch from index 0 to 32\n",
      "Generating batch from index 32 to 64\n",
      "Generating batch from index 64 to 96\n",
      "Generating batch from index 96 to 128\n",
      "Generating batch from index 128 to 160\n",
      "Generating batch from index 160 to 192\n",
      "Generating batch from index 192 to 224\n",
      "Generating batch from index 224 to 256\n",
      "Generating batch from index 256 to 288\n",
      "Generating batch from index 288 to 320\n",
      "Generating batch from index 320 to 352\n",
      "Generating batch from index 352 to 384\n",
      "Generating batch from index 384 to 416\n",
      "Generating batch from index 416 to 448\n",
      "Generating batch from index 448 to 480\n",
      "Generating batch from index 480 to 512\n",
      "Generating batch from index 512 to 544\n",
      "Generating batch from index 544 to 576\n",
      "Generating batch from index 576 to 608\n",
      "Generating batch from index 608 to 640\n",
      "Generating batch from index 640 to 672\n",
      "Generating batch from index 672 to 704\n",
      "Generating batch from index 704 to 736\n",
      "Generating batch from index 736 to 768\n",
      "Generating batch from index 768 to 800\n",
      "Generating batch from index 800 to 832\n",
      "Generating batch from index 832 to 864\n",
      "Generating batch from index 864 to 896\n",
      "Generating batch from index 896 to 928\n",
      "Generating batch from index 928 to 960\n",
      "Generating batch from index 960 to 992\n",
      "Generating batch from index 992 to 1024\n",
      "Generating batch from index 1024 to 1056\n",
      "Generating batch from index 1056 to 1088\n",
      "Generating batch from index 1088 to 1120\n",
      "Generating batch from index 1120 to 1152\n",
      "Generating batch from index 1152 to 1184\n",
      "Generating batch from index 1184 to 1216\n",
      "Generating batch from index 1216 to 1248\n",
      "Generating batch from index 1248 to 1280\n",
      "Generating batch from index 1280 to 1312\n",
      "Generating batch from index 1312 to 1344\n",
      "Generating batch from index 1344 to 1376\n",
      "Generating batch from index 1376 to 1408\n",
      "Generating batch from index 1408 to 1440\n",
      "Generating batch from index 1440 to 1472\n",
      "Generating batch from index 1472 to 1504\n",
      "Generating batch from index 1504 to 1536\n",
      "Generating batch from index 1536 to 1568\n",
      "Generating batch from index 1568 to 1600\n",
      "Generating batch from index 1600 to 1632\n",
      "Generating batch from index 1632 to 1664\n",
      "Generating batch from index 1664 to 1696\n",
      "Generating batch from index 1696 to 1728\n",
      "Generating batch from index 1728 to 1760\n",
      "Generating batch from index 1760 to 1792\n",
      "Generating batch from index 1792 to 1824\n",
      "Generating batch from index 1824 to 1856\n",
      "Generating batch from index 1856 to 1888\n",
      "Generating batch from index 1888 to 1920\n",
      "Generating batch from index 1920 to 1952\n",
      "Generating batch from index 1952 to 1984\n",
      "Generating batch from index 1984 to 2016\n",
      "Generating batch from index 2016 to 2048\n",
      "Generating batch from index 2048 to 2080\n",
      "Generating batch from index 2080 to 2112\n",
      "Generating batch from index 2112 to 2144\n",
      "Generating batch from index 2144 to 2176\n",
      "Generating batch from index 2176 to 2208\n",
      "Generating batch from index 2208 to 2240\n",
      "Generating batch from index 2240 to 2272\n",
      "Generating batch from index 2272 to 2304\n",
      "Generating batch from index 2304 to 2336\n",
      "Generating batch from index 2336 to 2368\n",
      "Generating batch from index 2368 to 2400\n",
      "Generating batch from index 2400 to 2432\n",
      "Generating batch from index 2432 to 2464\n",
      "Generating batch from index 2464 to 2496\n",
      "Generating batch from index 2496 to 2528\n",
      "Generating batch from index 2528 to 2560\n",
      "Generating batch from index 2560 to 2592\n",
      "Generating batch from index 2592 to 2624\n",
      "Generating batch from index 2624 to 2656\n",
      "Generating batch from index 2656 to 2688\n",
      "Generating batch from index 2688 to 2720\n",
      "Generating batch from index 2720 to 2752\n",
      "Generating batch from index 2752 to 2784\n",
      "Generating batch from index 2784 to 2816\n",
      "Generating batch from index 2816 to 2848\n",
      "Generating batch from index 2848 to 2880\n",
      "Generating batch from index 2880 to 2912\n",
      "Generating batch from index 2912 to 2944\n",
      "Generating batch from index 2944 to 2976\n",
      "Generating batch from index 2976 to 3008\n",
      "Generating batch from index 3008 to 3040\n",
      "Generating batch from index 3040 to 3072\n",
      "Generating batch from index 3072 to 3104\n",
      "Generating batch from index 3104 to 3136\n",
      "Generating batch from index 3136 to 3168\n",
      "Generating batch from index 3168 to 3200\n",
      "Generating batch from index 3200 to 3232\n",
      "Generating batch from index 3232 to 3264\n",
      "Generating batch from index 3264 to 3296\n",
      "Generating batch from index 3296 to 3328\n",
      "Generating batch from index 3328 to 3360\n",
      "Generating batch from index 3360 to 3392\n",
      "Generating batch from index 3392 to 3424\n",
      "Generating batch from index 3424 to 3456\n",
      "Generating batch from index 3456 to 3488\n",
      "Generating batch from index 3488 to 3520\n",
      "Generating batch from index 3520 to 3552\n",
      "Generating batch from index 3552 to 3584\n",
      "Generating batch from index 3584 to 3616\n",
      "Generating batch from index 3616 to 3648\n",
      "Generating batch from index 3648 to 3680\n",
      "Generating batch from index 3680 to 3712\n",
      "Generating batch from index 3712 to 3744\n",
      "Generating batch from index 3744 to 3776\n",
      "Generating batch from index 3776 to 3808\n",
      "Generating batch from index 3808 to 3840\n",
      "Generating batch from index 3840 to 3872\n",
      "Generating batch from index 3872 to 3904\n",
      "Generating batch from index 3904 to 3936\n",
      "Generating batch from index 3936 to 3968\n",
      "Generating batch from index 3968 to 4000\n",
      "Generating batch from index 4000 to 4032\n",
      "Generating batch from index 4032 to 4064\n",
      "Generating batch from index 4064 to 4096\n",
      "Generating batch from index 4096 to 4128\n",
      "Generating batch from index 4128 to 4160\n",
      "Generating batch from index 4160 to 4192\n",
      "Generating batch from index 4192 to 4224\n",
      "Generating batch from index 4224 to 4256\n",
      "Generating batch from index 4256 to 4288\n",
      "Generating batch from index 4288 to 4320\n",
      "Generating batch from index 4320 to 4352\n",
      "Generating batch from index 4352 to 4384\n",
      "Generating batch from index 4384 to 4416\n",
      "Generating batch from index 4416 to 4448\n",
      "Generating batch from index 4448 to 4480\n",
      "Generating batch from index 4480 to 4512\n",
      "Generating batch from index 4512 to 4544\n",
      "Generating batch from index 4544 to 4576\n",
      "Generating batch from index 4576 to 4608\n",
      "Generating batch from index 4608 to 4640\n",
      "Generating batch from index 4640 to 4672\n",
      "Generating batch from index 4672 to 4704\n",
      "Generating batch from index 4704 to 4736\n",
      "Generating batch from index 4736 to 4768\n",
      "Generating batch from index 4768 to 4800\n",
      "Generating batch from index 4800 to 4832\n",
      "Generating batch from index 4832 to 4864\n",
      "Generating batch from index 4864 to 4896\n",
      "Generating batch from index 4896 to 4928\n",
      "Generating batch from index 4928 to 4960\n",
      "Generating batch from index 4960 to 4992\n",
      "Generating batch from index 4992 to 5024\n",
      "Generating batch from index 5024 to 5056\n",
      "Generating batch from index 5056 to 5088\n",
      "Generating batch from index 5088 to 5120\n",
      "Generating batch from index 5120 to 5152\n",
      "Generating batch from index 5152 to 5184\n",
      "Generating batch from index 5184 to 5216\n",
      "Generating batch from index 5216 to 5248\n",
      "Generating batch from index 5248 to 5280\n",
      "Generating batch from index 5280 to 5312\n",
      "Generating batch from index 5312 to 5344\n",
      "Generating batch from index 5344 to 5376\n",
      "Generating batch from index 5376 to 5408\n",
      "Generating batch from index 5408 to 5440\n",
      "Generating batch from index 5440 to 5472\n",
      "Generating batch from index 5472 to 5504\n",
      "Generating batch from index 5504 to 5536\n",
      "Generating batch from index 5536 to 5568\n",
      "Generating batch from index 5568 to 5600\n",
      "Generating batch from index 5600 to 5632\n",
      "Generating batch from index 5632 to 5664\n",
      "Generating batch from index 5664 to 5696\n",
      "Generating batch from index 5696 to 5728\n",
      "Generating batch from index 5728 to 5760\n",
      "Generating batch from index 5760 to 5792\n",
      "Generating batch from index 5792 to 5824\n",
      "Generating batch from index 5824 to 5856\n",
      "Generating batch from index 5856 to 5888\n",
      "Generating batch from index 5888 to 5920\n",
      "Generating batch from index 5920 to 5952\n",
      "Generating batch from index 5952 to 5984\n",
      "Generating batch from index 5984 to 6016\n",
      "Generating batch from index 6016 to 6048\n",
      "Generating batch from index 6048 to 6080\n",
      "Generating batch from index 6080 to 6112\n",
      "Generating batch from index 6112 to 6144\n",
      "Generating batch from index 6144 to 6176\n",
      "Generating batch from index 6176 to 6208\n",
      "Generating batch from index 6208 to 6240\n",
      "Generating batch from index 6240 to 6272\n",
      "Generating batch from index 6272 to 6304\n",
      "Generating batch from index 6304 to 6336\n",
      "Generating batch from index 6336 to 6368\n",
      "Generating batch from index 6368 to 6400\n",
      "Generating batch from index 6400 to 6432\n",
      "Generating batch from index 6432 to 6464\n",
      "Generating batch from index 6464 to 6496\n",
      "Generating batch from index 6496 to 6528\n",
      "Generating batch from index 6528 to 6560\n",
      "Generating batch from index 6560 to 6592\n",
      "Generating batch from index 6592 to 6624\n",
      "Generating batch from index 6624 to 6656\n",
      "Generating batch from index 6656 to 6688\n",
      "Generating batch from index 6688 to 6720\n",
      "Generating batch from index 6720 to 6752\n",
      "Generating batch from index 6752 to 6784\n",
      "Generating batch from index 6784 to 6816\n",
      "Generating batch from index 6816 to 6848\n",
      "Generating batch from index 6848 to 6880\n",
      "Generating batch from index 6880 to 6912\n",
      "Generating batch from index 6912 to 6944\n",
      "Generating batch from index 6944 to 6976\n",
      "Generating batch from index 6976 to 7008\n",
      "Generating batch from index 7008 to 7040\n",
      "Generating batch from index 7040 to 7072\n",
      "Generating batch from index 7072 to 7104\n",
      "Generating batch from index 7104 to 7136\n",
      "Generating batch from index 7136 to 7168\n",
      "Generating batch from index 7168 to 7200\n",
      "Generating batch from index 7200 to 7232\n",
      "Generating batch from index 7232 to 7264\n",
      "Generating batch from index 7264 to 7296\n",
      "Generating batch from index 7296 to 7328\n",
      "Generating batch from index 7328 to 7360\n",
      "Generating batch from index 7360 to 7392\n",
      "Generating batch from index 7392 to 7424\n",
      "Generating batch from index 7424 to 7456\n",
      "Generating batch from index 7456 to 7488\n",
      "Generating batch from index 7488 to 7520\n",
      "Generating batch from index 7520 to 7552\n",
      "Generating batch from index 7552 to 7584\n",
      "Generating batch from index 7584 to 7616\n"
     ]
    }
   ],
   "source": [
    "train_steps = int(np.ceil(len(train_gcn_feats) / generator_batch_size))\n",
    "preds_train, target_train = batch_predict(CCLE_model, data_generator(train_gcn_feats, train_adj_list, train_keep[\"Cell_Line\"].values.reshape(-1,1), train_keep[\"Cell_Line\"].values.reshape(-1,1), train_keep[\"Cell_Line\"].values.reshape(-1,1), train_keep[\"AUC\"].values.reshape(-1,1), generator_batch_size, shuffle = False), train_steps) "
   ]
  },
  {
   "cell_type": "code",
   "execution_count": 34,
   "id": "284c6121-86fd-417a-9708-318c3255d06e",
   "metadata": {},
   "outputs": [],
   "source": [
    "frm.store_predictions_df(\n",
    "        y_true=target_train, \n",
    "        y_pred=preds_train, \n",
    "        stage=\"train\",\n",
    "        y_col_name=\"auc\",\n",
    "        output_dir='new_result',\n",
    "        input_dir='exp_result'\n",
    "    )"
   ]
  },
  {
   "cell_type": "code",
   "execution_count": 35,
   "id": "fa426c92-50a3-4c93-9435-98adc1b12b34",
   "metadata": {},
   "outputs": [
    {
     "name": "stdout",
     "output_type": "stream",
     "text": [
      "Invalid stage: must be 'val' or 'test'.\n"
     ]
    }
   ],
   "source": [
    "val_scores = frm.compute_performance_scores(\n",
    "        y_true=target_train, \n",
    "        y_pred=preds_train, \n",
    "        stage=\"train\",\n",
    "        metric_type='regression',\n",
    "        output_dir= 'new_result'\n",
    "    )"
   ]
  },
  {
   "cell_type": "code",
   "execution_count": 37,
   "id": "cc432572-04b9-4316-bbc5-02bba0a980f5",
   "metadata": {},
   "outputs": [],
   "source": [
    "# Notice this still creates the json file for the train scores even if it spits out that the stage should be val or test, so evrything is okay. "
   ]
  },
  {
   "cell_type": "code",
   "execution_count": 36,
   "id": "2bc6d4df-be38-47b5-b86d-53fa5e78a9b3",
   "metadata": {},
   "outputs": [],
   "source": [
    "# So what next? We still need to be able to able ot train the models for a number of iterations inorder to get the bootsrap predictions"
   ]
  },
  {
   "cell_type": "code",
   "execution_count": 38,
   "id": "30c426bc-8fdd-4baa-bfb1-e34b854b546a",
   "metadata": {},
   "outputs": [],
   "source": [
    "# Does not seem that straight forward"
   ]
  },
  {
   "cell_type": "code",
   "execution_count": 39,
   "id": "a9c45629-eec2-4abd-ad82-4e06629d0627",
   "metadata": {},
   "outputs": [],
   "source": [
    "# Should we have whatever we have in a .py script from the trained failed jupyternotebook and see if this script works? That way, it might be easier to debug"
   ]
  },
  {
   "cell_type": "code",
   "execution_count": null,
   "id": "a010e2aa-ef46-4e39-972f-cb4698681350",
   "metadata": {},
   "outputs": [],
   "source": []
  }
 ],
 "metadata": {
  "kernelspec": {
   "display_name": "Python (deepcdr_improve_env)",
   "language": "python",
   "name": "deepcdr_improve_env"
  },
  "language_info": {
   "codemirror_mode": {
    "name": "ipython",
    "version": 3
   },
   "file_extension": ".py",
   "mimetype": "text/x-python",
   "name": "python",
   "nbconvert_exporter": "python",
   "pygments_lexer": "ipython3",
   "version": "3.8.16"
  }
 },
 "nbformat": 4,
 "nbformat_minor": 5
}
