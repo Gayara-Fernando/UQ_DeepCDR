{
 "cells": [
  {
   "cell_type": "code",
   "execution_count": 1,
   "id": "4b04c60c-3cd5-40c2-861b-7d97e3ed31d1",
   "metadata": {},
   "outputs": [],
   "source": [
    "# We will create a data generator object here that would be helpful when doing bootstrap samples\n",
    "\n",
    "# The current one we have is using the yield function, and this does not allow to index and get some batches, which is crucial for bootstrapping. Therefore we will regrenerate this function using tf.keras.utils.Sequence class."
   ]
  },
  {
   "cell_type": "code",
   "execution_count": 2,
   "id": "234dfcc7-92d9-4e9c-8cde-f92eb9042e16",
   "metadata": {},
   "outputs": [],
   "source": [
    "# we will still need all our data, and we will need to see if indeed our new generator work, that's what we will do here"
   ]
  },
  {
   "cell_type": "code",
   "execution_count": 3,
   "id": "dd2e3199-607d-4351-96cc-0e3c5e759d47",
   "metadata": {},
   "outputs": [],
   "source": [
    "# let's import the necessary packages here"
   ]
  },
  {
   "cell_type": "code",
   "execution_count": 4,
   "id": "64ac6f93-266e-4d05-a0d7-197df5442c0f",
   "metadata": {},
   "outputs": [
    {
     "name": "stderr",
     "output_type": "stream",
     "text": [
      "2025-04-15 13:41:45.281125: I tensorflow/core/platform/cpu_feature_guard.cc:193] This TensorFlow binary is optimized with oneAPI Deep Neural Network Library (oneDNN) to use the following CPU instructions in performance-critical operations:  SSE4.1 SSE4.2 AVX AVX2 AVX512F AVX512_VNNI FMA\n",
      "To enable them in other operations, rebuild TensorFlow with the appropriate compiler flags.\n",
      "2025-04-15 13:41:48.309531: I tensorflow/core/util/port.cc:104] oneDNN custom operations are on. You may see slightly different numerical results due to floating-point round-off errors from different computation orders. To turn them off, set the environment variable `TF_ENABLE_ONEDNN_OPTS=0`.\n"
     ]
    }
   ],
   "source": [
    "# These are the ones that is already on the train script\n",
    "import os\n",
    "import json\n",
    "import sys\n",
    "import warnings\n",
    "from pathlib import Path\n",
    "from pprint import pformat\n",
    "from typing import Dict, Union\n",
    "import tensorflow as tf\n",
    "\n",
    "import pickle\n",
    "import pandas as pd\n",
    "import numpy as np\n",
    "from tensorflow.keras import backend as K\n",
    "from create_data_generator import data_generator, batch_predict\n",
    "\n",
    "# [Req] IMPROVE imports\n",
    "# notice that the improvelibs are in the folder that is a level above, but in the same parent directory\n",
    "sys.path.append(os.path.abspath(os.path.join('..', 'IMPROVE')))\n",
    "from improvelib.applications.drug_response_prediction.config import DRPTrainConfig\n",
    "from improvelib.utils import str2bool\n",
    "import improvelib.utils as frm\n",
    "from improvelib.metrics import compute_metrics\n",
    "\n",
    "# Model-specific imports\n",
    "from model_params_def import train_params # [Req]"
   ]
  },
  {
   "cell_type": "code",
   "execution_count": 5,
   "id": "6b170153-6140-469b-a6aa-1ddec369173d",
   "metadata": {},
   "outputs": [],
   "source": [
    "# any new additional packages necessary for the generator goes here\n",
    "from tensorflow.keras.utils import Sequence\n",
    "# need numpy here as well, but we already have this"
   ]
  },
  {
   "cell_type": "code",
   "execution_count": 6,
   "id": "ffd2467c-922f-4a38-8d98-f1a405b64802",
   "metadata": {},
   "outputs": [],
   "source": [
    "# we need all our data, and possibly the model too, let's make sure we have all these things here"
   ]
  },
  {
   "cell_type": "code",
   "execution_count": 7,
   "id": "81939c28-deef-49d5-996d-07e025409e08",
   "metadata": {},
   "outputs": [],
   "source": [
    "training = False\n",
    "dropout1 = 0.10\n",
    "dropout2 = 0.20\n",
    "## get the model architecture\n",
    "def deepcdrgcn(dict_features, dict_adj_mat, samp_drug, samp_ach, cancer_dna_methy_model, cancer_gen_expr_model, cancer_gen_mut_model, training = training, dropout1 = dropout1, dropout2 = dropout2):\n",
    "    \n",
    "    input_gcn_features = tf.keras.layers.Input(shape = (dict_features[samp_drug].shape[0], 75))\n",
    "    input_norm_adj_mat = tf.keras.layers.Input(shape = (dict_adj_mat[samp_drug].shape[0], dict_adj_mat[samp_drug].shape[0]))\n",
    "    mult_1 = tf.keras.layers.Dot(1)([input_norm_adj_mat, input_gcn_features])\n",
    "    dense_layer_gcn = tf.keras.layers.Dense(256, activation = \"relu\")\n",
    "    dense_out = dense_layer_gcn(mult_1)\n",
    "    dense_out = tf.keras.layers.BatchNormalization()(dense_out)\n",
    "    dense_out = tf.keras.layers.Dropout(dropout1)(dense_out, training = training)\n",
    "    mult_2 = tf.keras.layers.Dot(1)([input_norm_adj_mat, dense_out])\n",
    "    dense_layer_gcn = tf.keras.layers.Dense(256, activation = \"relu\")\n",
    "    dense_out = dense_layer_gcn(mult_2)\n",
    "    dense_out = tf.keras.layers.BatchNormalization()(dense_out)\n",
    "    dense_out = tf.keras.layers.Dropout(dropout1)(dense_out, training = training)\n",
    "\n",
    "    dense_layer_gcn = tf.keras.layers.Dense(100, activation = \"relu\")\n",
    "    mult_3 = tf.keras.layers.Dot(1)([input_norm_adj_mat, dense_out])\n",
    "    dense_out = dense_layer_gcn(mult_3)\n",
    "    dense_out = tf.keras.layers.BatchNormalization()(dense_out)\n",
    "    dense_out = tf.keras.layers.Dropout(dropout1)(dense_out, training = training)\n",
    "\n",
    "    dense_out = tf.keras.layers.GlobalAvgPool1D()(dense_out)\n",
    "    # All above code is for GCN for drugs\n",
    "\n",
    "    # methylation data\n",
    "    input_gen_methy1 = tf.keras.layers.Input(shape = (1,), dtype = tf.string)\n",
    "    input_gen_methy = cancer_dna_methy_model(input_gen_methy1)\n",
    "    input_gen_methy.trainable = False\n",
    "    gen_methy_layer = tf.keras.layers.Dense(256, activation = \"tanh\")\n",
    "    \n",
    "    gen_methy_emb = gen_methy_layer(input_gen_methy)\n",
    "    gen_methy_emb = tf.keras.layers.BatchNormalization()(gen_methy_emb)\n",
    "    gen_methy_emb = tf.keras.layers.Dropout(dropout1)(gen_methy_emb, training = training)\n",
    "    gen_methy_layer = tf.keras.layers.Dense(100, activation = \"relu\")\n",
    "    gen_methy_emb = gen_methy_layer(gen_methy_emb)\n",
    "\n",
    "    # gene expression data\n",
    "    input_gen_expr1 = tf.keras.layers.Input(shape = (1,), dtype = tf.string)\n",
    "    input_gen_expr = cancer_gen_expr_model(input_gen_expr1)\n",
    "    input_gen_expr.trainable = False\n",
    "    gen_expr_layer = tf.keras.layers.Dense(256, activation = \"tanh\")\n",
    "    \n",
    "    gen_expr_emb = gen_expr_layer(input_gen_expr)\n",
    "    gen_expr_emb = tf.keras.layers.BatchNormalization()(gen_expr_emb)\n",
    "    gen_expr_emb = tf.keras.layers.Dropout(dropout1)(gen_expr_emb, training = training)\n",
    "    gen_expr_layer = tf.keras.layers.Dense(100, activation = \"relu\")\n",
    "    gen_expr_emb = gen_expr_layer(gen_expr_emb)\n",
    "    \n",
    "    \n",
    "    input_gen_mut1 = tf.keras.layers.Input(shape = (1,), dtype = tf.string)\n",
    "    input_gen_mut = cancer_gen_mut_model(input_gen_mut1)\n",
    "    input_gen_mut.trainable = False\n",
    "    \n",
    "    reshape_gen_mut = tf.keras.layers.Reshape((1, cancer_gen_mut_model(samp_ach).numpy().shape[0], 1))\n",
    "    reshape_gen_mut = reshape_gen_mut(input_gen_mut)\n",
    "    gen_mut_layer = tf.keras.layers.Conv2D(50, (1, 700), strides=5, activation = \"tanh\")\n",
    "    gen_mut_emb = gen_mut_layer(reshape_gen_mut)\n",
    "    pool_layer = tf.keras.layers.MaxPooling2D((1,5))\n",
    "    pool_out = pool_layer(gen_mut_emb)\n",
    "    gen_mut_layer = tf.keras.layers.Conv2D(30, (1, 5), strides=2, activation = \"relu\")\n",
    "    gen_mut_emb = gen_mut_layer(pool_out)\n",
    "    pool_layer = tf.keras.layers.MaxPooling2D((1,10))\n",
    "    pool_out = pool_layer(gen_mut_emb)\n",
    "    flatten_layer = tf.keras.layers.Flatten()\n",
    "    flatten_out = flatten_layer(pool_out)\n",
    "    x_mut = tf.keras.layers.Dense(100,activation = 'relu')(flatten_out)\n",
    "    x_mut = tf.keras.layers.Dropout(dropout1)(x_mut)\n",
    "    \n",
    "    all_omics = tf.keras.layers.Concatenate()([dense_out, gen_methy_emb, gen_expr_emb, x_mut])\n",
    "    x = tf.keras.layers.Dense(300,activation = 'tanh')(all_omics)\n",
    "    x = tf.keras.layers.Dropout(dropout1)(x, training = training)\n",
    "    x = tf.keras.layers.Lambda(lambda x: K.expand_dims(x,axis=-1))(x)\n",
    "    x = tf.keras.layers.Lambda(lambda x: K.expand_dims(x,axis=1))(x)\n",
    "    x = tf.keras.layers.Conv2D(filters=30, kernel_size=(1,150),strides=(1, 1), activation = 'relu',padding='valid')(x)\n",
    "    x = tf.keras.layers.MaxPooling2D(pool_size=(1,2))(x)\n",
    "    x = tf.keras.layers.Conv2D(filters=10, kernel_size=(1,5),strides=(1, 1), activation = 'relu',padding='valid')(x)\n",
    "    x = tf.keras.layers.MaxPooling2D(pool_size=(1,3))(x)\n",
    "    x = tf.keras.layers.Conv2D(filters=5, kernel_size=(1,5),strides=(1, 1), activation = 'relu',padding='valid')(x)\n",
    "    x = tf.keras.layers.MaxPooling2D(pool_size=(1,3))(x)\n",
    "    x = tf.keras.layers.Dropout(dropout1)(x, training = training)\n",
    "    x = tf.keras.layers.Flatten()(x)\n",
    "    x = tf.keras.layers.Dropout(dropout2)(x, training = training)\n",
    "    final_out_layer = tf.keras.layers.Dense(1, activation = \"linear\")\n",
    "    final_out = final_out_layer(x)\n",
    "    simplecdr = tf.keras.models.Model([input_gcn_features, input_norm_adj_mat, input_gen_expr1,\n",
    "                                   input_gen_methy1, input_gen_mut1], final_out)\n",
    "    \n",
    "    return simplecdr"
   ]
  },
  {
   "cell_type": "code",
   "execution_count": 8,
   "id": "e637a3c9-1b24-481c-87e0-d33190c97276",
   "metadata": {},
   "outputs": [],
   "source": [
    "modelpath = frm.build_model_path(model_file_name=\"DeepCDR_model\", model_file_format=\"\", model_dir=\"exp_result\")"
   ]
  },
  {
   "cell_type": "code",
   "execution_count": 9,
   "id": "70529785-38db-4bf1-95d0-c37e659d67ce",
   "metadata": {},
   "outputs": [
    {
     "data": {
      "text/plain": [
       "PosixPath('exp_result/DeepCDR_model')"
      ]
     },
     "execution_count": 9,
     "metadata": {},
     "output_type": "execute_result"
    }
   ],
   "source": [
    "modelpath"
   ]
  },
  {
   "cell_type": "code",
   "execution_count": 10,
   "id": "53bc2be7-6a48-4b71-88d8-f2d2983a38d9",
   "metadata": {},
   "outputs": [],
   "source": [
    "train_data_fname = frm.build_ml_data_file_name(data_format=\".csv\", stage=\"train\")  # [Req]\n",
    "val_data_fname = frm.build_ml_data_file_name(data_format=\".csv\", stage=\"val\")  # [Req]"
   ]
  },
  {
   "cell_type": "code",
   "execution_count": 11,
   "id": "9a8ebae7-f6a5-42c2-91a9-78bd44895b13",
   "metadata": {},
   "outputs": [
    {
     "name": "stdout",
     "output_type": "stream",
     "text": [
      "train_data.csv\n",
      "val_data.csv\n"
     ]
    }
   ],
   "source": [
    "print(train_data_fname)\n",
    "print(val_data_fname)"
   ]
  },
  {
   "cell_type": "code",
   "execution_count": 12,
   "id": "3d305290-c0ba-43b1-9e89-831e12db11d2",
   "metadata": {},
   "outputs": [],
   "source": [
    "# specify the directory where preprocessed data is stored\n",
    "data_dir = 'exp_result'"
   ]
  },
  {
   "cell_type": "code",
   "execution_count": 13,
   "id": "9c36695c-7057-47f1-b941-e2db7d95893c",
   "metadata": {},
   "outputs": [
    {
     "name": "stderr",
     "output_type": "stream",
     "text": [
      "2025-04-15 13:42:16.026769: I tensorflow/core/platform/cpu_feature_guard.cc:193] This TensorFlow binary is optimized with oneAPI Deep Neural Network Library (oneDNN) to use the following CPU instructions in performance-critical operations:  SSE4.1 SSE4.2 AVX AVX2 AVX512F AVX512_VNNI FMA\n",
      "To enable them in other operations, rebuild TensorFlow with the appropriate compiler flags.\n",
      "2025-04-15 13:42:21.074820: I tensorflow/core/common_runtime/gpu/gpu_device.cc:1613] Created device /job:localhost/replica:0/task:0/device:GPU:0 with 30960 MB memory:  -> device: 0, name: Tesla V100S-PCIE-32GB, pci bus id: 0000:06:00.0, compute capability: 7.0\n"
     ]
    },
    {
     "name": "stdout",
     "output_type": "stream",
     "text": [
      "WARNING:tensorflow:No training configuration found in save file, so the model was *not* compiled. Compile it manually.\n"
     ]
    },
    {
     "name": "stderr",
     "output_type": "stream",
     "text": [
      "WARNING tensorflow 2025-04-15 13:42:21,975:\tNo training configuration found in save file, so the model was *not* compiled. Compile it manually.\n"
     ]
    },
    {
     "name": "stdout",
     "output_type": "stream",
     "text": [
      "WARNING:tensorflow:No training configuration found in save file, so the model was *not* compiled. Compile it manually.\n"
     ]
    },
    {
     "name": "stderr",
     "output_type": "stream",
     "text": [
      "WARNING tensorflow 2025-04-15 13:42:22,246:\tNo training configuration found in save file, so the model was *not* compiled. Compile it manually.\n"
     ]
    },
    {
     "name": "stdout",
     "output_type": "stream",
     "text": [
      "WARNING:tensorflow:No training configuration found in save file, so the model was *not* compiled. Compile it manually.\n"
     ]
    },
    {
     "name": "stderr",
     "output_type": "stream",
     "text": [
      "WARNING tensorflow 2025-04-15 13:42:22,480:\tNo training configuration found in save file, so the model was *not* compiled. Compile it manually.\n"
     ]
    },
    {
     "name": "stdout",
     "output_type": "stream",
     "text": [
      "CPU times: user 1.28 s, sys: 920 ms, total: 2.2 s\n",
      "Wall time: 7.45 s\n"
     ]
    }
   ],
   "source": [
    "%%time\n",
    "# load the models\n",
    "cancer_gen_expr_model = tf.keras.models.load_model(os.path.join(data_dir,\"cancer_gen_expr_model\"))\n",
    "cancer_gen_mut_model = tf.keras.models.load_model(os.path.join(data_dir, \"cancer_gen_mut_model\"))\n",
    "cancer_dna_methy_model = tf.keras.models.load_model(os.path.join(data_dir, \"cancer_dna_methy_model\"))"
   ]
  },
  {
   "cell_type": "code",
   "execution_count": 14,
   "id": "40643e6e-a8c3-4c75-b0dd-d93b7d2129eb",
   "metadata": {},
   "outputs": [],
   "source": [
    "cancer_gen_expr_model.trainable = False\n",
    "cancer_gen_mut_model.trainable = False\n",
    "cancer_dna_methy_model.trainable = False"
   ]
  },
  {
   "cell_type": "code",
   "execution_count": 15,
   "id": "da987fc9-c967-4cbc-bf27-f3df36a9e537",
   "metadata": {},
   "outputs": [],
   "source": [
    "with open(os.path.join(data_dir, \"drug_features.pickle\"),\"rb\") as f:\n",
    "        dict_features = pickle.load(f)"
   ]
  },
  {
   "cell_type": "code",
   "execution_count": 16,
   "id": "9a3f9344-bc08-43b7-9b5e-671372201625",
   "metadata": {},
   "outputs": [],
   "source": [
    "with open(os.path.join(data_dir, \"norm_adj_mat.pickle\"),\"rb\") as f:\n",
    "        dict_adj_mat = pickle.load(f)"
   ]
  },
  {
   "cell_type": "code",
   "execution_count": 17,
   "id": "df5b9e22-f4f9-4ab1-9065-5962f1d37954",
   "metadata": {},
   "outputs": [],
   "source": [
    "train_keep = pd.read_csv(os.path.join(data_dir, \"train_y_data.csv\"))\n",
    "valid_keep = pd.read_csv(os.path.join(data_dir, \"val_y_data.csv\"))"
   ]
  },
  {
   "cell_type": "code",
   "execution_count": 18,
   "id": "d915cb46-5b64-4429-a591-0f0b34472079",
   "metadata": {},
   "outputs": [
    {
     "data": {
      "text/html": [
       "<div>\n",
       "<style scoped>\n",
       "    .dataframe tbody tr th:only-of-type {\n",
       "        vertical-align: middle;\n",
       "    }\n",
       "\n",
       "    .dataframe tbody tr th {\n",
       "        vertical-align: top;\n",
       "    }\n",
       "\n",
       "    .dataframe thead th {\n",
       "        text-align: right;\n",
       "    }\n",
       "</style>\n",
       "<table border=\"1\" class=\"dataframe\">\n",
       "  <thead>\n",
       "    <tr style=\"text-align: right;\">\n",
       "      <th></th>\n",
       "      <th>improve_sample_id</th>\n",
       "      <th>improve_chem_id</th>\n",
       "      <th>auc</th>\n",
       "    </tr>\n",
       "  </thead>\n",
       "  <tbody>\n",
       "    <tr>\n",
       "      <th>0</th>\n",
       "      <td>ACH-000956</td>\n",
       "      <td>Drug_749</td>\n",
       "      <td>0.7153</td>\n",
       "    </tr>\n",
       "    <tr>\n",
       "      <th>1</th>\n",
       "      <td>ACH-000956</td>\n",
       "      <td>Drug_1326</td>\n",
       "      <td>0.9579</td>\n",
       "    </tr>\n",
       "    <tr>\n",
       "      <th>2</th>\n",
       "      <td>ACH-000956</td>\n",
       "      <td>Drug_490</td>\n",
       "      <td>0.4130</td>\n",
       "    </tr>\n",
       "    <tr>\n",
       "      <th>3</th>\n",
       "      <td>ACH-000956</td>\n",
       "      <td>Drug_558</td>\n",
       "      <td>0.8004</td>\n",
       "    </tr>\n",
       "    <tr>\n",
       "      <th>4</th>\n",
       "      <td>ACH-000956</td>\n",
       "      <td>Drug_195</td>\n",
       "      <td>0.5743</td>\n",
       "    </tr>\n",
       "  </tbody>\n",
       "</table>\n",
       "</div>"
      ],
      "text/plain": [
       "  improve_sample_id improve_chem_id     auc\n",
       "0        ACH-000956        Drug_749  0.7153\n",
       "1        ACH-000956       Drug_1326  0.9579\n",
       "2        ACH-000956        Drug_490  0.4130\n",
       "3        ACH-000956        Drug_558  0.8004\n",
       "4        ACH-000956        Drug_195  0.5743"
      ]
     },
     "execution_count": 18,
     "metadata": {},
     "output_type": "execute_result"
    }
   ],
   "source": [
    "train_keep.head()"
   ]
  },
  {
   "cell_type": "code",
   "execution_count": 19,
   "id": "69bc4cf9-9d41-4881-8285-d29575059a15",
   "metadata": {},
   "outputs": [
    {
     "data": {
      "text/html": [
       "<div>\n",
       "<style scoped>\n",
       "    .dataframe tbody tr th:only-of-type {\n",
       "        vertical-align: middle;\n",
       "    }\n",
       "\n",
       "    .dataframe tbody tr th {\n",
       "        vertical-align: top;\n",
       "    }\n",
       "\n",
       "    .dataframe thead th {\n",
       "        text-align: right;\n",
       "    }\n",
       "</style>\n",
       "<table border=\"1\" class=\"dataframe\">\n",
       "  <thead>\n",
       "    <tr style=\"text-align: right;\">\n",
       "      <th></th>\n",
       "      <th>improve_sample_id</th>\n",
       "      <th>improve_chem_id</th>\n",
       "      <th>auc</th>\n",
       "    </tr>\n",
       "  </thead>\n",
       "  <tbody>\n",
       "    <tr>\n",
       "      <th>0</th>\n",
       "      <td>ACH-000956</td>\n",
       "      <td>Drug_895</td>\n",
       "      <td>0.5071</td>\n",
       "    </tr>\n",
       "    <tr>\n",
       "      <th>1</th>\n",
       "      <td>ACH-000956</td>\n",
       "      <td>Drug_614</td>\n",
       "      <td>0.6525</td>\n",
       "    </tr>\n",
       "    <tr>\n",
       "      <th>2</th>\n",
       "      <td>ACH-000956</td>\n",
       "      <td>Drug_1040</td>\n",
       "      <td>0.8944</td>\n",
       "    </tr>\n",
       "    <tr>\n",
       "      <th>3</th>\n",
       "      <td>ACH-000323</td>\n",
       "      <td>Drug_1279</td>\n",
       "      <td>0.8691</td>\n",
       "    </tr>\n",
       "    <tr>\n",
       "      <th>4</th>\n",
       "      <td>ACH-000323</td>\n",
       "      <td>Drug_685</td>\n",
       "      <td>0.8527</td>\n",
       "    </tr>\n",
       "  </tbody>\n",
       "</table>\n",
       "</div>"
      ],
      "text/plain": [
       "  improve_sample_id improve_chem_id     auc\n",
       "0        ACH-000956        Drug_895  0.5071\n",
       "1        ACH-000956        Drug_614  0.6525\n",
       "2        ACH-000956       Drug_1040  0.8944\n",
       "3        ACH-000323       Drug_1279  0.8691\n",
       "4        ACH-000323        Drug_685  0.8527"
      ]
     },
     "execution_count": 19,
     "metadata": {},
     "output_type": "execute_result"
    }
   ],
   "source": [
    "valid_keep.head()"
   ]
  },
  {
   "cell_type": "code",
   "execution_count": 20,
   "id": "9e1971a9-d6ef-4893-9a8e-37b92c0eaa5e",
   "metadata": {},
   "outputs": [
    {
     "data": {
      "text/plain": [
       "((7616, 3), (952, 3))"
      ]
     },
     "execution_count": 20,
     "metadata": {},
     "output_type": "execute_result"
    }
   ],
   "source": [
    "train_keep.shape, valid_keep.shape"
   ]
  },
  {
   "cell_type": "code",
   "execution_count": 21,
   "id": "70ab9a5a-8766-46a0-8223-3db4cd371178",
   "metadata": {},
   "outputs": [],
   "source": [
    "train_keep.columns = [\"Cell_Line\", \"Drug_ID\", \"AUC\"]\n",
    "valid_keep.columns = [\"Cell_Line\", \"Drug_ID\", \"AUC\"]"
   ]
  },
  {
   "cell_type": "code",
   "execution_count": 22,
   "id": "501b13fd-76b3-4d1f-8616-5d2ca10a19f9",
   "metadata": {},
   "outputs": [
    {
     "data": {
      "text/html": [
       "<div>\n",
       "<style scoped>\n",
       "    .dataframe tbody tr th:only-of-type {\n",
       "        vertical-align: middle;\n",
       "    }\n",
       "\n",
       "    .dataframe tbody tr th {\n",
       "        vertical-align: top;\n",
       "    }\n",
       "\n",
       "    .dataframe thead th {\n",
       "        text-align: right;\n",
       "    }\n",
       "</style>\n",
       "<table border=\"1\" class=\"dataframe\">\n",
       "  <thead>\n",
       "    <tr style=\"text-align: right;\">\n",
       "      <th></th>\n",
       "      <th>Cell_Line</th>\n",
       "      <th>Drug_ID</th>\n",
       "      <th>AUC</th>\n",
       "    </tr>\n",
       "  </thead>\n",
       "  <tbody>\n",
       "    <tr>\n",
       "      <th>0</th>\n",
       "      <td>ACH-000956</td>\n",
       "      <td>Drug_749</td>\n",
       "      <td>0.7153</td>\n",
       "    </tr>\n",
       "    <tr>\n",
       "      <th>1</th>\n",
       "      <td>ACH-000956</td>\n",
       "      <td>Drug_1326</td>\n",
       "      <td>0.9579</td>\n",
       "    </tr>\n",
       "    <tr>\n",
       "      <th>2</th>\n",
       "      <td>ACH-000956</td>\n",
       "      <td>Drug_490</td>\n",
       "      <td>0.4130</td>\n",
       "    </tr>\n",
       "    <tr>\n",
       "      <th>3</th>\n",
       "      <td>ACH-000956</td>\n",
       "      <td>Drug_558</td>\n",
       "      <td>0.8004</td>\n",
       "    </tr>\n",
       "    <tr>\n",
       "      <th>4</th>\n",
       "      <td>ACH-000956</td>\n",
       "      <td>Drug_195</td>\n",
       "      <td>0.5743</td>\n",
       "    </tr>\n",
       "  </tbody>\n",
       "</table>\n",
       "</div>"
      ],
      "text/plain": [
       "    Cell_Line    Drug_ID     AUC\n",
       "0  ACH-000956   Drug_749  0.7153\n",
       "1  ACH-000956  Drug_1326  0.9579\n",
       "2  ACH-000956   Drug_490  0.4130\n",
       "3  ACH-000956   Drug_558  0.8004\n",
       "4  ACH-000956   Drug_195  0.5743"
      ]
     },
     "execution_count": 22,
     "metadata": {},
     "output_type": "execute_result"
    }
   ],
   "source": [
    "train_keep.head()"
   ]
  },
  {
   "cell_type": "code",
   "execution_count": 23,
   "id": "99755c9a-fd63-4a61-b73e-56064764eb76",
   "metadata": {},
   "outputs": [
    {
     "data": {
      "text/html": [
       "<div>\n",
       "<style scoped>\n",
       "    .dataframe tbody tr th:only-of-type {\n",
       "        vertical-align: middle;\n",
       "    }\n",
       "\n",
       "    .dataframe tbody tr th {\n",
       "        vertical-align: top;\n",
       "    }\n",
       "\n",
       "    .dataframe thead th {\n",
       "        text-align: right;\n",
       "    }\n",
       "</style>\n",
       "<table border=\"1\" class=\"dataframe\">\n",
       "  <thead>\n",
       "    <tr style=\"text-align: right;\">\n",
       "      <th></th>\n",
       "      <th>Cell_Line</th>\n",
       "      <th>Drug_ID</th>\n",
       "      <th>AUC</th>\n",
       "    </tr>\n",
       "  </thead>\n",
       "  <tbody>\n",
       "    <tr>\n",
       "      <th>0</th>\n",
       "      <td>ACH-000956</td>\n",
       "      <td>Drug_895</td>\n",
       "      <td>0.5071</td>\n",
       "    </tr>\n",
       "    <tr>\n",
       "      <th>1</th>\n",
       "      <td>ACH-000956</td>\n",
       "      <td>Drug_614</td>\n",
       "      <td>0.6525</td>\n",
       "    </tr>\n",
       "    <tr>\n",
       "      <th>2</th>\n",
       "      <td>ACH-000956</td>\n",
       "      <td>Drug_1040</td>\n",
       "      <td>0.8944</td>\n",
       "    </tr>\n",
       "    <tr>\n",
       "      <th>3</th>\n",
       "      <td>ACH-000323</td>\n",
       "      <td>Drug_1279</td>\n",
       "      <td>0.8691</td>\n",
       "    </tr>\n",
       "    <tr>\n",
       "      <th>4</th>\n",
       "      <td>ACH-000323</td>\n",
       "      <td>Drug_685</td>\n",
       "      <td>0.8527</td>\n",
       "    </tr>\n",
       "  </tbody>\n",
       "</table>\n",
       "</div>"
      ],
      "text/plain": [
       "    Cell_Line    Drug_ID     AUC\n",
       "0  ACH-000956   Drug_895  0.5071\n",
       "1  ACH-000956   Drug_614  0.6525\n",
       "2  ACH-000956  Drug_1040  0.8944\n",
       "3  ACH-000323  Drug_1279  0.8691\n",
       "4  ACH-000323   Drug_685  0.8527"
      ]
     },
     "execution_count": 23,
     "metadata": {},
     "output_type": "execute_result"
    }
   ],
   "source": [
    "valid_keep.head()"
   ]
  },
  {
   "cell_type": "code",
   "execution_count": 24,
   "id": "25384dea-be91-43c6-97e2-0af49b3d122a",
   "metadata": {},
   "outputs": [],
   "source": [
    "samp_drug = valid_keep[\"Drug_ID\"].unique()[-1]\n",
    "samp_ach = np.array(valid_keep[\"Cell_Line\"].unique()[-1])"
   ]
  },
  {
   "cell_type": "code",
   "execution_count": 25,
   "id": "7b1714d2-29df-4e46-8bf1-4d6c97d4c0bb",
   "metadata": {},
   "outputs": [
    {
     "name": "stdout",
     "output_type": "stream",
     "text": [
      "Drug_1326\n",
      "ACH-000828\n"
     ]
    }
   ],
   "source": [
    "print(samp_drug)\n",
    "print(samp_ach)"
   ]
  },
  {
   "cell_type": "code",
   "execution_count": 26,
   "id": "78799402-0c2f-41c7-b975-e8e6014f63c4",
   "metadata": {},
   "outputs": [],
   "source": [
    "train_gcn_feats = []\n",
    "train_adj_list = []\n",
    "for drug_id in train_keep[\"Drug_ID\"].values:\n",
    "    train_gcn_feats.append(dict_features[drug_id])\n",
    "    train_adj_list.append(dict_adj_mat[drug_id])"
   ]
  },
  {
   "cell_type": "code",
   "execution_count": 27,
   "id": "f7a6b4a9-7e04-4f5a-b34b-c2fa6de8a6cf",
   "metadata": {},
   "outputs": [
    {
     "data": {
      "text/plain": [
       "(7616, 7616)"
      ]
     },
     "execution_count": 27,
     "metadata": {},
     "output_type": "execute_result"
    }
   ],
   "source": [
    "len(train_gcn_feats), len(train_adj_list)"
   ]
  },
  {
   "cell_type": "code",
   "execution_count": 28,
   "id": "bbdca317-3cc0-434b-abcc-98628b4bc966",
   "metadata": {},
   "outputs": [],
   "source": [
    "valid_gcn_feats = []\n",
    "valid_adj_list = []\n",
    "for drug_id in valid_keep[\"Drug_ID\"].values:\n",
    "    valid_gcn_feats.append(dict_features[drug_id])\n",
    "    valid_adj_list.append(dict_adj_mat[drug_id])"
   ]
  },
  {
   "cell_type": "code",
   "execution_count": 29,
   "id": "11df1c4e-12ac-4587-9150-cf82b9a20462",
   "metadata": {},
   "outputs": [
    {
     "data": {
      "text/plain": [
       "(952, 952)"
      ]
     },
     "execution_count": 29,
     "metadata": {},
     "output_type": "execute_result"
    }
   ],
   "source": [
    "len(valid_gcn_feats), len(valid_adj_list)"
   ]
  },
  {
   "cell_type": "code",
   "execution_count": 30,
   "id": "2f44c01e-8735-4417-9659-4ea1c96aeb08",
   "metadata": {},
   "outputs": [
    {
     "data": {
      "text/plain": [
       "8568"
      ]
     },
     "execution_count": 30,
     "metadata": {},
     "output_type": "execute_result"
    }
   ],
   "source": [
    "len(valid_gcn_feats) + len(train_gcn_feats)"
   ]
  },
  {
   "cell_type": "code",
   "execution_count": 31,
   "id": "b3058f2e-c32d-4fb7-aba8-b7b4bdedee82",
   "metadata": {},
   "outputs": [
    {
     "name": "stdout",
     "output_type": "stream",
     "text": [
      "CPU times: user 491 ms, sys: 819 ms, total: 1.31 s\n",
      "Wall time: 1.31 s\n"
     ]
    }
   ],
   "source": [
    "%%time\n",
    "# reduce the values to float16\n",
    "train_gcn_feats = np.array(train_gcn_feats).astype(\"float32\")\n",
    "valid_gcn_feats = np.array(valid_gcn_feats).astype(\"float32\")\n",
    "\n",
    "train_adj_list = np.array(train_adj_list).astype(\"float32\")\n",
    "valid_adj_list = np.array(valid_adj_list).astype(\"float32\")"
   ]
  },
  {
   "cell_type": "code",
   "execution_count": 32,
   "id": "5594f653-c099-48a9-8750-4bb56126947f",
   "metadata": {},
   "outputs": [
    {
     "data": {
      "text/plain": [
       "(7616, 223, 75)"
      ]
     },
     "execution_count": 32,
     "metadata": {},
     "output_type": "execute_result"
    }
   ],
   "source": [
    "train_gcn_feats.shape"
   ]
  },
  {
   "cell_type": "code",
   "execution_count": 33,
   "id": "c499d157-9747-4228-a7e6-b7a39838ea42",
   "metadata": {},
   "outputs": [
    {
     "data": {
      "text/plain": [
       "(7616, 223, 223)"
      ]
     },
     "execution_count": 33,
     "metadata": {},
     "output_type": "execute_result"
    }
   ],
   "source": [
    "train_adj_list.shape"
   ]
  },
  {
   "cell_type": "code",
   "execution_count": 34,
   "id": "2789b6b2-f26b-46c5-aeb9-0545c7833ca4",
   "metadata": {},
   "outputs": [
    {
     "data": {
      "text/plain": [
       "array([['ACH-000956'],\n",
       "       ['ACH-000956'],\n",
       "       ['ACH-000956'],\n",
       "       ...,\n",
       "       ['ACH-000828'],\n",
       "       ['ACH-000828'],\n",
       "       ['ACH-000828']], dtype=object)"
      ]
     },
     "execution_count": 34,
     "metadata": {},
     "output_type": "execute_result"
    }
   ],
   "source": [
    "train_keep[\"Cell_Line\"].values.reshape(-1,1)"
   ]
  },
  {
   "cell_type": "code",
   "execution_count": 35,
   "id": "52d32bbb-ca3b-4455-9cb6-200a3caf09e0",
   "metadata": {},
   "outputs": [
    {
     "data": {
      "text/plain": [
       "(7616, 1)"
      ]
     },
     "execution_count": 35,
     "metadata": {},
     "output_type": "execute_result"
    }
   ],
   "source": [
    "train_keep[\"Cell_Line\"].values.reshape(-1,1).shape"
   ]
  },
  {
   "cell_type": "code",
   "execution_count": 36,
   "id": "f75c62a1-4b4f-429c-9555-f6e0436d9f87",
   "metadata": {},
   "outputs": [],
   "source": [
    "# valid_keep[\"Cell_Line\"].values.reshape(-1,1)"
   ]
  },
  {
   "cell_type": "code",
   "execution_count": 37,
   "id": "c0a020c9-cc60-4a2e-ae32-1e890af6db72",
   "metadata": {},
   "outputs": [
    {
     "data": {
      "text/plain": [
       "(952, 1)"
      ]
     },
     "execution_count": 37,
     "metadata": {},
     "output_type": "execute_result"
    }
   ],
   "source": [
    "valid_keep[\"Cell_Line\"].values.reshape(-1,1).shape"
   ]
  },
  {
   "cell_type": "code",
   "execution_count": 38,
   "id": "388b6c38-146c-4b9f-a94f-c546bc7df530",
   "metadata": {},
   "outputs": [
    {
     "data": {
      "text/plain": [
       "(952,)"
      ]
     },
     "execution_count": 38,
     "metadata": {},
     "output_type": "execute_result"
    }
   ],
   "source": [
    "valid_keep[\"AUC\"].shape"
   ]
  },
  {
   "cell_type": "code",
   "execution_count": 39,
   "id": "62a7b701-5bb2-41d8-a906-337dc7b36500",
   "metadata": {},
   "outputs": [],
   "source": [
    "# Okay, we cannot use the previous generator, therefore we will build a new custom generator that weill allow us to index correctly"
   ]
  },
  {
   "cell_type": "code",
   "execution_count": 40,
   "id": "bd03c49e-4af1-4027-b5d6-54e8d62d947d",
   "metadata": {},
   "outputs": [],
   "source": [
    "# We do this using a class instance/object. We use __init__ to initialize the object's attributes - like "
   ]
  },
  {
   "cell_type": "code",
   "execution_count": 41,
   "id": "a3f9dba2-0653-413a-bafb-de7f1659d553",
   "metadata": {},
   "outputs": [],
   "source": [
    "# example\n",
    "\n",
    "class Student:\n",
    "    def __init__(self, name, major):\n",
    "        self.name = name\n",
    "        self.major = major\n",
    "\n",
    "    def say_hello(self):\n",
    "        print(f\"Hi, I'm {self.name} and I study {self.major}.\")"
   ]
  },
  {
   "cell_type": "code",
   "execution_count": 42,
   "id": "e2622ee1-1d3e-42f4-9d90-e27332270b84",
   "metadata": {},
   "outputs": [],
   "source": [
    "s = Student(\"Gayara\", \"Statistics\")"
   ]
  },
  {
   "cell_type": "code",
   "execution_count": 43,
   "id": "6a38f964-2cfd-455a-80f7-b35ff4e4db51",
   "metadata": {},
   "outputs": [
    {
     "data": {
      "text/plain": [
       "'Gayara'"
      ]
     },
     "execution_count": 43,
     "metadata": {},
     "output_type": "execute_result"
    }
   ],
   "source": [
    "s.name"
   ]
  },
  {
   "cell_type": "code",
   "execution_count": 44,
   "id": "435d3219-a59d-4537-994b-30ffdc4c3a81",
   "metadata": {},
   "outputs": [
    {
     "data": {
      "text/plain": [
       "'Statistics'"
      ]
     },
     "execution_count": 44,
     "metadata": {},
     "output_type": "execute_result"
    }
   ],
   "source": [
    "s.major"
   ]
  },
  {
   "cell_type": "code",
   "execution_count": 45,
   "id": "e4289464-fcc5-4e51-8b69-7e604f556bcf",
   "metadata": {},
   "outputs": [
    {
     "name": "stdout",
     "output_type": "stream",
     "text": [
      "Hi, I'm Gayara and I study Statistics.\n"
     ]
    }
   ],
   "source": [
    "s.say_hello()"
   ]
  },
  {
   "cell_type": "code",
   "execution_count": 46,
   "id": "d1f6adeb-5bd6-4c5d-b4fa-35f004ea99f5",
   "metadata": {},
   "outputs": [],
   "source": [
    "# can we write the class aletrnatively as follows?"
   ]
  },
  {
   "cell_type": "code",
   "execution_count": 47,
   "id": "fedcff89-cb66-4aab-b05b-35716d4482ac",
   "metadata": {},
   "outputs": [],
   "source": [
    "# example\n",
    "\n",
    "class Student_alt:\n",
    "    def __init__(self, name, major):\n",
    "        self.nm = name\n",
    "        self.mj = major\n",
    "\n",
    "    def say_hello(self):\n",
    "        print(f\"Hi, I'm {self.nm} and I study {self.mj}.\")"
   ]
  },
  {
   "cell_type": "code",
   "execution_count": 48,
   "id": "d75c54d2-b2b6-47c6-a019-01dcc50232d9",
   "metadata": {},
   "outputs": [],
   "source": [
    "s_alt = Student_alt(\"hrr\", \"Hell\")"
   ]
  },
  {
   "cell_type": "code",
   "execution_count": 49,
   "id": "4483263b-d114-4679-b19f-4f37473ff0a0",
   "metadata": {},
   "outputs": [
    {
     "data": {
      "text/plain": [
       "'hrr'"
      ]
     },
     "execution_count": 49,
     "metadata": {},
     "output_type": "execute_result"
    }
   ],
   "source": [
    "s_alt.nm"
   ]
  },
  {
   "cell_type": "code",
   "execution_count": 50,
   "id": "2108d525-c6bb-4bbf-9a25-a643c7731aea",
   "metadata": {},
   "outputs": [
    {
     "data": {
      "text/plain": [
       "'Hell'"
      ]
     },
     "execution_count": 50,
     "metadata": {},
     "output_type": "execute_result"
    }
   ],
   "source": [
    "s_alt.mj"
   ]
  },
  {
   "cell_type": "code",
   "execution_count": 51,
   "id": "0362e8cb-f64c-4c6d-9404-c3e46e4866e3",
   "metadata": {},
   "outputs": [
    {
     "name": "stdout",
     "output_type": "stream",
     "text": [
      "Hi, I'm hrr and I study Hell.\n"
     ]
    }
   ],
   "source": [
    "s_alt.say_hello()"
   ]
  },
  {
   "cell_type": "code",
   "execution_count": 52,
   "id": "3848df04-b088-455d-a167-f8120f70bf2c",
   "metadata": {},
   "outputs": [],
   "source": [
    "# This say hello is called a method (eventhough it is a function) asit lives inside a class"
   ]
  },
  {
   "cell_type": "code",
   "execution_count": null,
   "id": "29e82b8e-b4b5-4fa1-a60e-55bd0ca67566",
   "metadata": {},
   "outputs": [],
   "source": [
    "# Let's try writing the generator class here\n",
    "\n",
    "class MySequenceGenerator(Sequence):\n",
    "    def __init__(self, data_indices, batch_size)\n",
    "\n",
    "    "
   ]
  },
  {
   "cell_type": "code",
   "execution_count": null,
   "id": "b07531f0-46cc-4621-a813-7581fa728fa7",
   "metadata": {},
   "outputs": [],
   "source": []
  },
  {
   "cell_type": "code",
   "execution_count": null,
   "id": "4f2bdb0a-17fe-4f0d-b012-b280568a54b2",
   "metadata": {},
   "outputs": [],
   "source": []
  },
  {
   "cell_type": "code",
   "execution_count": null,
   "id": "56a19a83-ac7c-4d24-b81a-618cdf749bca",
   "metadata": {},
   "outputs": [],
   "source": []
  },
  {
   "cell_type": "code",
   "execution_count": null,
   "id": "37805526-905b-43a3-95d5-33598a4eec6d",
   "metadata": {},
   "outputs": [],
   "source": []
  },
  {
   "cell_type": "code",
   "execution_count": null,
   "id": "ccf341a7-c8cb-418f-8cf3-6d3c8bf05eab",
   "metadata": {},
   "outputs": [],
   "source": []
  },
  {
   "cell_type": "code",
   "execution_count": null,
   "id": "18edc5c1-f932-4ae4-b3e8-e2afb7bfee4d",
   "metadata": {},
   "outputs": [],
   "source": []
  },
  {
   "cell_type": "code",
   "execution_count": null,
   "id": "a5e9c351-196f-4689-ab2a-4ff70318feec",
   "metadata": {},
   "outputs": [],
   "source": []
  }
 ],
 "metadata": {
  "kernelspec": {
   "display_name": "Python (deepcdr_improve_env)",
   "language": "python",
   "name": "deepcdr_improve_env"
  },
  "language_info": {
   "codemirror_mode": {
    "name": "ipython",
    "version": 3
   },
   "file_extension": ".py",
   "mimetype": "text/x-python",
   "name": "python",
   "nbconvert_exporter": "python",
   "pygments_lexer": "ipython3",
   "version": "3.8.16"
  }
 },
 "nbformat": 4,
 "nbformat_minor": 5
}
