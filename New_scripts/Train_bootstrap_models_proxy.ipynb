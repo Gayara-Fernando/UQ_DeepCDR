{
 "cells": [
  {
   "cell_type": "code",
   "execution_count": 1,
   "id": "1cae08b7-b7b0-4f6f-bfd7-d8fe9d97a034",
   "metadata": {},
   "outputs": [
    {
     "name": "stderr",
     "output_type": "stream",
     "text": [
      "2025-04-21 12:39:06.947421: I tensorflow/core/platform/cpu_feature_guard.cc:193] This TensorFlow binary is optimized with oneAPI Deep Neural Network Library (oneDNN) to use the following CPU instructions in performance-critical operations:  SSE4.1 SSE4.2 AVX AVX2 AVX512F AVX512_VNNI FMA\n",
      "To enable them in other operations, rebuild TensorFlow with the appropriate compiler flags.\n",
      "2025-04-21 12:39:07.967066: I tensorflow/core/util/port.cc:104] oneDNN custom operations are on. You may see slightly different numerical results due to floating-point round-off errors from different computation orders. To turn them off, set the environment variable `TF_ENABLE_ONEDNN_OPTS=0`.\n"
     ]
    }
   ],
   "source": [
    "# These are the ones that is already on the train script\n",
    "import os\n",
    "import json\n",
    "import sys\n",
    "import warnings\n",
    "from pathlib import Path\n",
    "from pprint import pformat\n",
    "from typing import Dict, Union\n",
    "import tensorflow as tf\n",
    "\n",
    "import pickle\n",
    "import pandas as pd\n",
    "import numpy as np\n",
    "from tensorflow.keras import backend as K\n",
    "# generator related imports\n",
    "from New_data_generator_with_tf import DataGenerator, BootstrapGenerator, batch_predict\n",
    "from tensorflow.keras.utils import Sequence\n",
    "\n",
    "# [Req] IMPROVE imports\n",
    "# notice that the improvelibs are in the folder that is a level above, but in the same parent directory\n",
    "sys.path.append(os.path.abspath(os.path.join('..', 'IMPROVE')))\n",
    "from improvelib.applications.drug_response_prediction.config import DRPTrainConfig\n",
    "from improvelib.utils import str2bool\n",
    "import improvelib.utils as frm\n",
    "from improvelib.metrics import compute_metrics\n",
    "\n",
    "# Model-specific imports\n",
    "from model_params_def import train_params # [Req]"
   ]
  },
  {
   "cell_type": "code",
   "execution_count": 2,
   "id": "d7356e17-6eff-427d-9aae-e67920d1b89b",
   "metadata": {},
   "outputs": [],
   "source": [
    "training = False\n",
    "dropout1 = 0.10\n",
    "dropout2 = 0.20\n",
    "## get the model architecture\n",
    "def deepcdrgcn(dict_features, dict_adj_mat, samp_drug, samp_ach, cancer_dna_methy_model, cancer_gen_expr_model, cancer_gen_mut_model, training = training, dropout1 = dropout1, dropout2 = dropout2):\n",
    "    \n",
    "    input_gcn_features = tf.keras.layers.Input(shape = (dict_features[samp_drug].shape[0], 75))\n",
    "    input_norm_adj_mat = tf.keras.layers.Input(shape = (dict_adj_mat[samp_drug].shape[0], dict_adj_mat[samp_drug].shape[0]))\n",
    "    mult_1 = tf.keras.layers.Dot(1)([input_norm_adj_mat, input_gcn_features])\n",
    "    dense_layer_gcn = tf.keras.layers.Dense(256, activation = \"relu\")\n",
    "    dense_out = dense_layer_gcn(mult_1)\n",
    "    dense_out = tf.keras.layers.BatchNormalization()(dense_out)\n",
    "    dense_out = tf.keras.layers.Dropout(dropout1)(dense_out, training = training)\n",
    "    mult_2 = tf.keras.layers.Dot(1)([input_norm_adj_mat, dense_out])\n",
    "    dense_layer_gcn = tf.keras.layers.Dense(256, activation = \"relu\")\n",
    "    dense_out = dense_layer_gcn(mult_2)\n",
    "    dense_out = tf.keras.layers.BatchNormalization()(dense_out)\n",
    "    dense_out = tf.keras.layers.Dropout(dropout1)(dense_out, training = training)\n",
    "\n",
    "    dense_layer_gcn = tf.keras.layers.Dense(100, activation = \"relu\")\n",
    "    mult_3 = tf.keras.layers.Dot(1)([input_norm_adj_mat, dense_out])\n",
    "    dense_out = dense_layer_gcn(mult_3)\n",
    "    dense_out = tf.keras.layers.BatchNormalization()(dense_out)\n",
    "    dense_out = tf.keras.layers.Dropout(dropout1)(dense_out, training = training)\n",
    "\n",
    "    dense_out = tf.keras.layers.GlobalAvgPool1D()(dense_out)\n",
    "    # All above code is for GCN for drugs\n",
    "\n",
    "    # methylation data\n",
    "    input_gen_methy1 = tf.keras.layers.Input(shape = (1,), dtype = tf.string)\n",
    "    input_gen_methy = cancer_dna_methy_model(input_gen_methy1)\n",
    "    input_gen_methy.trainable = False\n",
    "    gen_methy_layer = tf.keras.layers.Dense(256, activation = \"tanh\")\n",
    "    \n",
    "    gen_methy_emb = gen_methy_layer(input_gen_methy)\n",
    "    gen_methy_emb = tf.keras.layers.BatchNormalization()(gen_methy_emb)\n",
    "    gen_methy_emb = tf.keras.layers.Dropout(dropout1)(gen_methy_emb, training = training)\n",
    "    gen_methy_layer = tf.keras.layers.Dense(100, activation = \"relu\")\n",
    "    gen_methy_emb = gen_methy_layer(gen_methy_emb)\n",
    "\n",
    "    # gene expression data\n",
    "    input_gen_expr1 = tf.keras.layers.Input(shape = (1,), dtype = tf.string)\n",
    "    input_gen_expr = cancer_gen_expr_model(input_gen_expr1)\n",
    "    input_gen_expr.trainable = False\n",
    "    gen_expr_layer = tf.keras.layers.Dense(256, activation = \"tanh\")\n",
    "    \n",
    "    gen_expr_emb = gen_expr_layer(input_gen_expr)\n",
    "    gen_expr_emb = tf.keras.layers.BatchNormalization()(gen_expr_emb)\n",
    "    gen_expr_emb = tf.keras.layers.Dropout(dropout1)(gen_expr_emb, training = training)\n",
    "    gen_expr_layer = tf.keras.layers.Dense(100, activation = \"relu\")\n",
    "    gen_expr_emb = gen_expr_layer(gen_expr_emb)\n",
    "    \n",
    "    \n",
    "    input_gen_mut1 = tf.keras.layers.Input(shape = (1,), dtype = tf.string)\n",
    "    input_gen_mut = cancer_gen_mut_model(input_gen_mut1)\n",
    "    input_gen_mut.trainable = False\n",
    "    \n",
    "    reshape_gen_mut = tf.keras.layers.Reshape((1, cancer_gen_mut_model(samp_ach).numpy().shape[0], 1))\n",
    "    reshape_gen_mut = reshape_gen_mut(input_gen_mut)\n",
    "    gen_mut_layer = tf.keras.layers.Conv2D(50, (1, 700), strides=5, activation = \"tanh\")\n",
    "    gen_mut_emb = gen_mut_layer(reshape_gen_mut)\n",
    "    pool_layer = tf.keras.layers.MaxPooling2D((1,5))\n",
    "    pool_out = pool_layer(gen_mut_emb)\n",
    "    gen_mut_layer = tf.keras.layers.Conv2D(30, (1, 5), strides=2, activation = \"relu\")\n",
    "    gen_mut_emb = gen_mut_layer(pool_out)\n",
    "    pool_layer = tf.keras.layers.MaxPooling2D((1,10))\n",
    "    pool_out = pool_layer(gen_mut_emb)\n",
    "    flatten_layer = tf.keras.layers.Flatten()\n",
    "    flatten_out = flatten_layer(pool_out)\n",
    "    x_mut = tf.keras.layers.Dense(100,activation = 'relu')(flatten_out)\n",
    "    x_mut = tf.keras.layers.Dropout(dropout1)(x_mut)\n",
    "    \n",
    "    all_omics = tf.keras.layers.Concatenate()([dense_out, gen_methy_emb, gen_expr_emb, x_mut])\n",
    "    x = tf.keras.layers.Dense(300,activation = 'tanh')(all_omics)\n",
    "    x = tf.keras.layers.Dropout(dropout1)(x, training = training)\n",
    "    x = tf.keras.layers.Lambda(lambda x: K.expand_dims(x,axis=-1))(x)\n",
    "    x = tf.keras.layers.Lambda(lambda x: K.expand_dims(x,axis=1))(x)\n",
    "    x = tf.keras.layers.Conv2D(filters=30, kernel_size=(1,150),strides=(1, 1), activation = 'relu',padding='valid')(x)\n",
    "    x = tf.keras.layers.MaxPooling2D(pool_size=(1,2))(x)\n",
    "    x = tf.keras.layers.Conv2D(filters=10, kernel_size=(1,5),strides=(1, 1), activation = 'relu',padding='valid')(x)\n",
    "    x = tf.keras.layers.MaxPooling2D(pool_size=(1,3))(x)\n",
    "    x = tf.keras.layers.Conv2D(filters=5, kernel_size=(1,5),strides=(1, 1), activation = 'relu',padding='valid')(x)\n",
    "    x = tf.keras.layers.MaxPooling2D(pool_size=(1,3))(x)\n",
    "    x = tf.keras.layers.Dropout(dropout1)(x, training = training)\n",
    "    x = tf.keras.layers.Flatten()(x)\n",
    "    x = tf.keras.layers.Dropout(dropout2)(x, training = training)\n",
    "    final_out_layer = tf.keras.layers.Dense(1, activation = \"linear\")\n",
    "    final_out = final_out_layer(x)\n",
    "    simplecdr = tf.keras.models.Model([input_gcn_features, input_norm_adj_mat, input_gen_expr1,\n",
    "                                   input_gen_methy1, input_gen_mut1], final_out)\n",
    "    \n",
    "    return simplecdr"
   ]
  },
  {
   "cell_type": "code",
   "execution_count": 3,
   "id": "1681ac59-5572-4c53-8eaf-90071c96a647",
   "metadata": {},
   "outputs": [],
   "source": [
    "# specify the directory where preprocessed data is stored\n",
    "data_dir = 'exp_result'"
   ]
  },
  {
   "cell_type": "code",
   "execution_count": 4,
   "id": "c66a14c5-b877-44af-a3c5-b0bd5bb7c026",
   "metadata": {},
   "outputs": [
    {
     "name": "stderr",
     "output_type": "stream",
     "text": [
      "2025-04-21 12:39:23.829398: I tensorflow/core/platform/cpu_feature_guard.cc:193] This TensorFlow binary is optimized with oneAPI Deep Neural Network Library (oneDNN) to use the following CPU instructions in performance-critical operations:  SSE4.1 SSE4.2 AVX AVX2 AVX512F AVX512_VNNI FMA\n",
      "To enable them in other operations, rebuild TensorFlow with the appropriate compiler flags.\n",
      "2025-04-21 12:39:25.576670: I tensorflow/core/common_runtime/gpu/gpu_device.cc:1613] Created device /job:localhost/replica:0/task:0/device:GPU:0 with 30960 MB memory:  -> device: 0, name: Tesla V100S-PCIE-32GB, pci bus id: 0000:06:00.0, compute capability: 7.0\n"
     ]
    },
    {
     "name": "stdout",
     "output_type": "stream",
     "text": [
      "WARNING:tensorflow:No training configuration found in save file, so the model was *not* compiled. Compile it manually.\n"
     ]
    },
    {
     "name": "stderr",
     "output_type": "stream",
     "text": [
      "WARNING tensorflow 2025-04-21 12:39:26,478:\tNo training configuration found in save file, so the model was *not* compiled. Compile it manually.\n"
     ]
    },
    {
     "name": "stdout",
     "output_type": "stream",
     "text": [
      "WARNING:tensorflow:No training configuration found in save file, so the model was *not* compiled. Compile it manually.\n"
     ]
    },
    {
     "name": "stderr",
     "output_type": "stream",
     "text": [
      "WARNING tensorflow 2025-04-21 12:39:26,779:\tNo training configuration found in save file, so the model was *not* compiled. Compile it manually.\n"
     ]
    },
    {
     "name": "stdout",
     "output_type": "stream",
     "text": [
      "WARNING:tensorflow:No training configuration found in save file, so the model was *not* compiled. Compile it manually.\n"
     ]
    },
    {
     "name": "stderr",
     "output_type": "stream",
     "text": [
      "WARNING tensorflow 2025-04-21 12:39:27,064:\tNo training configuration found in save file, so the model was *not* compiled. Compile it manually.\n"
     ]
    },
    {
     "name": "stdout",
     "output_type": "stream",
     "text": [
      "CPU times: user 1.09 s, sys: 764 ms, total: 1.85 s\n",
      "Wall time: 3.61 s\n"
     ]
    }
   ],
   "source": [
    "%%time\n",
    "# load the models\n",
    "cancer_gen_expr_model = tf.keras.models.load_model(os.path.join(data_dir,\"cancer_gen_expr_model\"))\n",
    "cancer_gen_mut_model = tf.keras.models.load_model(os.path.join(data_dir, \"cancer_gen_mut_model\"))\n",
    "cancer_dna_methy_model = tf.keras.models.load_model(os.path.join(data_dir, \"cancer_dna_methy_model\"))"
   ]
  },
  {
   "cell_type": "code",
   "execution_count": 5,
   "id": "40d8a6be-aab4-4573-ae14-fd35cfc71a59",
   "metadata": {},
   "outputs": [],
   "source": [
    "cancer_gen_expr_model.trainable = False\n",
    "cancer_gen_mut_model.trainable = False\n",
    "cancer_dna_methy_model.trainable = False"
   ]
  },
  {
   "cell_type": "code",
   "execution_count": 6,
   "id": "16c9c483-748c-4854-a0e7-a7d1f9741c28",
   "metadata": {},
   "outputs": [],
   "source": [
    "with open(os.path.join(data_dir, \"drug_features.pickle\"),\"rb\") as f:\n",
    "        dict_features = pickle.load(f)"
   ]
  },
  {
   "cell_type": "code",
   "execution_count": 7,
   "id": "aaf25500-c5bb-4198-95b7-17f03942970d",
   "metadata": {},
   "outputs": [],
   "source": [
    "with open(os.path.join(data_dir, \"norm_adj_mat.pickle\"),\"rb\") as f:\n",
    "        dict_adj_mat = pickle.load(f)"
   ]
  },
  {
   "cell_type": "code",
   "execution_count": 8,
   "id": "1aa7840a-5860-4cd0-90df-9fd8dfde081e",
   "metadata": {},
   "outputs": [],
   "source": [
    "train_keep = pd.read_csv(os.path.join(data_dir, \"train_y_data.csv\"))\n",
    "valid_keep = pd.read_csv(os.path.join(data_dir, \"val_y_data.csv\"))"
   ]
  },
  {
   "cell_type": "code",
   "execution_count": 9,
   "id": "80a46825-8206-4a99-8f65-4c806928fa50",
   "metadata": {},
   "outputs": [
    {
     "data": {
      "text/html": [
       "<div>\n",
       "<style scoped>\n",
       "    .dataframe tbody tr th:only-of-type {\n",
       "        vertical-align: middle;\n",
       "    }\n",
       "\n",
       "    .dataframe tbody tr th {\n",
       "        vertical-align: top;\n",
       "    }\n",
       "\n",
       "    .dataframe thead th {\n",
       "        text-align: right;\n",
       "    }\n",
       "</style>\n",
       "<table border=\"1\" class=\"dataframe\">\n",
       "  <thead>\n",
       "    <tr style=\"text-align: right;\">\n",
       "      <th></th>\n",
       "      <th>improve_sample_id</th>\n",
       "      <th>improve_chem_id</th>\n",
       "      <th>auc</th>\n",
       "    </tr>\n",
       "  </thead>\n",
       "  <tbody>\n",
       "    <tr>\n",
       "      <th>0</th>\n",
       "      <td>ACH-000956</td>\n",
       "      <td>Drug_749</td>\n",
       "      <td>0.7153</td>\n",
       "    </tr>\n",
       "    <tr>\n",
       "      <th>1</th>\n",
       "      <td>ACH-000956</td>\n",
       "      <td>Drug_1326</td>\n",
       "      <td>0.9579</td>\n",
       "    </tr>\n",
       "    <tr>\n",
       "      <th>2</th>\n",
       "      <td>ACH-000956</td>\n",
       "      <td>Drug_490</td>\n",
       "      <td>0.4130</td>\n",
       "    </tr>\n",
       "    <tr>\n",
       "      <th>3</th>\n",
       "      <td>ACH-000956</td>\n",
       "      <td>Drug_558</td>\n",
       "      <td>0.8004</td>\n",
       "    </tr>\n",
       "    <tr>\n",
       "      <th>4</th>\n",
       "      <td>ACH-000956</td>\n",
       "      <td>Drug_195</td>\n",
       "      <td>0.5743</td>\n",
       "    </tr>\n",
       "  </tbody>\n",
       "</table>\n",
       "</div>"
      ],
      "text/plain": [
       "  improve_sample_id improve_chem_id     auc\n",
       "0        ACH-000956        Drug_749  0.7153\n",
       "1        ACH-000956       Drug_1326  0.9579\n",
       "2        ACH-000956        Drug_490  0.4130\n",
       "3        ACH-000956        Drug_558  0.8004\n",
       "4        ACH-000956        Drug_195  0.5743"
      ]
     },
     "execution_count": 9,
     "metadata": {},
     "output_type": "execute_result"
    }
   ],
   "source": [
    "train_keep.head()"
   ]
  },
  {
   "cell_type": "code",
   "execution_count": 10,
   "id": "784bc230-8bf7-4553-bc29-921217131c3f",
   "metadata": {},
   "outputs": [
    {
     "data": {
      "text/html": [
       "<div>\n",
       "<style scoped>\n",
       "    .dataframe tbody tr th:only-of-type {\n",
       "        vertical-align: middle;\n",
       "    }\n",
       "\n",
       "    .dataframe tbody tr th {\n",
       "        vertical-align: top;\n",
       "    }\n",
       "\n",
       "    .dataframe thead th {\n",
       "        text-align: right;\n",
       "    }\n",
       "</style>\n",
       "<table border=\"1\" class=\"dataframe\">\n",
       "  <thead>\n",
       "    <tr style=\"text-align: right;\">\n",
       "      <th></th>\n",
       "      <th>improve_sample_id</th>\n",
       "      <th>improve_chem_id</th>\n",
       "      <th>auc</th>\n",
       "    </tr>\n",
       "  </thead>\n",
       "  <tbody>\n",
       "    <tr>\n",
       "      <th>0</th>\n",
       "      <td>ACH-000956</td>\n",
       "      <td>Drug_895</td>\n",
       "      <td>0.5071</td>\n",
       "    </tr>\n",
       "    <tr>\n",
       "      <th>1</th>\n",
       "      <td>ACH-000956</td>\n",
       "      <td>Drug_614</td>\n",
       "      <td>0.6525</td>\n",
       "    </tr>\n",
       "    <tr>\n",
       "      <th>2</th>\n",
       "      <td>ACH-000956</td>\n",
       "      <td>Drug_1040</td>\n",
       "      <td>0.8944</td>\n",
       "    </tr>\n",
       "    <tr>\n",
       "      <th>3</th>\n",
       "      <td>ACH-000323</td>\n",
       "      <td>Drug_1279</td>\n",
       "      <td>0.8691</td>\n",
       "    </tr>\n",
       "    <tr>\n",
       "      <th>4</th>\n",
       "      <td>ACH-000323</td>\n",
       "      <td>Drug_685</td>\n",
       "      <td>0.8527</td>\n",
       "    </tr>\n",
       "  </tbody>\n",
       "</table>\n",
       "</div>"
      ],
      "text/plain": [
       "  improve_sample_id improve_chem_id     auc\n",
       "0        ACH-000956        Drug_895  0.5071\n",
       "1        ACH-000956        Drug_614  0.6525\n",
       "2        ACH-000956       Drug_1040  0.8944\n",
       "3        ACH-000323       Drug_1279  0.8691\n",
       "4        ACH-000323        Drug_685  0.8527"
      ]
     },
     "execution_count": 10,
     "metadata": {},
     "output_type": "execute_result"
    }
   ],
   "source": [
    "valid_keep.head()"
   ]
  },
  {
   "cell_type": "code",
   "execution_count": 11,
   "id": "c0b9f940-b85d-45ed-8865-ecdfa2ee0ce1",
   "metadata": {},
   "outputs": [
    {
     "data": {
      "text/plain": [
       "((7616, 3), (952, 3))"
      ]
     },
     "execution_count": 11,
     "metadata": {},
     "output_type": "execute_result"
    }
   ],
   "source": [
    "train_keep.shape, valid_keep.shape"
   ]
  },
  {
   "cell_type": "code",
   "execution_count": 12,
   "id": "86155670-2a34-47ec-a8bd-ed98574e829c",
   "metadata": {},
   "outputs": [],
   "source": [
    "train_keep.columns = [\"Cell_Line\", \"Drug_ID\", \"AUC\"]\n",
    "valid_keep.columns = [\"Cell_Line\", \"Drug_ID\", \"AUC\"]"
   ]
  },
  {
   "cell_type": "code",
   "execution_count": 13,
   "id": "9b86f945-faab-48a5-bb62-0a75ef623a69",
   "metadata": {},
   "outputs": [
    {
     "data": {
      "text/html": [
       "<div>\n",
       "<style scoped>\n",
       "    .dataframe tbody tr th:only-of-type {\n",
       "        vertical-align: middle;\n",
       "    }\n",
       "\n",
       "    .dataframe tbody tr th {\n",
       "        vertical-align: top;\n",
       "    }\n",
       "\n",
       "    .dataframe thead th {\n",
       "        text-align: right;\n",
       "    }\n",
       "</style>\n",
       "<table border=\"1\" class=\"dataframe\">\n",
       "  <thead>\n",
       "    <tr style=\"text-align: right;\">\n",
       "      <th></th>\n",
       "      <th>Cell_Line</th>\n",
       "      <th>Drug_ID</th>\n",
       "      <th>AUC</th>\n",
       "    </tr>\n",
       "  </thead>\n",
       "  <tbody>\n",
       "    <tr>\n",
       "      <th>0</th>\n",
       "      <td>ACH-000956</td>\n",
       "      <td>Drug_749</td>\n",
       "      <td>0.7153</td>\n",
       "    </tr>\n",
       "    <tr>\n",
       "      <th>1</th>\n",
       "      <td>ACH-000956</td>\n",
       "      <td>Drug_1326</td>\n",
       "      <td>0.9579</td>\n",
       "    </tr>\n",
       "    <tr>\n",
       "      <th>2</th>\n",
       "      <td>ACH-000956</td>\n",
       "      <td>Drug_490</td>\n",
       "      <td>0.4130</td>\n",
       "    </tr>\n",
       "    <tr>\n",
       "      <th>3</th>\n",
       "      <td>ACH-000956</td>\n",
       "      <td>Drug_558</td>\n",
       "      <td>0.8004</td>\n",
       "    </tr>\n",
       "    <tr>\n",
       "      <th>4</th>\n",
       "      <td>ACH-000956</td>\n",
       "      <td>Drug_195</td>\n",
       "      <td>0.5743</td>\n",
       "    </tr>\n",
       "  </tbody>\n",
       "</table>\n",
       "</div>"
      ],
      "text/plain": [
       "    Cell_Line    Drug_ID     AUC\n",
       "0  ACH-000956   Drug_749  0.7153\n",
       "1  ACH-000956  Drug_1326  0.9579\n",
       "2  ACH-000956   Drug_490  0.4130\n",
       "3  ACH-000956   Drug_558  0.8004\n",
       "4  ACH-000956   Drug_195  0.5743"
      ]
     },
     "execution_count": 13,
     "metadata": {},
     "output_type": "execute_result"
    }
   ],
   "source": [
    "train_keep.head()"
   ]
  },
  {
   "cell_type": "code",
   "execution_count": 14,
   "id": "334105dd-712b-4b9b-bfb4-ffaf4764cb4f",
   "metadata": {},
   "outputs": [
    {
     "data": {
      "text/html": [
       "<div>\n",
       "<style scoped>\n",
       "    .dataframe tbody tr th:only-of-type {\n",
       "        vertical-align: middle;\n",
       "    }\n",
       "\n",
       "    .dataframe tbody tr th {\n",
       "        vertical-align: top;\n",
       "    }\n",
       "\n",
       "    .dataframe thead th {\n",
       "        text-align: right;\n",
       "    }\n",
       "</style>\n",
       "<table border=\"1\" class=\"dataframe\">\n",
       "  <thead>\n",
       "    <tr style=\"text-align: right;\">\n",
       "      <th></th>\n",
       "      <th>Cell_Line</th>\n",
       "      <th>Drug_ID</th>\n",
       "      <th>AUC</th>\n",
       "    </tr>\n",
       "  </thead>\n",
       "  <tbody>\n",
       "    <tr>\n",
       "      <th>0</th>\n",
       "      <td>ACH-000956</td>\n",
       "      <td>Drug_895</td>\n",
       "      <td>0.5071</td>\n",
       "    </tr>\n",
       "    <tr>\n",
       "      <th>1</th>\n",
       "      <td>ACH-000956</td>\n",
       "      <td>Drug_614</td>\n",
       "      <td>0.6525</td>\n",
       "    </tr>\n",
       "    <tr>\n",
       "      <th>2</th>\n",
       "      <td>ACH-000956</td>\n",
       "      <td>Drug_1040</td>\n",
       "      <td>0.8944</td>\n",
       "    </tr>\n",
       "    <tr>\n",
       "      <th>3</th>\n",
       "      <td>ACH-000323</td>\n",
       "      <td>Drug_1279</td>\n",
       "      <td>0.8691</td>\n",
       "    </tr>\n",
       "    <tr>\n",
       "      <th>4</th>\n",
       "      <td>ACH-000323</td>\n",
       "      <td>Drug_685</td>\n",
       "      <td>0.8527</td>\n",
       "    </tr>\n",
       "  </tbody>\n",
       "</table>\n",
       "</div>"
      ],
      "text/plain": [
       "    Cell_Line    Drug_ID     AUC\n",
       "0  ACH-000956   Drug_895  0.5071\n",
       "1  ACH-000956   Drug_614  0.6525\n",
       "2  ACH-000956  Drug_1040  0.8944\n",
       "3  ACH-000323  Drug_1279  0.8691\n",
       "4  ACH-000323   Drug_685  0.8527"
      ]
     },
     "execution_count": 14,
     "metadata": {},
     "output_type": "execute_result"
    }
   ],
   "source": [
    "valid_keep.head()"
   ]
  },
  {
   "cell_type": "code",
   "execution_count": 15,
   "id": "5cfbf329-9696-43dd-81ac-cba6815ff897",
   "metadata": {},
   "outputs": [],
   "source": [
    "samp_drug = valid_keep[\"Drug_ID\"].unique()[-1]\n",
    "samp_ach = np.array(valid_keep[\"Cell_Line\"].unique()[-1])"
   ]
  },
  {
   "cell_type": "code",
   "execution_count": 16,
   "id": "0434176c-11e1-4daa-9736-b371dc5603ce",
   "metadata": {},
   "outputs": [
    {
     "name": "stdout",
     "output_type": "stream",
     "text": [
      "Drug_1326\n",
      "ACH-000828\n"
     ]
    }
   ],
   "source": [
    "print(samp_drug)\n",
    "print(samp_ach)"
   ]
  },
  {
   "cell_type": "code",
   "execution_count": 17,
   "id": "5ce1cc7b-5e22-40b7-b142-d27b99201178",
   "metadata": {},
   "outputs": [],
   "source": [
    "train_gcn_feats = []\n",
    "train_adj_list = []\n",
    "for drug_id in train_keep[\"Drug_ID\"].values:\n",
    "    train_gcn_feats.append(dict_features[drug_id])\n",
    "    train_adj_list.append(dict_adj_mat[drug_id])"
   ]
  },
  {
   "cell_type": "code",
   "execution_count": 18,
   "id": "14f1bbbd-844b-4a85-80ca-3a9b77186985",
   "metadata": {},
   "outputs": [
    {
     "data": {
      "text/plain": [
       "(7616, 7616)"
      ]
     },
     "execution_count": 18,
     "metadata": {},
     "output_type": "execute_result"
    }
   ],
   "source": [
    "len(train_gcn_feats), len(train_adj_list)"
   ]
  },
  {
   "cell_type": "code",
   "execution_count": 19,
   "id": "4b58ed08-ec32-45d0-b42e-15c2cc46d3b5",
   "metadata": {},
   "outputs": [],
   "source": [
    "valid_gcn_feats = []\n",
    "valid_adj_list = []\n",
    "for drug_id in valid_keep[\"Drug_ID\"].values:\n",
    "    valid_gcn_feats.append(dict_features[drug_id])\n",
    "    valid_adj_list.append(dict_adj_mat[drug_id])"
   ]
  },
  {
   "cell_type": "code",
   "execution_count": 20,
   "id": "a39ccceb-271b-4260-8b0e-5b1f11b1f30e",
   "metadata": {},
   "outputs": [
    {
     "data": {
      "text/plain": [
       "(952, 952)"
      ]
     },
     "execution_count": 20,
     "metadata": {},
     "output_type": "execute_result"
    }
   ],
   "source": [
    "len(valid_gcn_feats), len(valid_adj_list)"
   ]
  },
  {
   "cell_type": "code",
   "execution_count": 21,
   "id": "38d6cb8a-73dd-41b8-96db-a06ecad9ed9e",
   "metadata": {},
   "outputs": [
    {
     "data": {
      "text/plain": [
       "8568"
      ]
     },
     "execution_count": 21,
     "metadata": {},
     "output_type": "execute_result"
    }
   ],
   "source": [
    "len(valid_gcn_feats) + len(train_gcn_feats)"
   ]
  },
  {
   "cell_type": "code",
   "execution_count": 22,
   "id": "e547bea4-64f9-4f62-b464-b70b20cb8105",
   "metadata": {},
   "outputs": [
    {
     "name": "stdout",
     "output_type": "stream",
     "text": [
      "CPU times: user 528 ms, sys: 785 ms, total: 1.31 s\n",
      "Wall time: 1.32 s\n"
     ]
    }
   ],
   "source": [
    "%%time\n",
    "# reduce the values to float16\n",
    "train_gcn_feats = np.array(train_gcn_feats).astype(\"float32\")\n",
    "valid_gcn_feats = np.array(valid_gcn_feats).astype(\"float32\")\n",
    "\n",
    "train_adj_list = np.array(train_adj_list).astype(\"float32\")\n",
    "valid_adj_list = np.array(valid_adj_list).astype(\"float32\")"
   ]
  },
  {
   "cell_type": "code",
   "execution_count": 23,
   "id": "59cbbaca-bf55-42b0-94ea-ec508eeb267a",
   "metadata": {},
   "outputs": [
    {
     "data": {
      "text/plain": [
       "(7616, 223, 75)"
      ]
     },
     "execution_count": 23,
     "metadata": {},
     "output_type": "execute_result"
    }
   ],
   "source": [
    "train_gcn_feats.shape"
   ]
  },
  {
   "cell_type": "code",
   "execution_count": 24,
   "id": "79357743-b1f4-434f-a010-22dcc6824e20",
   "metadata": {},
   "outputs": [
    {
     "data": {
      "text/plain": [
       "numpy.ndarray"
      ]
     },
     "execution_count": 24,
     "metadata": {},
     "output_type": "execute_result"
    }
   ],
   "source": [
    "type(train_gcn_feats)"
   ]
  },
  {
   "cell_type": "code",
   "execution_count": 25,
   "id": "a6220643-2652-472a-b5da-4b92ddb09141",
   "metadata": {},
   "outputs": [
    {
     "data": {
      "text/plain": [
       "(7616, 223, 223)"
      ]
     },
     "execution_count": 25,
     "metadata": {},
     "output_type": "execute_result"
    }
   ],
   "source": [
    "train_adj_list.shape"
   ]
  },
  {
   "cell_type": "code",
   "execution_count": 26,
   "id": "29680eef-136b-4a63-963b-6d884f7468e6",
   "metadata": {},
   "outputs": [
    {
     "data": {
      "text/plain": [
       "numpy.ndarray"
      ]
     },
     "execution_count": 26,
     "metadata": {},
     "output_type": "execute_result"
    }
   ],
   "source": [
    "type(train_adj_list)"
   ]
  },
  {
   "cell_type": "code",
   "execution_count": 27,
   "id": "f00d4713-a709-406c-b2b2-502bec359fe8",
   "metadata": {},
   "outputs": [
    {
     "data": {
      "text/plain": [
       "array([['ACH-000956'],\n",
       "       ['ACH-000956'],\n",
       "       ['ACH-000956'],\n",
       "       ...,\n",
       "       ['ACH-000828'],\n",
       "       ['ACH-000828'],\n",
       "       ['ACH-000828']], dtype=object)"
      ]
     },
     "execution_count": 27,
     "metadata": {},
     "output_type": "execute_result"
    }
   ],
   "source": [
    "train_keep[\"Cell_Line\"].values.reshape(-1,1)"
   ]
  },
  {
   "cell_type": "code",
   "execution_count": 28,
   "id": "decce322-62d7-4825-96c0-c9a9ce6a2dc9",
   "metadata": {},
   "outputs": [
    {
     "data": {
      "text/plain": [
       "(7616, 1)"
      ]
     },
     "execution_count": 28,
     "metadata": {},
     "output_type": "execute_result"
    }
   ],
   "source": [
    "train_keep[\"Cell_Line\"].values.reshape(-1,1).shape"
   ]
  },
  {
   "cell_type": "code",
   "execution_count": 29,
   "id": "291307d8-d911-4727-bef0-3a40b871c4d2",
   "metadata": {},
   "outputs": [
    {
     "data": {
      "text/plain": [
       "numpy.ndarray"
      ]
     },
     "execution_count": 29,
     "metadata": {},
     "output_type": "execute_result"
    }
   ],
   "source": [
    "type(train_keep[\"Cell_Line\"].values.reshape(-1,1))"
   ]
  },
  {
   "cell_type": "code",
   "execution_count": 30,
   "id": "775223cf-08f4-443b-bcae-596f02c32617",
   "metadata": {},
   "outputs": [],
   "source": [
    "# valid_keep[\"Cell_Line\"].values.reshape(-1,1)"
   ]
  },
  {
   "cell_type": "code",
   "execution_count": 31,
   "id": "92751d47-cb87-4e53-9c77-1e65ac3940dd",
   "metadata": {},
   "outputs": [
    {
     "data": {
      "text/plain": [
       "(952, 1)"
      ]
     },
     "execution_count": 31,
     "metadata": {},
     "output_type": "execute_result"
    }
   ],
   "source": [
    "valid_keep[\"Cell_Line\"].values.reshape(-1,1).shape"
   ]
  },
  {
   "cell_type": "code",
   "execution_count": 32,
   "id": "dc799656-8a85-43aa-8e45-2bc3cb5f122d",
   "metadata": {},
   "outputs": [
    {
     "data": {
      "text/plain": [
       "(952,)"
      ]
     },
     "execution_count": 32,
     "metadata": {},
     "output_type": "execute_result"
    }
   ],
   "source": [
    "valid_keep[\"AUC\"].shape"
   ]
  },
  {
   "cell_type": "code",
   "execution_count": 33,
   "id": "e23bcb0d-8761-450b-ac24-0ee603f6b492",
   "metadata": {},
   "outputs": [
    {
     "data": {
      "text/plain": [
       "(952, 1)"
      ]
     },
     "execution_count": 33,
     "metadata": {},
     "output_type": "execute_result"
    }
   ],
   "source": [
    "valid_keep[\"AUC\"].values.reshape(-1,1).shape"
   ]
  },
  {
   "cell_type": "code",
   "execution_count": 34,
   "id": "0f003721-ecd6-4e78-8eed-26b174da2007",
   "metadata": {},
   "outputs": [
    {
     "data": {
      "text/plain": [
       "numpy.ndarray"
      ]
     },
     "execution_count": 34,
     "metadata": {},
     "output_type": "execute_result"
    }
   ],
   "source": [
    "type(valid_keep[\"AUC\"].values.reshape(-1,1))"
   ]
  },
  {
   "cell_type": "code",
   "execution_count": 35,
   "id": "e2a2b919-049c-4ad0-8975-61cc331431f0",
   "metadata": {},
   "outputs": [],
   "source": [
    "batch_size = 32"
   ]
  },
  {
   "cell_type": "code",
   "execution_count": 36,
   "id": "d68ca16e-2d23-47c3-a73f-db4b06f023ae",
   "metadata": {},
   "outputs": [],
   "source": [
    "# Okay, now what needs to happen for the bootstrap training? We have some steps both outside the for loop, and inside the for loop. Let's first define the ones outside the for loop"
   ]
  },
  {
   "cell_type": "code",
   "execution_count": 37,
   "id": "5db82047-c55b-4557-a5df-e7f9ea86341d",
   "metadata": {},
   "outputs": [],
   "source": [
    "# What happens outside of the for loop?"
   ]
  },
  {
   "cell_type": "code",
   "execution_count": 38,
   "id": "92096e1d-5f86-4940-8eae-590e7ed07653",
   "metadata": {},
   "outputs": [],
   "source": [
    "# We can define the validation data generator\n",
    "val_gen_bootstraps = DataGenerator(valid_gcn_feats, valid_adj_list, valid_keep[\"Cell_Line\"].values.reshape(-1,1), valid_keep[\"Cell_Line\"].values.reshape(-1,1), valid_keep[\"Cell_Line\"].values.reshape(-1,1), valid_keep[\"AUC\"].values.reshape(-1,1), batch_size=32,  shuffle = False)"
   ]
  },
  {
   "cell_type": "code",
   "execution_count": 39,
   "id": "951dca90-c8e6-4989-bb62-afc03c8fe43e",
   "metadata": {},
   "outputs": [],
   "source": [
    "# make a folder to store all the results - we might want to carefully consider where we need these results be stored.\n",
    "# For the improve compliant code, this might need to be inside the 'exp_result' folder itself. For now, we will create a random folder."
   ]
  },
  {
   "cell_type": "code",
   "execution_count": 40,
   "id": "2d1a0cc1-5650-4fee-946b-d72f03075579",
   "metadata": {},
   "outputs": [
    {
     "name": "stdout",
     "output_type": "stream",
     "text": [
      "Folder: 'bootstrap_results_all already exists!'\n"
     ]
    }
   ],
   "source": [
    "folder_name = 'bootstrap_results_all'\n",
    "\n",
    "if not os.path.exists(folder_name):\n",
    "    os.makedirs(folder_name)\n",
    "    print(f\"Folder: '{folder_name}' created successfully\")\n",
    "else:\n",
    "    print(f\"Folder: '{folder_name} already exists!'\")"
   ]
  },
  {
   "cell_type": "code",
   "execution_count": 41,
   "id": "59bab31e-e736-4765-a15a-404b9dfde563",
   "metadata": {},
   "outputs": [
    {
     "name": "stdout",
     "output_type": "stream",
     "text": [
      "Folder: 'bootstrap_1 already exists!'\n"
     ]
    },
    {
     "name": "stderr",
     "output_type": "stream",
     "text": [
      "2025-04-21 12:39:35.713223: I tensorflow/compiler/xla/stream_executor/cuda/cuda_dnn.cc:428] Loaded cuDNN version 8401\n"
     ]
    },
    {
     "name": "stdout",
     "output_type": "stream",
     "text": [
      "Predictions: 952\n",
      "True: 952\n",
      "Predictions: 7616\n",
      "True: 7616\n",
      "\n",
      "IMPROVE_RESULT val_loss:\t0.005555138690445072\n",
      "\n",
      "Validation scores:\n",
      "\t{'mse': 0.005555138690445072, 'rmse': 0.07453280278135978, 'pcc': 0.8811951373775181, 'scc': 0.7612795838721879, 'r2': 0.7670492353399421}\n",
      "Folder: 'bootstrap_2 already exists!'\n",
      "Predictions: 952\n",
      "True: 952\n",
      "Predictions: 7616\n",
      "True: 7616\n",
      "\n",
      "IMPROVE_RESULT val_loss:\t0.005555138690445072\n",
      "\n",
      "Validation scores:\n",
      "\t{'mse': 0.005555138690445072, 'rmse': 0.07453280278135978, 'pcc': 0.8811951373775181, 'scc': 0.7612795838721879, 'r2': 0.7670492353399421}\n",
      "Folder: 'bootstrap_3 already exists!'\n",
      "Predictions: 952\n",
      "True: 952\n",
      "Predictions: 7616\n",
      "True: 7616\n",
      "\n",
      "IMPROVE_RESULT val_loss:\t0.005555138690445072\n",
      "\n",
      "Validation scores:\n",
      "\t{'mse': 0.005555138690445072, 'rmse': 0.07453280278135978, 'pcc': 0.8811951373775181, 'scc': 0.7612795838721879, 'r2': 0.7670492353399421}\n",
      "Folder: 'bootstrap_4 already exists!'\n",
      "Predictions: 952\n",
      "True: 952\n",
      "Predictions: 7616\n",
      "True: 7616\n",
      "\n",
      "IMPROVE_RESULT val_loss:\t0.005555138690445072\n",
      "\n",
      "Validation scores:\n",
      "\t{'mse': 0.005555138690445072, 'rmse': 0.07453280278135978, 'pcc': 0.8811951373775181, 'scc': 0.7612795838721879, 'r2': 0.7670492353399421}\n",
      "Folder: 'bootstrap_5 already exists!'\n",
      "Predictions: 952\n",
      "True: 952\n",
      "Predictions: 7616\n",
      "True: 7616\n",
      "\n",
      "IMPROVE_RESULT val_loss:\t0.005555138690445072\n",
      "\n",
      "Validation scores:\n",
      "\t{'mse': 0.005555138690445072, 'rmse': 0.07453280278135978, 'pcc': 0.8811951373775181, 'scc': 0.7612795838721879, 'r2': 0.7670492353399421}\n",
      "Folder: 'bootstrap_6 already exists!'\n",
      "Predictions: 952\n",
      "True: 952\n",
      "Predictions: 7616\n",
      "True: 7616\n",
      "\n",
      "IMPROVE_RESULT val_loss:\t0.005555138690445072\n",
      "\n",
      "Validation scores:\n",
      "\t{'mse': 0.005555138690445072, 'rmse': 0.07453280278135978, 'pcc': 0.8811951373775181, 'scc': 0.7612795838721879, 'r2': 0.7670492353399421}\n",
      "Folder: 'bootstrap_7 already exists!'\n",
      "Predictions: 952\n",
      "True: 952\n",
      "Predictions: 7616\n",
      "True: 7616\n",
      "\n",
      "IMPROVE_RESULT val_loss:\t0.005555138690445072\n",
      "\n",
      "Validation scores:\n",
      "\t{'mse': 0.005555138690445072, 'rmse': 0.07453280278135978, 'pcc': 0.8811951373775181, 'scc': 0.7612795838721879, 'r2': 0.7670492353399421}\n",
      "Folder: 'bootstrap_8 already exists!'\n",
      "Predictions: 952\n",
      "True: 952\n",
      "Predictions: 7616\n",
      "True: 7616\n",
      "\n",
      "IMPROVE_RESULT val_loss:\t0.005555138690445072\n",
      "\n",
      "Validation scores:\n",
      "\t{'mse': 0.005555138690445072, 'rmse': 0.07453280278135978, 'pcc': 0.8811951373775181, 'scc': 0.7612795838721879, 'r2': 0.7670492353399421}\n",
      "Folder: 'bootstrap_9 already exists!'\n",
      "Predictions: 952\n",
      "True: 952\n",
      "Predictions: 7616\n",
      "True: 7616\n",
      "\n",
      "IMPROVE_RESULT val_loss:\t0.005555138690445072\n",
      "\n",
      "Validation scores:\n",
      "\t{'mse': 0.005555138690445072, 'rmse': 0.07453280278135978, 'pcc': 0.8811951373775181, 'scc': 0.7612795838721879, 'r2': 0.7670492353399421}\n"
     ]
    }
   ],
   "source": [
    "# Can we now move onto the inside of the for loop?\n",
    "B = 10\n",
    "for i in range(1, B):\n",
    "    \n",
    "    # define the model\n",
    "    training = False\n",
    "    dropout1 = 0.10\n",
    "    dropout2 = 0.20\n",
    "    check = deepcdrgcn(dict_features, dict_adj_mat, samp_drug, samp_ach, cancer_dna_methy_model, cancer_gen_expr_model, cancer_gen_mut_model,  training = training,\n",
    "                       dropout1 = dropout1, dropout2 = dropout2)\n",
    "    # check.summary()\n",
    "    \n",
    "    # define the data generator\n",
    "    train_gen_bootstrap = BootstrapGenerator(train_gcn_feats, train_adj_list, train_keep[\"Cell_Line\"].values.reshape(-1,1),\n",
    "                                             train_keep[\"Cell_Line\"].values.reshape(-1,1), train_keep[\"Cell_Line\"].values.reshape(-1,1),\n",
    "                                             train_keep[\"AUC\"].values.reshape(-1,1), batch_size=32)\n",
    "    # compile the model\n",
    "    lr = 0.001\n",
    "    check.compile(loss = tf.keras.losses.MeanSquaredError(), optimizer = tf.keras.optimizers.Adam(learning_rate=lr, beta_1=0.9, beta_2=0.999, amsgrad=False), \n",
    "                  metrics = [tf.keras.metrics.RootMeanSquaredError()])\n",
    "\n",
    "    # # fit the model\n",
    "    # epoch_num = 150\n",
    "    # patience_val = 10\n",
    "    # batch_size = 32\n",
    "    # generator_batch_size = 32\n",
    "    # check.fit(train_gen_bootstrap, validation_data = val_gen_bootstraps, epochs = epoch_num, batch_size = batch_size,\n",
    "    #      callbacks = tf.keras.callbacks.EarlyStopping(monitor = \"val_loss\", patience = patience_val, restore_best_weights=True, \n",
    "    #                                                  mode = \"min\") ,validation_batch_size = generator_batch_size)\n",
    "    \n",
    "    # for now, let's load an already existing model, to get the rest of the code going\n",
    "    model = tf.keras.models.load_model('exp_result/DeepCDR_model/DeepCDR_model')\n",
    "    # use this model and do the batch predictions\n",
    "\n",
    "    # first store this model in the respective folders\n",
    "    # create another folder with indexing of the bootstraps\n",
    "    folder_path_bootstraps = 'bootstrap_results_all'\n",
    "    new_folder = 'bootstrap_' + str(i)\n",
    "    # join the two paths\n",
    "    folder_loc = os.path.join(folder_path_bootstraps, new_folder)\n",
    "    # create a folder - or ignore if the already exists\n",
    "    if not os.path.exists(folder_loc):\n",
    "        os.makedirs(folder_loc)\n",
    "        print(f\"Folder: '{new_folder}' created successfully\")\n",
    "    else:\n",
    "        print(f\"Folder: '{new_folder} already exists!'\")\n",
    "    # # save the model\n",
    "    # model.save(os.path.join(folder_loc, \"DeepCDR_model\"))\n",
    "    \n",
    "    # evaluate the model\n",
    "    y_val_preds, y_val_true = batch_predict(model, val_gen_bootstraps)\n",
    "    y_train_preds, y_train_true = batch_predict(model, train_gen_bootstrap)\n",
    "    \n",
    "    # save the results - this might be the hard part\n",
    "    # save the validation results\n",
    "    frm.store_predictions_df(\n",
    "        y_true=y_val_true, \n",
    "        y_pred=y_val_preds, \n",
    "        stage=\"val\",\n",
    "        y_col_name=\"auc\",\n",
    "        output_dir=folder_loc,\n",
    "        input_dir='exp_result')\n",
    "\n",
    "    val_scores = frm.compute_performance_scores(\n",
    "        y_true=y_val_true, \n",
    "        y_pred=y_val_preds, \n",
    "        stage=\"val\",\n",
    "        metric_type='regression',\n",
    "        output_dir= folder_loc)\n",
    "\n",
    "    # cannot save the train data as there is an assertion, so we might as well get the predictions on the train data in the train NNe script as else there will be too much work"
   ]
  },
  {
   "cell_type": "markdown",
   "id": "b1f0587a-be2b-4c7e-9fd1-1887eda63ff8",
   "metadata": {},
   "source": [
    "Okay, now implement this in a python script with proper training of the model."
   ]
  }
 ],
 "metadata": {
  "kernelspec": {
   "display_name": "Python (deepcdr_improve_env)",
   "language": "python",
   "name": "deepcdr_improve_env"
  },
  "language_info": {
   "codemirror_mode": {
    "name": "ipython",
    "version": 3
   },
   "file_extension": ".py",
   "mimetype": "text/x-python",
   "name": "python",
   "nbconvert_exporter": "python",
   "pygments_lexer": "ipython3",
   "version": "3.8.16"
  }
 },
 "nbformat": 4,
 "nbformat_minor": 5
}
