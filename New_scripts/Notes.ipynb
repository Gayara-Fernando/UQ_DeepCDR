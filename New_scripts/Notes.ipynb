{
 "cells": [
  {
   "cell_type": "markdown",
   "id": "9c865078-1597-4bd6-a9cb-62a2696b7b31",
   "metadata": {},
   "source": [
    "##### Training DeepCDR with the new data generator"
   ]
  },
  {
   "cell_type": "markdown",
   "id": "af66130d-f335-4223-b3d9-4626c0e3a695",
   "metadata": {},
   "source": [
    "So far we have written down a new generator function with tf.keras.Sequence, and we have trained the DeepCDR model with this function. We however still need to write an improve-compliant code if we are to share the work with people from ANL. Therefore, let's try doing that with the new generator function for both the train and inference scripts."
   ]
  },
  {
   "cell_type": "markdown",
   "id": "0521ce92-598f-48f4-bcb9-3e91e43c078d",
   "metadata": {},
   "source": [
    "The generator function is available in the py script \"New_data_generator_with_tf.py\", and the train script with this function is available at \"DeepCDR_train_with_new_generator.py\". "
   ]
  },
  {
   "cell_type": "markdown",
   "id": "48ed4262-d791-4105-89cd-fe189f2bcd2f",
   "metadata": {},
   "source": [
    "Okay, we have made the two scripts improve compliant: The codes are stored as; train script - \"deepcdr_train_improve_with_new_generator.py\" and infer script - \"deepcdr_infer_improve_with_new_data_generator.py\"."
   ]
  },
  {
   "cell_type": "markdown",
   "id": "fa980b85-d6da-4e9f-bdb5-ed6e52e571fc",
   "metadata": {},
   "source": [
    "One more thing to do here before we get to the bootstrapping method and storing the predictions. See if the train and validation steps are necessary, or if the written generator will automatically complete training at the end of the required number of batches in each epoch"
   ]
  },
  {
   "cell_type": "markdown",
   "id": "a7880d98-757c-4a40-9bb5-d44483144e80",
   "metadata": {},
   "source": [
    "##### Training bootsrap samples for DeepCDR for UQ"
   ]
  },
  {
   "cell_type": "markdown",
   "id": "9a68dd15-41a0-43ef-b0d8-2cfae8113ca2",
   "metadata": {},
   "source": [
    "Okay, we can now move to bootstrap sample training. We should adjust our code in a way that the trained model and the validation scores from the exercise can be stored, so that later we can use these models to compute the CIs and talk about uncertainity."
   ]
  },
  {
   "cell_type": "markdown",
   "id": "0acca300-9f76-493f-904d-eaff7cb8fa04",
   "metadata": {},
   "source": [
    "Let's use the bootstrap generator, and compare it against the original generator, to make sure the bootstrap sampling generator is in fact doing what it is supposed to do. This comparison is done in the 'Examine_bootstrap_samples.ipynb'."
   ]
  },
  {
   "cell_type": "markdown",
   "id": "552031cb-0434-41d5-957d-efa886fd081e",
   "metadata": {},
   "source": [
    "We ensured that bootstrap samples indeed give different results than the regular training batches, so I think we are finally ready to implement the bootstrap training for DeepCDR for the UQ project - To get the predictions for the rrain data for the different botstrap samples, and then train the NNe, and then get the CIs, and thereby talk about the width and the coverages of the confidence intervals."
   ]
  },
  {
   "cell_type": "markdown",
   "id": "0c1a3a60-4543-400d-b8a3-b6a91a6aa060",
   "metadata": {},
   "source": [
    "Notice that, we add the bootstrap data generator class to the python script \"New_data_generator_with_tf.py\" so that it would seem less complex to someone going through the codes (else too many python scripts, eventhough they are just simple fucntion r class definitions)."
   ]
  },
  {
   "cell_type": "markdown",
   "id": "27a7c573-a786-431a-9379-c9b617418820",
   "metadata": {},
   "source": [
    "The bootstrap train code is in the phton script \"DeepCDR_train_with_new_generator_bootstraps.py\". This is a generic code, and is still not the improve-compliant one. This code defines the validation data generator (that is created by the regular generator construct and not the bootstrap), and the folder to store the bootstrap results outside the for loop for training the bootstrap models. Inside the for loop, it first defines the model, compile the model, train the model, save the model, evaluate the model, and also stores the validation predictions and the associated scores. However, we cannot store the predictions or the scores for the train data for the bootstrap work due to an assertion error that we get in the improve library (it basically checks if the train order of the predicted values is the same, but since in bootstraps we have some samples repeated, we will not be able to use the improve methods to store the predictions for the train data. Therefore, we will do this step in the next model train - NNe work)."
   ]
  },
  {
   "cell_type": "markdown",
   "id": "915260d0-a2da-4d8c-8162-207c23754adf",
   "metadata": {},
   "source": [
    "Our next step will be to write improve-compliant code for training the bootrap models. "
   ]
  },
  {
   "cell_type": "markdown",
   "id": "cf6e7866-51ac-43b9-a826-0d7ee567d004",
   "metadata": {},
   "source": [
    "The improve-compliant bootstrap training of the DeepCDR model is in the py script \"deepcdr_train_bootstrap_improve_with_new_generator.py\". Note that the build model path [Req] in the original code is now defined inside the for loop. We still need to make sure that this code works, and then we should be good to get started with developing the code for the model NNe."
   ]
  },
  {
   "cell_type": "code",
   "execution_count": null,
   "id": "89b96ded-33e7-49ea-8ddd-cf397d79af99",
   "metadata": {},
   "outputs": [],
   "source": []
  },
  {
   "cell_type": "code",
   "execution_count": null,
   "id": "616fa73e-17f1-4c62-a9b1-f26c263fce8c",
   "metadata": {},
   "outputs": [],
   "source": []
  },
  {
   "cell_type": "code",
   "execution_count": null,
   "id": "00c65b5f-9a21-4b1c-be3b-5a6bc7e91403",
   "metadata": {},
   "outputs": [],
   "source": []
  },
  {
   "cell_type": "code",
   "execution_count": null,
   "id": "1ed32398-f2d0-4d09-b6dc-c0c16f2556f4",
   "metadata": {},
   "outputs": [],
   "source": []
  },
  {
   "cell_type": "code",
   "execution_count": null,
   "id": "891d6847-8ef8-434a-99fd-884e8f8af6dc",
   "metadata": {},
   "outputs": [],
   "source": []
  },
  {
   "cell_type": "code",
   "execution_count": null,
   "id": "b9f221fd-32da-4361-bf7c-52eece73d59c",
   "metadata": {},
   "outputs": [],
   "source": []
  },
  {
   "cell_type": "code",
   "execution_count": null,
   "id": "ae475008-c0a8-471e-af8e-58e848d66a8a",
   "metadata": {},
   "outputs": [],
   "source": []
  }
 ],
 "metadata": {
  "kernelspec": {
   "display_name": "Python (deepcdr_improve_env)",
   "language": "python",
   "name": "deepcdr_improve_env"
  },
  "language_info": {
   "codemirror_mode": {
    "name": "ipython",
    "version": 3
   },
   "file_extension": ".py",
   "mimetype": "text/x-python",
   "name": "python",
   "nbconvert_exporter": "python",
   "pygments_lexer": "ipython3",
   "version": "3.8.16"
  }
 },
 "nbformat": 4,
 "nbformat_minor": 5
}
