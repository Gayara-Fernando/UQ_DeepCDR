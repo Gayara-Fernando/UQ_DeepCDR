{
 "cells": [
  {
   "cell_type": "code",
   "execution_count": 1,
   "id": "4c96f196-c615-4fea-8e49-f02ca303b433",
   "metadata": {},
   "outputs": [
    {
     "name": "stderr",
     "output_type": "stream",
     "text": [
      "2025-04-21 11:38:59.050925: I tensorflow/core/platform/cpu_feature_guard.cc:193] This TensorFlow binary is optimized with oneAPI Deep Neural Network Library (oneDNN) to use the following CPU instructions in performance-critical operations:  SSE4.1 SSE4.2 AVX AVX2 AVX512F AVX512_VNNI FMA\n",
      "To enable them in other operations, rebuild TensorFlow with the appropriate compiler flags.\n",
      "2025-04-21 11:39:00.173899: I tensorflow/core/util/port.cc:104] oneDNN custom operations are on. You may see slightly different numerical results due to floating-point round-off errors from different computation orders. To turn them off, set the environment variable `TF_ENABLE_ONEDNN_OPTS=0`.\n"
     ]
    }
   ],
   "source": [
    "# These are the ones that is already on the train script\n",
    "import os\n",
    "import json\n",
    "import sys\n",
    "import warnings\n",
    "from pathlib import Path\n",
    "from pprint import pformat\n",
    "from typing import Dict, Union\n",
    "import tensorflow as tf\n",
    "\n",
    "import pickle\n",
    "import pandas as pd\n",
    "import numpy as np\n",
    "from tensorflow.keras import backend as K\n",
    "from New_data_generator_with_tf import DataGenerator, BootstrapGenerator, batch_predict\n",
    "\n",
    "# [Req] IMPROVE imports\n",
    "# notice that the improvelibs are in the folder that is a level above, but in the same parent directory\n",
    "sys.path.append(os.path.abspath(os.path.join('..', 'IMPROVE')))\n",
    "from improvelib.applications.drug_response_prediction.config import DRPTrainConfig\n",
    "from improvelib.utils import str2bool\n",
    "import improvelib.utils as frm\n",
    "from improvelib.metrics import compute_metrics\n",
    "\n",
    "# Model-specific imports\n",
    "from model_params_def import train_params # [Req]"
   ]
  },
  {
   "cell_type": "code",
   "execution_count": 2,
   "id": "62821aad-750b-4ceb-9502-6d465ac33a27",
   "metadata": {},
   "outputs": [],
   "source": [
    "# any new additional packages necessary for the generator goes here\n",
    "from tensorflow.keras.utils import Sequence\n",
    "# need numpy here as well, but we already have this"
   ]
  },
  {
   "cell_type": "code",
   "execution_count": 3,
   "id": "00e0afae-cf8d-4ea5-91fe-796646fe6411",
   "metadata": {},
   "outputs": [],
   "source": [
    "training = False\n",
    "dropout1 = 0.10\n",
    "dropout2 = 0.20\n",
    "## get the model architecture\n",
    "def deepcdrgcn(dict_features, dict_adj_mat, samp_drug, samp_ach, cancer_dna_methy_model, cancer_gen_expr_model, cancer_gen_mut_model, training = training, dropout1 = dropout1, dropout2 = dropout2):\n",
    "    \n",
    "    input_gcn_features = tf.keras.layers.Input(shape = (dict_features[samp_drug].shape[0], 75))\n",
    "    input_norm_adj_mat = tf.keras.layers.Input(shape = (dict_adj_mat[samp_drug].shape[0], dict_adj_mat[samp_drug].shape[0]))\n",
    "    mult_1 = tf.keras.layers.Dot(1)([input_norm_adj_mat, input_gcn_features])\n",
    "    dense_layer_gcn = tf.keras.layers.Dense(256, activation = \"relu\")\n",
    "    dense_out = dense_layer_gcn(mult_1)\n",
    "    dense_out = tf.keras.layers.BatchNormalization()(dense_out)\n",
    "    dense_out = tf.keras.layers.Dropout(dropout1)(dense_out, training = training)\n",
    "    mult_2 = tf.keras.layers.Dot(1)([input_norm_adj_mat, dense_out])\n",
    "    dense_layer_gcn = tf.keras.layers.Dense(256, activation = \"relu\")\n",
    "    dense_out = dense_layer_gcn(mult_2)\n",
    "    dense_out = tf.keras.layers.BatchNormalization()(dense_out)\n",
    "    dense_out = tf.keras.layers.Dropout(dropout1)(dense_out, training = training)\n",
    "\n",
    "    dense_layer_gcn = tf.keras.layers.Dense(100, activation = \"relu\")\n",
    "    mult_3 = tf.keras.layers.Dot(1)([input_norm_adj_mat, dense_out])\n",
    "    dense_out = dense_layer_gcn(mult_3)\n",
    "    dense_out = tf.keras.layers.BatchNormalization()(dense_out)\n",
    "    dense_out = tf.keras.layers.Dropout(dropout1)(dense_out, training = training)\n",
    "\n",
    "    dense_out = tf.keras.layers.GlobalAvgPool1D()(dense_out)\n",
    "    # All above code is for GCN for drugs\n",
    "\n",
    "    # methylation data\n",
    "    input_gen_methy1 = tf.keras.layers.Input(shape = (1,), dtype = tf.string)\n",
    "    input_gen_methy = cancer_dna_methy_model(input_gen_methy1)\n",
    "    input_gen_methy.trainable = False\n",
    "    gen_methy_layer = tf.keras.layers.Dense(256, activation = \"tanh\")\n",
    "    \n",
    "    gen_methy_emb = gen_methy_layer(input_gen_methy)\n",
    "    gen_methy_emb = tf.keras.layers.BatchNormalization()(gen_methy_emb)\n",
    "    gen_methy_emb = tf.keras.layers.Dropout(dropout1)(gen_methy_emb, training = training)\n",
    "    gen_methy_layer = tf.keras.layers.Dense(100, activation = \"relu\")\n",
    "    gen_methy_emb = gen_methy_layer(gen_methy_emb)\n",
    "\n",
    "    # gene expression data\n",
    "    input_gen_expr1 = tf.keras.layers.Input(shape = (1,), dtype = tf.string)\n",
    "    input_gen_expr = cancer_gen_expr_model(input_gen_expr1)\n",
    "    input_gen_expr.trainable = False\n",
    "    gen_expr_layer = tf.keras.layers.Dense(256, activation = \"tanh\")\n",
    "    \n",
    "    gen_expr_emb = gen_expr_layer(input_gen_expr)\n",
    "    gen_expr_emb = tf.keras.layers.BatchNormalization()(gen_expr_emb)\n",
    "    gen_expr_emb = tf.keras.layers.Dropout(dropout1)(gen_expr_emb, training = training)\n",
    "    gen_expr_layer = tf.keras.layers.Dense(100, activation = \"relu\")\n",
    "    gen_expr_emb = gen_expr_layer(gen_expr_emb)\n",
    "    \n",
    "    \n",
    "    input_gen_mut1 = tf.keras.layers.Input(shape = (1,), dtype = tf.string)\n",
    "    input_gen_mut = cancer_gen_mut_model(input_gen_mut1)\n",
    "    input_gen_mut.trainable = False\n",
    "    \n",
    "    reshape_gen_mut = tf.keras.layers.Reshape((1, cancer_gen_mut_model(samp_ach).numpy().shape[0], 1))\n",
    "    reshape_gen_mut = reshape_gen_mut(input_gen_mut)\n",
    "    gen_mut_layer = tf.keras.layers.Conv2D(50, (1, 700), strides=5, activation = \"tanh\")\n",
    "    gen_mut_emb = gen_mut_layer(reshape_gen_mut)\n",
    "    pool_layer = tf.keras.layers.MaxPooling2D((1,5))\n",
    "    pool_out = pool_layer(gen_mut_emb)\n",
    "    gen_mut_layer = tf.keras.layers.Conv2D(30, (1, 5), strides=2, activation = \"relu\")\n",
    "    gen_mut_emb = gen_mut_layer(pool_out)\n",
    "    pool_layer = tf.keras.layers.MaxPooling2D((1,10))\n",
    "    pool_out = pool_layer(gen_mut_emb)\n",
    "    flatten_layer = tf.keras.layers.Flatten()\n",
    "    flatten_out = flatten_layer(pool_out)\n",
    "    x_mut = tf.keras.layers.Dense(100,activation = 'relu')(flatten_out)\n",
    "    x_mut = tf.keras.layers.Dropout(dropout1)(x_mut)\n",
    "    \n",
    "    all_omics = tf.keras.layers.Concatenate()([dense_out, gen_methy_emb, gen_expr_emb, x_mut])\n",
    "    x = tf.keras.layers.Dense(300,activation = 'tanh')(all_omics)\n",
    "    x = tf.keras.layers.Dropout(dropout1)(x, training = training)\n",
    "    x = tf.keras.layers.Lambda(lambda x: K.expand_dims(x,axis=-1))(x)\n",
    "    x = tf.keras.layers.Lambda(lambda x: K.expand_dims(x,axis=1))(x)\n",
    "    x = tf.keras.layers.Conv2D(filters=30, kernel_size=(1,150),strides=(1, 1), activation = 'relu',padding='valid')(x)\n",
    "    x = tf.keras.layers.MaxPooling2D(pool_size=(1,2))(x)\n",
    "    x = tf.keras.layers.Conv2D(filters=10, kernel_size=(1,5),strides=(1, 1), activation = 'relu',padding='valid')(x)\n",
    "    x = tf.keras.layers.MaxPooling2D(pool_size=(1,3))(x)\n",
    "    x = tf.keras.layers.Conv2D(filters=5, kernel_size=(1,5),strides=(1, 1), activation = 'relu',padding='valid')(x)\n",
    "    x = tf.keras.layers.MaxPooling2D(pool_size=(1,3))(x)\n",
    "    x = tf.keras.layers.Dropout(dropout1)(x, training = training)\n",
    "    x = tf.keras.layers.Flatten()(x)\n",
    "    x = tf.keras.layers.Dropout(dropout2)(x, training = training)\n",
    "    final_out_layer = tf.keras.layers.Dense(1, activation = \"linear\")\n",
    "    final_out = final_out_layer(x)\n",
    "    simplecdr = tf.keras.models.Model([input_gcn_features, input_norm_adj_mat, input_gen_expr1,\n",
    "                                   input_gen_methy1, input_gen_mut1], final_out)\n",
    "    \n",
    "    return simplecdr"
   ]
  },
  {
   "cell_type": "code",
   "execution_count": 4,
   "id": "35b80540-303f-4b28-a3f2-5e284cf96056",
   "metadata": {},
   "outputs": [],
   "source": [
    "modelpath = frm.build_model_path(model_file_name=\"DeepCDR_model\", model_file_format=\"\", model_dir=\"exp_result\")"
   ]
  },
  {
   "cell_type": "code",
   "execution_count": 5,
   "id": "f51f5c86-0e30-463c-b19d-24740f468e49",
   "metadata": {},
   "outputs": [
    {
     "data": {
      "text/plain": [
       "PosixPath('exp_result/DeepCDR_model')"
      ]
     },
     "execution_count": 5,
     "metadata": {},
     "output_type": "execute_result"
    }
   ],
   "source": [
    "modelpath # ntice that we are not using this anywhere in the code"
   ]
  },
  {
   "cell_type": "code",
   "execution_count": 6,
   "id": "b72b36ee-b983-47ef-843e-c08ab80ea63d",
   "metadata": {},
   "outputs": [],
   "source": [
    "train_data_fname = frm.build_ml_data_file_name(data_format=\".csv\", stage=\"train\")  # [Req]\n",
    "val_data_fname = frm.build_ml_data_file_name(data_format=\".csv\", stage=\"val\")  # [Req]"
   ]
  },
  {
   "cell_type": "code",
   "execution_count": 7,
   "id": "4303f009-80da-4689-9bcd-145601262ec1",
   "metadata": {},
   "outputs": [
    {
     "name": "stdout",
     "output_type": "stream",
     "text": [
      "train_data.csv\n",
      "val_data.csv\n"
     ]
    }
   ],
   "source": [
    "print(train_data_fname)\n",
    "print(val_data_fname)"
   ]
  },
  {
   "cell_type": "code",
   "execution_count": 8,
   "id": "c7b5e7a6-d14a-45fe-bfe0-1a9bc5d16f67",
   "metadata": {},
   "outputs": [],
   "source": [
    "# specify the directory where preprocessed data is stored\n",
    "data_dir = 'exp_result'"
   ]
  },
  {
   "cell_type": "code",
   "execution_count": 9,
   "id": "fe54716f-302c-436f-a4c8-a1e05af4ecf2",
   "metadata": {},
   "outputs": [
    {
     "name": "stderr",
     "output_type": "stream",
     "text": [
      "2025-04-21 11:39:16.941794: I tensorflow/core/platform/cpu_feature_guard.cc:193] This TensorFlow binary is optimized with oneAPI Deep Neural Network Library (oneDNN) to use the following CPU instructions in performance-critical operations:  SSE4.1 SSE4.2 AVX AVX2 AVX512F AVX512_VNNI FMA\n",
      "To enable them in other operations, rebuild TensorFlow with the appropriate compiler flags.\n",
      "2025-04-21 11:39:18.979182: I tensorflow/core/common_runtime/gpu/gpu_device.cc:1613] Created device /job:localhost/replica:0/task:0/device:GPU:0 with 30960 MB memory:  -> device: 0, name: Tesla V100S-PCIE-32GB, pci bus id: 0000:06:00.0, compute capability: 7.0\n"
     ]
    },
    {
     "name": "stdout",
     "output_type": "stream",
     "text": [
      "WARNING:tensorflow:No training configuration found in save file, so the model was *not* compiled. Compile it manually.\n"
     ]
    },
    {
     "name": "stderr",
     "output_type": "stream",
     "text": [
      "WARNING tensorflow 2025-04-21 11:39:20,105:\tNo training configuration found in save file, so the model was *not* compiled. Compile it manually.\n"
     ]
    },
    {
     "name": "stdout",
     "output_type": "stream",
     "text": [
      "WARNING:tensorflow:No training configuration found in save file, so the model was *not* compiled. Compile it manually.\n"
     ]
    },
    {
     "name": "stderr",
     "output_type": "stream",
     "text": [
      "WARNING tensorflow 2025-04-21 11:39:20,512:\tNo training configuration found in save file, so the model was *not* compiled. Compile it manually.\n"
     ]
    },
    {
     "name": "stdout",
     "output_type": "stream",
     "text": [
      "WARNING:tensorflow:No training configuration found in save file, so the model was *not* compiled. Compile it manually.\n"
     ]
    },
    {
     "name": "stderr",
     "output_type": "stream",
     "text": [
      "WARNING tensorflow 2025-04-21 11:39:20,842:\tNo training configuration found in save file, so the model was *not* compiled. Compile it manually.\n"
     ]
    },
    {
     "name": "stdout",
     "output_type": "stream",
     "text": [
      "CPU times: user 1.17 s, sys: 840 ms, total: 2.01 s\n",
      "Wall time: 4.19 s\n"
     ]
    }
   ],
   "source": [
    "%%time\n",
    "# load the models\n",
    "cancer_gen_expr_model = tf.keras.models.load_model(os.path.join(data_dir,\"cancer_gen_expr_model\"))\n",
    "cancer_gen_mut_model = tf.keras.models.load_model(os.path.join(data_dir, \"cancer_gen_mut_model\"))\n",
    "cancer_dna_methy_model = tf.keras.models.load_model(os.path.join(data_dir, \"cancer_dna_methy_model\"))"
   ]
  },
  {
   "cell_type": "code",
   "execution_count": 10,
   "id": "e8824f04-9e99-4f68-902b-d6d4db444853",
   "metadata": {},
   "outputs": [],
   "source": [
    "cancer_gen_expr_model.trainable = False\n",
    "cancer_gen_mut_model.trainable = False\n",
    "cancer_dna_methy_model.trainable = False"
   ]
  },
  {
   "cell_type": "code",
   "execution_count": 11,
   "id": "ecdf6b3d-d336-4552-95d9-0648f87a7f5b",
   "metadata": {},
   "outputs": [],
   "source": [
    "with open(os.path.join(data_dir, \"drug_features.pickle\"),\"rb\") as f:\n",
    "        dict_features = pickle.load(f)"
   ]
  },
  {
   "cell_type": "code",
   "execution_count": 12,
   "id": "a28adcda-e656-4d54-a669-20731e66271b",
   "metadata": {},
   "outputs": [],
   "source": [
    "with open(os.path.join(data_dir, \"norm_adj_mat.pickle\"),\"rb\") as f:\n",
    "        dict_adj_mat = pickle.load(f)"
   ]
  },
  {
   "cell_type": "code",
   "execution_count": 13,
   "id": "da2ca85e-5208-4a06-b991-0ead90ba764c",
   "metadata": {},
   "outputs": [],
   "source": [
    "train_keep = pd.read_csv(os.path.join(data_dir, \"train_y_data.csv\"))\n",
    "valid_keep = pd.read_csv(os.path.join(data_dir, \"val_y_data.csv\"))"
   ]
  },
  {
   "cell_type": "code",
   "execution_count": 14,
   "id": "1f351d0e-e1fb-4123-87f3-17d3171648f6",
   "metadata": {},
   "outputs": [
    {
     "data": {
      "text/html": [
       "<div>\n",
       "<style scoped>\n",
       "    .dataframe tbody tr th:only-of-type {\n",
       "        vertical-align: middle;\n",
       "    }\n",
       "\n",
       "    .dataframe tbody tr th {\n",
       "        vertical-align: top;\n",
       "    }\n",
       "\n",
       "    .dataframe thead th {\n",
       "        text-align: right;\n",
       "    }\n",
       "</style>\n",
       "<table border=\"1\" class=\"dataframe\">\n",
       "  <thead>\n",
       "    <tr style=\"text-align: right;\">\n",
       "      <th></th>\n",
       "      <th>improve_sample_id</th>\n",
       "      <th>improve_chem_id</th>\n",
       "      <th>auc</th>\n",
       "    </tr>\n",
       "  </thead>\n",
       "  <tbody>\n",
       "    <tr>\n",
       "      <th>0</th>\n",
       "      <td>ACH-000956</td>\n",
       "      <td>Drug_749</td>\n",
       "      <td>0.7153</td>\n",
       "    </tr>\n",
       "    <tr>\n",
       "      <th>1</th>\n",
       "      <td>ACH-000956</td>\n",
       "      <td>Drug_1326</td>\n",
       "      <td>0.9579</td>\n",
       "    </tr>\n",
       "    <tr>\n",
       "      <th>2</th>\n",
       "      <td>ACH-000956</td>\n",
       "      <td>Drug_490</td>\n",
       "      <td>0.4130</td>\n",
       "    </tr>\n",
       "    <tr>\n",
       "      <th>3</th>\n",
       "      <td>ACH-000956</td>\n",
       "      <td>Drug_558</td>\n",
       "      <td>0.8004</td>\n",
       "    </tr>\n",
       "    <tr>\n",
       "      <th>4</th>\n",
       "      <td>ACH-000956</td>\n",
       "      <td>Drug_195</td>\n",
       "      <td>0.5743</td>\n",
       "    </tr>\n",
       "  </tbody>\n",
       "</table>\n",
       "</div>"
      ],
      "text/plain": [
       "  improve_sample_id improve_chem_id     auc\n",
       "0        ACH-000956        Drug_749  0.7153\n",
       "1        ACH-000956       Drug_1326  0.9579\n",
       "2        ACH-000956        Drug_490  0.4130\n",
       "3        ACH-000956        Drug_558  0.8004\n",
       "4        ACH-000956        Drug_195  0.5743"
      ]
     },
     "execution_count": 14,
     "metadata": {},
     "output_type": "execute_result"
    }
   ],
   "source": [
    "train_keep.head()"
   ]
  },
  {
   "cell_type": "code",
   "execution_count": 15,
   "id": "65e1a2c6-5e31-4c96-95ef-1339a311c51f",
   "metadata": {},
   "outputs": [
    {
     "data": {
      "text/html": [
       "<div>\n",
       "<style scoped>\n",
       "    .dataframe tbody tr th:only-of-type {\n",
       "        vertical-align: middle;\n",
       "    }\n",
       "\n",
       "    .dataframe tbody tr th {\n",
       "        vertical-align: top;\n",
       "    }\n",
       "\n",
       "    .dataframe thead th {\n",
       "        text-align: right;\n",
       "    }\n",
       "</style>\n",
       "<table border=\"1\" class=\"dataframe\">\n",
       "  <thead>\n",
       "    <tr style=\"text-align: right;\">\n",
       "      <th></th>\n",
       "      <th>improve_sample_id</th>\n",
       "      <th>improve_chem_id</th>\n",
       "      <th>auc</th>\n",
       "    </tr>\n",
       "  </thead>\n",
       "  <tbody>\n",
       "    <tr>\n",
       "      <th>0</th>\n",
       "      <td>ACH-000956</td>\n",
       "      <td>Drug_895</td>\n",
       "      <td>0.5071</td>\n",
       "    </tr>\n",
       "    <tr>\n",
       "      <th>1</th>\n",
       "      <td>ACH-000956</td>\n",
       "      <td>Drug_614</td>\n",
       "      <td>0.6525</td>\n",
       "    </tr>\n",
       "    <tr>\n",
       "      <th>2</th>\n",
       "      <td>ACH-000956</td>\n",
       "      <td>Drug_1040</td>\n",
       "      <td>0.8944</td>\n",
       "    </tr>\n",
       "    <tr>\n",
       "      <th>3</th>\n",
       "      <td>ACH-000323</td>\n",
       "      <td>Drug_1279</td>\n",
       "      <td>0.8691</td>\n",
       "    </tr>\n",
       "    <tr>\n",
       "      <th>4</th>\n",
       "      <td>ACH-000323</td>\n",
       "      <td>Drug_685</td>\n",
       "      <td>0.8527</td>\n",
       "    </tr>\n",
       "  </tbody>\n",
       "</table>\n",
       "</div>"
      ],
      "text/plain": [
       "  improve_sample_id improve_chem_id     auc\n",
       "0        ACH-000956        Drug_895  0.5071\n",
       "1        ACH-000956        Drug_614  0.6525\n",
       "2        ACH-000956       Drug_1040  0.8944\n",
       "3        ACH-000323       Drug_1279  0.8691\n",
       "4        ACH-000323        Drug_685  0.8527"
      ]
     },
     "execution_count": 15,
     "metadata": {},
     "output_type": "execute_result"
    }
   ],
   "source": [
    "valid_keep.head()"
   ]
  },
  {
   "cell_type": "code",
   "execution_count": 16,
   "id": "3ee79edd-ed57-43b0-b4c9-9506215a3d13",
   "metadata": {},
   "outputs": [
    {
     "data": {
      "text/plain": [
       "((7616, 3), (952, 3))"
      ]
     },
     "execution_count": 16,
     "metadata": {},
     "output_type": "execute_result"
    }
   ],
   "source": [
    "train_keep.shape, valid_keep.shape"
   ]
  },
  {
   "cell_type": "code",
   "execution_count": 17,
   "id": "33a687cc-542d-48d4-b5f0-8e870920418b",
   "metadata": {},
   "outputs": [],
   "source": [
    "train_keep.columns = [\"Cell_Line\", \"Drug_ID\", \"AUC\"]\n",
    "valid_keep.columns = [\"Cell_Line\", \"Drug_ID\", \"AUC\"]"
   ]
  },
  {
   "cell_type": "code",
   "execution_count": 18,
   "id": "549ca0e0-f575-4ce0-aee1-5370b295d024",
   "metadata": {},
   "outputs": [
    {
     "data": {
      "text/html": [
       "<div>\n",
       "<style scoped>\n",
       "    .dataframe tbody tr th:only-of-type {\n",
       "        vertical-align: middle;\n",
       "    }\n",
       "\n",
       "    .dataframe tbody tr th {\n",
       "        vertical-align: top;\n",
       "    }\n",
       "\n",
       "    .dataframe thead th {\n",
       "        text-align: right;\n",
       "    }\n",
       "</style>\n",
       "<table border=\"1\" class=\"dataframe\">\n",
       "  <thead>\n",
       "    <tr style=\"text-align: right;\">\n",
       "      <th></th>\n",
       "      <th>Cell_Line</th>\n",
       "      <th>Drug_ID</th>\n",
       "      <th>AUC</th>\n",
       "    </tr>\n",
       "  </thead>\n",
       "  <tbody>\n",
       "    <tr>\n",
       "      <th>0</th>\n",
       "      <td>ACH-000956</td>\n",
       "      <td>Drug_749</td>\n",
       "      <td>0.7153</td>\n",
       "    </tr>\n",
       "    <tr>\n",
       "      <th>1</th>\n",
       "      <td>ACH-000956</td>\n",
       "      <td>Drug_1326</td>\n",
       "      <td>0.9579</td>\n",
       "    </tr>\n",
       "    <tr>\n",
       "      <th>2</th>\n",
       "      <td>ACH-000956</td>\n",
       "      <td>Drug_490</td>\n",
       "      <td>0.4130</td>\n",
       "    </tr>\n",
       "    <tr>\n",
       "      <th>3</th>\n",
       "      <td>ACH-000956</td>\n",
       "      <td>Drug_558</td>\n",
       "      <td>0.8004</td>\n",
       "    </tr>\n",
       "    <tr>\n",
       "      <th>4</th>\n",
       "      <td>ACH-000956</td>\n",
       "      <td>Drug_195</td>\n",
       "      <td>0.5743</td>\n",
       "    </tr>\n",
       "  </tbody>\n",
       "</table>\n",
       "</div>"
      ],
      "text/plain": [
       "    Cell_Line    Drug_ID     AUC\n",
       "0  ACH-000956   Drug_749  0.7153\n",
       "1  ACH-000956  Drug_1326  0.9579\n",
       "2  ACH-000956   Drug_490  0.4130\n",
       "3  ACH-000956   Drug_558  0.8004\n",
       "4  ACH-000956   Drug_195  0.5743"
      ]
     },
     "execution_count": 18,
     "metadata": {},
     "output_type": "execute_result"
    }
   ],
   "source": [
    "train_keep.head()"
   ]
  },
  {
   "cell_type": "code",
   "execution_count": 19,
   "id": "1e804b45-c94e-45a3-85f4-5ffb52fe9049",
   "metadata": {},
   "outputs": [
    {
     "data": {
      "text/html": [
       "<div>\n",
       "<style scoped>\n",
       "    .dataframe tbody tr th:only-of-type {\n",
       "        vertical-align: middle;\n",
       "    }\n",
       "\n",
       "    .dataframe tbody tr th {\n",
       "        vertical-align: top;\n",
       "    }\n",
       "\n",
       "    .dataframe thead th {\n",
       "        text-align: right;\n",
       "    }\n",
       "</style>\n",
       "<table border=\"1\" class=\"dataframe\">\n",
       "  <thead>\n",
       "    <tr style=\"text-align: right;\">\n",
       "      <th></th>\n",
       "      <th>Cell_Line</th>\n",
       "      <th>Drug_ID</th>\n",
       "      <th>AUC</th>\n",
       "    </tr>\n",
       "  </thead>\n",
       "  <tbody>\n",
       "    <tr>\n",
       "      <th>0</th>\n",
       "      <td>ACH-000956</td>\n",
       "      <td>Drug_895</td>\n",
       "      <td>0.5071</td>\n",
       "    </tr>\n",
       "    <tr>\n",
       "      <th>1</th>\n",
       "      <td>ACH-000956</td>\n",
       "      <td>Drug_614</td>\n",
       "      <td>0.6525</td>\n",
       "    </tr>\n",
       "    <tr>\n",
       "      <th>2</th>\n",
       "      <td>ACH-000956</td>\n",
       "      <td>Drug_1040</td>\n",
       "      <td>0.8944</td>\n",
       "    </tr>\n",
       "    <tr>\n",
       "      <th>3</th>\n",
       "      <td>ACH-000323</td>\n",
       "      <td>Drug_1279</td>\n",
       "      <td>0.8691</td>\n",
       "    </tr>\n",
       "    <tr>\n",
       "      <th>4</th>\n",
       "      <td>ACH-000323</td>\n",
       "      <td>Drug_685</td>\n",
       "      <td>0.8527</td>\n",
       "    </tr>\n",
       "  </tbody>\n",
       "</table>\n",
       "</div>"
      ],
      "text/plain": [
       "    Cell_Line    Drug_ID     AUC\n",
       "0  ACH-000956   Drug_895  0.5071\n",
       "1  ACH-000956   Drug_614  0.6525\n",
       "2  ACH-000956  Drug_1040  0.8944\n",
       "3  ACH-000323  Drug_1279  0.8691\n",
       "4  ACH-000323   Drug_685  0.8527"
      ]
     },
     "execution_count": 19,
     "metadata": {},
     "output_type": "execute_result"
    }
   ],
   "source": [
    "valid_keep.head()"
   ]
  },
  {
   "cell_type": "code",
   "execution_count": 20,
   "id": "fd969c6a-8adb-4981-8304-af68720c58f6",
   "metadata": {},
   "outputs": [],
   "source": [
    "samp_drug = valid_keep[\"Drug_ID\"].unique()[-1]\n",
    "samp_ach = np.array(valid_keep[\"Cell_Line\"].unique()[-1])"
   ]
  },
  {
   "cell_type": "code",
   "execution_count": 21,
   "id": "a8520ef6-c30a-4a62-add7-6c3a3a5ffdd8",
   "metadata": {},
   "outputs": [
    {
     "name": "stdout",
     "output_type": "stream",
     "text": [
      "Drug_1326\n",
      "ACH-000828\n"
     ]
    }
   ],
   "source": [
    "print(samp_drug)\n",
    "print(samp_ach)"
   ]
  },
  {
   "cell_type": "code",
   "execution_count": 22,
   "id": "b8fef2e1-7313-4fab-94f4-ce3ea093172c",
   "metadata": {},
   "outputs": [],
   "source": [
    "train_gcn_feats = []\n",
    "train_adj_list = []\n",
    "for drug_id in train_keep[\"Drug_ID\"].values:\n",
    "    train_gcn_feats.append(dict_features[drug_id])\n",
    "    train_adj_list.append(dict_adj_mat[drug_id])"
   ]
  },
  {
   "cell_type": "code",
   "execution_count": 23,
   "id": "6d02c927-3821-47af-bdca-d96abbe1173b",
   "metadata": {},
   "outputs": [
    {
     "data": {
      "text/plain": [
       "(7616, 7616)"
      ]
     },
     "execution_count": 23,
     "metadata": {},
     "output_type": "execute_result"
    }
   ],
   "source": [
    "len(train_gcn_feats), len(train_adj_list)"
   ]
  },
  {
   "cell_type": "code",
   "execution_count": 24,
   "id": "98c3a68e-e301-4a8a-91db-9a531b6e6fdc",
   "metadata": {},
   "outputs": [],
   "source": [
    "valid_gcn_feats = []\n",
    "valid_adj_list = []\n",
    "for drug_id in valid_keep[\"Drug_ID\"].values:\n",
    "    valid_gcn_feats.append(dict_features[drug_id])\n",
    "    valid_adj_list.append(dict_adj_mat[drug_id])"
   ]
  },
  {
   "cell_type": "code",
   "execution_count": 25,
   "id": "a8e6da8f-c64d-437f-9acb-4b7ac568e12a",
   "metadata": {},
   "outputs": [
    {
     "data": {
      "text/plain": [
       "(952, 952)"
      ]
     },
     "execution_count": 25,
     "metadata": {},
     "output_type": "execute_result"
    }
   ],
   "source": [
    "len(valid_gcn_feats), len(valid_adj_list)"
   ]
  },
  {
   "cell_type": "code",
   "execution_count": 26,
   "id": "cae09740-94de-49a9-82c5-c0a92135dca4",
   "metadata": {},
   "outputs": [
    {
     "data": {
      "text/plain": [
       "8568"
      ]
     },
     "execution_count": 26,
     "metadata": {},
     "output_type": "execute_result"
    }
   ],
   "source": [
    "len(valid_gcn_feats) + len(train_gcn_feats)"
   ]
  },
  {
   "cell_type": "code",
   "execution_count": 27,
   "id": "61b4d2b5-bdb1-4a4f-86ed-52d6b7b6f4f2",
   "metadata": {},
   "outputs": [
    {
     "name": "stdout",
     "output_type": "stream",
     "text": [
      "CPU times: user 556 ms, sys: 792 ms, total: 1.35 s\n",
      "Wall time: 1.36 s\n"
     ]
    }
   ],
   "source": [
    "%%time\n",
    "# reduce the values to float16\n",
    "train_gcn_feats = np.array(train_gcn_feats).astype(\"float32\")\n",
    "valid_gcn_feats = np.array(valid_gcn_feats).astype(\"float32\")\n",
    "\n",
    "train_adj_list = np.array(train_adj_list).astype(\"float32\")\n",
    "valid_adj_list = np.array(valid_adj_list).astype(\"float32\")"
   ]
  },
  {
   "cell_type": "code",
   "execution_count": 28,
   "id": "627b345a-fb60-4546-a43c-019217b1a682",
   "metadata": {},
   "outputs": [
    {
     "data": {
      "text/plain": [
       "(7616, 223, 75)"
      ]
     },
     "execution_count": 28,
     "metadata": {},
     "output_type": "execute_result"
    }
   ],
   "source": [
    "train_gcn_feats.shape"
   ]
  },
  {
   "cell_type": "code",
   "execution_count": 29,
   "id": "def48db1-2c6e-458d-8f58-0e9913b110c3",
   "metadata": {},
   "outputs": [
    {
     "data": {
      "text/plain": [
       "numpy.ndarray"
      ]
     },
     "execution_count": 29,
     "metadata": {},
     "output_type": "execute_result"
    }
   ],
   "source": [
    "type(train_gcn_feats)"
   ]
  },
  {
   "cell_type": "code",
   "execution_count": 30,
   "id": "a8b99d64-577f-478a-b0ee-9ae7b75eb15b",
   "metadata": {},
   "outputs": [
    {
     "data": {
      "text/plain": [
       "(7616, 223, 223)"
      ]
     },
     "execution_count": 30,
     "metadata": {},
     "output_type": "execute_result"
    }
   ],
   "source": [
    "train_adj_list.shape"
   ]
  },
  {
   "cell_type": "code",
   "execution_count": 31,
   "id": "45866847-7010-49be-b739-af2fa24b8cae",
   "metadata": {},
   "outputs": [
    {
     "data": {
      "text/plain": [
       "numpy.ndarray"
      ]
     },
     "execution_count": 31,
     "metadata": {},
     "output_type": "execute_result"
    }
   ],
   "source": [
    "type(train_adj_list)"
   ]
  },
  {
   "cell_type": "code",
   "execution_count": 32,
   "id": "006cc2b0-e12a-4536-a425-4093c1d3d1af",
   "metadata": {},
   "outputs": [
    {
     "data": {
      "text/plain": [
       "array([['ACH-000956'],\n",
       "       ['ACH-000956'],\n",
       "       ['ACH-000956'],\n",
       "       ...,\n",
       "       ['ACH-000828'],\n",
       "       ['ACH-000828'],\n",
       "       ['ACH-000828']], dtype=object)"
      ]
     },
     "execution_count": 32,
     "metadata": {},
     "output_type": "execute_result"
    }
   ],
   "source": [
    "train_keep[\"Cell_Line\"].values.reshape(-1,1)"
   ]
  },
  {
   "cell_type": "code",
   "execution_count": 33,
   "id": "0b6bd145-134c-4a86-aa7b-c58a8dc9830f",
   "metadata": {},
   "outputs": [
    {
     "data": {
      "text/plain": [
       "(7616, 1)"
      ]
     },
     "execution_count": 33,
     "metadata": {},
     "output_type": "execute_result"
    }
   ],
   "source": [
    "train_keep[\"Cell_Line\"].values.reshape(-1,1).shape"
   ]
  },
  {
   "cell_type": "code",
   "execution_count": 34,
   "id": "e5ab750d-4f0d-45e2-9076-41ea98f40343",
   "metadata": {},
   "outputs": [
    {
     "data": {
      "text/plain": [
       "numpy.ndarray"
      ]
     },
     "execution_count": 34,
     "metadata": {},
     "output_type": "execute_result"
    }
   ],
   "source": [
    "type(train_keep[\"Cell_Line\"].values.reshape(-1,1))"
   ]
  },
  {
   "cell_type": "code",
   "execution_count": 35,
   "id": "ab08544e-73cc-44e0-9621-9c430d77ead1",
   "metadata": {},
   "outputs": [],
   "source": [
    "# valid_keep[\"Cell_Line\"].values.reshape(-1,1)"
   ]
  },
  {
   "cell_type": "code",
   "execution_count": 36,
   "id": "6d2fad49-6344-4c79-a4bd-3d2cf9d7bec8",
   "metadata": {},
   "outputs": [
    {
     "data": {
      "text/plain": [
       "(952, 1)"
      ]
     },
     "execution_count": 36,
     "metadata": {},
     "output_type": "execute_result"
    }
   ],
   "source": [
    "valid_keep[\"Cell_Line\"].values.reshape(-1,1).shape"
   ]
  },
  {
   "cell_type": "code",
   "execution_count": 37,
   "id": "69d7a603-d50f-4184-b767-4c1fdd6f3250",
   "metadata": {},
   "outputs": [
    {
     "data": {
      "text/plain": [
       "(952,)"
      ]
     },
     "execution_count": 37,
     "metadata": {},
     "output_type": "execute_result"
    }
   ],
   "source": [
    "valid_keep[\"AUC\"].shape"
   ]
  },
  {
   "cell_type": "code",
   "execution_count": 38,
   "id": "072482fd-799f-42ed-b322-efdf7cb9525b",
   "metadata": {},
   "outputs": [
    {
     "data": {
      "text/plain": [
       "(952, 1)"
      ]
     },
     "execution_count": 38,
     "metadata": {},
     "output_type": "execute_result"
    }
   ],
   "source": [
    "valid_keep[\"AUC\"].values.reshape(-1,1).shape"
   ]
  },
  {
   "cell_type": "code",
   "execution_count": 39,
   "id": "cde7c0aa-11e4-4fb6-be99-817de5c8f931",
   "metadata": {},
   "outputs": [
    {
     "data": {
      "text/plain": [
       "numpy.ndarray"
      ]
     },
     "execution_count": 39,
     "metadata": {},
     "output_type": "execute_result"
    }
   ],
   "source": [
    "type(valid_keep[\"AUC\"].values.reshape(-1,1))"
   ]
  },
  {
   "cell_type": "code",
   "execution_count": 40,
   "id": "4953da6b-84dd-4946-aefa-d6fa5ac1373c",
   "metadata": {},
   "outputs": [],
   "source": [
    "batch_size = 32"
   ]
  },
  {
   "cell_type": "code",
   "execution_count": 41,
   "id": "33adc7ef-5571-488f-aed9-38ef7f937495",
   "metadata": {},
   "outputs": [],
   "source": [
    "# Define the two regular data generators"
   ]
  },
  {
   "cell_type": "code",
   "execution_count": 42,
   "id": "e9725c4a-f3f1-46ca-b1db-f7c0f490ab93",
   "metadata": {},
   "outputs": [],
   "source": [
    "train_gen_alt = DataGenerator(train_gcn_feats, train_adj_list, train_keep[\"Cell_Line\"].values.reshape(-1,1), train_keep[\"Cell_Line\"].values.reshape(-1,1), train_keep[\"Cell_Line\"].values.reshape(-1,1), train_keep[\"AUC\"].values.reshape(-1,1), batch_size=32)"
   ]
  },
  {
   "cell_type": "code",
   "execution_count": 43,
   "id": "68518f4a-1496-4f16-af21-6160d81a0e5f",
   "metadata": {},
   "outputs": [],
   "source": [
    "val_gen_alt = DataGenerator(valid_gcn_feats, valid_adj_list, valid_keep[\"Cell_Line\"].values.reshape(-1,1), valid_keep[\"Cell_Line\"].values.reshape(-1,1), valid_keep[\"Cell_Line\"].values.reshape(-1,1), valid_keep[\"AUC\"].values.reshape(-1,1), batch_size=32)"
   ]
  },
  {
   "cell_type": "code",
   "execution_count": 44,
   "id": "783358b0-00eb-4e21-ba76-d297a6c947ad",
   "metadata": {},
   "outputs": [],
   "source": [
    "# print the contents"
   ]
  },
  {
   "cell_type": "code",
   "execution_count": 45,
   "id": "90113998-cc4e-46e2-8705-b0eddbb765ff",
   "metadata": {},
   "outputs": [],
   "source": [
    "# cat = 0\n",
    "# for X, y in train_gen_alt:\n",
    "#     print(X[0].shape, X[1].shape, X[2].shape, X[3].shape, X[4].shape, y.shape)\n",
    "#     cat = cat + 1\n",
    "#     print(cat)"
   ]
  },
  {
   "cell_type": "code",
   "execution_count": 46,
   "id": "a3cb4cc2-6f63-4caf-b7f7-368f5cee787c",
   "metadata": {
    "scrolled": true
   },
   "outputs": [
    {
     "name": "stdout",
     "output_type": "stream",
     "text": [
      "0.012001121 0.0044764034 (32, 1) (32, 1) (32, 1) (32, 1)\n",
      "1\n",
      "0.011930119 0.004476615 (32, 1) (32, 1) (32, 1) (32, 1)\n",
      "2\n",
      "0.012090807 0.004476463 (32, 1) (32, 1) (32, 1) (32, 1)\n",
      "3\n",
      "0.011289238 0.0044771484 (32, 1) (32, 1) (32, 1) (32, 1)\n",
      "4\n",
      "0.011479821 0.004476366 (32, 1) (32, 1) (32, 1) (32, 1)\n",
      "5\n",
      "0.012019806 0.0044755433 (32, 1) (32, 1) (32, 1) (32, 1)\n",
      "6\n",
      "0.0117077725 0.0044768755 (32, 1) (32, 1) (32, 1) (32, 1)\n",
      "7\n",
      "0.0107754115 0.0044774287 (32, 1) (32, 1) (32, 1) (32, 1)\n",
      "8\n",
      "0.011618087 0.004476782 (32, 1) (32, 1) (32, 1) (32, 1)\n",
      "9\n",
      "0.011334081 0.0044768294 (32, 1) (32, 1) (32, 1) (32, 1)\n",
      "10\n",
      "0.011804933 0.0044759726 (32, 1) (32, 1) (32, 1) (32, 1)\n",
      "11\n",
      "0.011726458 0.0044758995 (32, 1) (32, 1) (32, 1) (32, 1)\n",
      "12\n",
      "0.011061286 0.004476847 (32, 1) (32, 1) (32, 1) (32, 1)\n",
      "13\n",
      "0.012552317 0.0044754725 (32, 1) (32, 1) (32, 1) (32, 1)\n",
      "14\n",
      "0.011905829 0.0044758655 (32, 1) (32, 1) (32, 1) (32, 1)\n",
      "15\n",
      "0.011761958 0.0044763773 (32, 1) (32, 1) (32, 1) (32, 1)\n",
      "16\n",
      "0.012415919 0.004475461 (32, 1) (32, 1) (32, 1) (32, 1)\n",
      "17\n",
      "0.011588192 0.0044765533 (32, 1) (32, 1) (32, 1) (32, 1)\n",
      "18\n",
      "0.011767563 0.0044763056 (32, 1) (32, 1) (32, 1) (32, 1)\n",
      "19\n",
      "0.01208707 0.0044763735 (32, 1) (32, 1) (32, 1) (32, 1)\n",
      "20\n",
      "0.01172272 0.004476834 (32, 1) (32, 1) (32, 1) (32, 1)\n",
      "21\n",
      "0.011377055 0.004476956 (32, 1) (32, 1) (32, 1) (32, 1)\n",
      "22\n",
      "0.011436846 0.0044764406 (32, 1) (32, 1) (32, 1) (32, 1)\n",
      "23\n",
      "0.011406951 0.0044766525 (32, 1) (32, 1) (32, 1) (32, 1)\n",
      "24\n",
      "0.011464873 0.0044762236 (32, 1) (32, 1) (32, 1) (32, 1)\n",
      "25\n",
      "0.011666667 0.0044763414 (32, 1) (32, 1) (32, 1) (32, 1)\n",
      "26\n",
      "0.0117339315 0.0044758623 (32, 1) (32, 1) (32, 1) (32, 1)\n",
      "27\n",
      "0.011653587 0.004476422 (32, 1) (32, 1) (32, 1) (32, 1)\n",
      "28\n",
      "0.011534006 0.0044767414 (32, 1) (32, 1) (32, 1) (32, 1)\n",
      "29\n",
      "0.010814649 0.004476963 (32, 1) (32, 1) (32, 1) (32, 1)\n",
      "30\n",
      "0.011752616 0.004476209 (32, 1) (32, 1) (32, 1) (32, 1)\n",
      "31\n",
      "0.011238789 0.0044769393 (32, 1) (32, 1) (32, 1) (32, 1)\n",
      "32\n",
      "0.011909567 0.004476698 (32, 1) (32, 1) (32, 1) (32, 1)\n",
      "33\n",
      "0.012651346 0.004475908 (32, 1) (32, 1) (32, 1) (32, 1)\n",
      "34\n",
      "0.01131166 0.0044765472 (32, 1) (32, 1) (32, 1) (32, 1)\n",
      "35\n",
      "0.01183296 0.0044760564 (32, 1) (32, 1) (32, 1) (32, 1)\n",
      "36\n",
      "0.011582586 0.004475631 (32, 1) (32, 1) (32, 1) (32, 1)\n",
      "37\n",
      "0.011358371 0.0044765826 (32, 1) (32, 1) (32, 1) (32, 1)\n",
      "38\n",
      "0.011173394 0.0044774027 (32, 1) (32, 1) (32, 1) (32, 1)\n",
      "39\n",
      "0.011436846 0.004476503 (32, 1) (32, 1) (32, 1) (32, 1)\n",
      "40\n",
      "0.012464499 0.0044758613 (32, 1) (32, 1) (32, 1) (32, 1)\n",
      "41\n",
      "0.011825486 0.0044757873 (32, 1) (32, 1) (32, 1) (32, 1)\n",
      "42\n",
      "0.01142003 0.004476363 (32, 1) (32, 1) (32, 1) (32, 1)\n",
      "43\n",
      "0.011995516 0.004477493 (32, 1) (32, 1) (32, 1) (32, 1)\n",
      "44\n",
      "0.012059043 0.0044760806 (32, 1) (32, 1) (32, 1) (32, 1)\n",
      "45\n",
      "0.01131166 0.0044761277 (32, 1) (32, 1) (32, 1) (32, 1)\n",
      "46\n",
      "0.011027653 0.0044776006 (32, 1) (32, 1) (32, 1) (32, 1)\n",
      "47\n",
      "0.011732062 0.004476864 (32, 1) (32, 1) (32, 1) (32, 1)\n",
      "48\n",
      "0.011718984 0.004477158 (32, 1) (32, 1) (32, 1) (32, 1)\n",
      "49\n",
      "0.011631166 0.004475994 (32, 1) (32, 1) (32, 1) (32, 1)\n",
      "50\n",
      "0.011520927 0.0044764923 (32, 1) (32, 1) (32, 1) (32, 1)\n",
      "51\n",
      "0.0115695065 0.0044758045 (32, 1) (32, 1) (32, 1) (32, 1)\n",
      "52\n",
      "0.01154148 0.00447716 (32, 1) (32, 1) (32, 1) (32, 1)\n",
      "53\n",
      "0.011935725 0.0044763302 (32, 1) (32, 1) (32, 1) (32, 1)\n",
      "54\n",
      "0.011220105 0.004476615 (32, 1) (32, 1) (32, 1) (32, 1)\n",
      "55\n",
      "0.011369581 0.0044763396 (32, 1) (32, 1) (32, 1) (32, 1)\n",
      "56\n",
      "0.011903961 0.004476461 (32, 1) (32, 1) (32, 1) (32, 1)\n",
      "57\n",
      "0.012236547 0.004475522 (32, 1) (32, 1) (32, 1) (32, 1)\n",
      "58\n",
      "0.012466367 0.004475988 (32, 1) (32, 1) (32, 1) (32, 1)\n",
      "59\n",
      "0.012382287 0.0044746646 (32, 1) (32, 1) (32, 1) (32, 1)\n",
      "60\n",
      "0.010762332 0.0044778003 (32, 1) (32, 1) (32, 1) (32, 1)\n",
      "61\n",
      "0.011646113 0.0044764597 (32, 1) (32, 1) (32, 1) (32, 1)\n",
      "62\n",
      "0.012212257 0.004476525 (32, 1) (32, 1) (32, 1) (32, 1)\n",
      "63\n",
      "0.011139761 0.0044773873 (32, 1) (32, 1) (32, 1) (32, 1)\n",
      "64\n",
      "0.0118721975 0.00447622 (32, 1) (32, 1) (32, 1) (32, 1)\n",
      "65\n",
      "0.011025785 0.0044780956 (32, 1) (32, 1) (32, 1) (32, 1)\n",
      "66\n",
      "0.011816143 0.004476837 (32, 1) (32, 1) (32, 1) (32, 1)\n",
      "67\n",
      "0.01220852 0.0044759717 (32, 1) (32, 1) (32, 1) (32, 1)\n",
      "68\n",
      "0.012408446 0.0044750865 (32, 1) (32, 1) (32, 1) (32, 1)\n",
      "69\n",
      "0.011963752 0.0044757114 (32, 1) (32, 1) (32, 1) (32, 1)\n",
      "70\n",
      "0.010964125 0.004477327 (32, 1) (32, 1) (32, 1) (32, 1)\n",
      "71\n",
      "0.011562033 0.004476594 (32, 1) (32, 1) (32, 1) (32, 1)\n",
      "72\n",
      "0.011913303 0.00447612 (32, 1) (32, 1) (32, 1) (32, 1)\n",
      "73\n",
      "0.011946936 0.004476528 (32, 1) (32, 1) (32, 1) (32, 1)\n",
      "74\n",
      "0.011767563 0.004476533 (32, 1) (32, 1) (32, 1) (32, 1)\n",
      "75\n",
      "0.011761958 0.004476297 (32, 1) (32, 1) (32, 1) (32, 1)\n",
      "76\n",
      "0.012062781 0.0044762227 (32, 1) (32, 1) (32, 1) (32, 1)\n",
      "77\n",
      "0.0113452915 0.0044765924 (32, 1) (32, 1) (32, 1) (32, 1)\n",
      "78\n",
      "0.0118721975 0.0044763577 (32, 1) (32, 1) (32, 1) (32, 1)\n",
      "79\n",
      "0.011791853 0.004476443 (32, 1) (32, 1) (32, 1) (32, 1)\n",
      "80\n",
      "0.010762332 0.0044775093 (32, 1) (32, 1) (32, 1) (32, 1)\n",
      "81\n",
      "0.011350897 0.004476439 (32, 1) (32, 1) (32, 1) (32, 1)\n",
      "82\n",
      "0.01188154 0.0044764294 (32, 1) (32, 1) (32, 1) (32, 1)\n",
      "83\n",
      "0.011425635 0.0044764564 (32, 1) (32, 1) (32, 1) (32, 1)\n",
      "84\n",
      "0.012105755 0.0044757477 (32, 1) (32, 1) (32, 1) (32, 1)\n",
      "85\n",
      "0.0117358 0.004476444 (32, 1) (32, 1) (32, 1) (32, 1)\n",
      "86\n",
      "0.011812407 0.0044774613 (32, 1) (32, 1) (32, 1) (32, 1)\n",
      "87\n",
      "0.011907698 0.0044765044 (32, 1) (32, 1) (32, 1) (32, 1)\n",
      "88\n",
      "0.011605008 0.0044768616 (32, 1) (32, 1) (32, 1) (32, 1)\n",
      "89\n",
      "0.011831091 0.0044758995 (32, 1) (32, 1) (32, 1) (32, 1)\n",
      "90\n",
      "0.011810538 0.0044767396 (32, 1) (32, 1) (32, 1) (32, 1)\n",
      "91\n",
      "0.011291106 0.004476727 (32, 1) (32, 1) (32, 1) (32, 1)\n",
      "92\n",
      "0.011313528 0.004476429 (32, 1) (32, 1) (32, 1) (32, 1)\n",
      "93\n",
      "0.011752616 0.004476161 (32, 1) (32, 1) (32, 1) (32, 1)\n",
      "94\n",
      "0.0120104635 0.0044759056 (32, 1) (32, 1) (32, 1) (32, 1)\n",
      "95\n",
      "0.012414051 0.004476035 (32, 1) (32, 1) (32, 1) (32, 1)\n",
      "96\n",
      "0.011627429 0.0044760723 (32, 1) (32, 1) (32, 1) (32, 1)\n",
      "97\n",
      "0.011315396 0.0044765407 (32, 1) (32, 1) (32, 1) (32, 1)\n",
      "98\n",
      "0.011412556 0.0044765202 (32, 1) (32, 1) (32, 1) (32, 1)\n",
      "99\n",
      "0.011433109 0.0044770837 (32, 1) (32, 1) (32, 1) (32, 1)\n",
      "100\n",
      "0.010676383 0.0044772914 (32, 1) (32, 1) (32, 1) (32, 1)\n",
      "101\n",
      "0.011991778 0.0044760657 (32, 1) (32, 1) (32, 1) (32, 1)\n",
      "102\n",
      "0.011775037 0.004476216 (32, 1) (32, 1) (32, 1) (32, 1)\n",
      "103\n",
      "0.011582586 0.0044768173 (32, 1) (32, 1) (32, 1) (32, 1)\n",
      "104\n",
      "0.011560164 0.0044760727 (32, 1) (32, 1) (32, 1) (32, 1)\n",
      "105\n",
      "0.012113228 0.004476703 (32, 1) (32, 1) (32, 1) (32, 1)\n",
      "106\n",
      "0.012457025 0.004475363 (32, 1) (32, 1) (32, 1) (32, 1)\n",
      "107\n",
      "0.012057175 0.0044760425 (32, 1) (32, 1) (32, 1) (32, 1)\n",
      "108\n",
      "0.012326233 0.004475795 (32, 1) (32, 1) (32, 1) (32, 1)\n",
      "109\n",
      "0.012040359 0.004476 (32, 1) (32, 1) (32, 1) (32, 1)\n",
      "110\n",
      "0.011748879 0.0044764997 (32, 1) (32, 1) (32, 1) (32, 1)\n",
      "111\n",
      "0.011866592 0.0044765286 (32, 1) (32, 1) (32, 1) (32, 1)\n",
      "112\n",
      "0.011235053 0.004477168 (32, 1) (32, 1) (32, 1) (32, 1)\n",
      "113\n",
      "0.01176009 0.004476529 (32, 1) (32, 1) (32, 1) (32, 1)\n",
      "114\n",
      "0.011401345 0.00447725 (32, 1) (32, 1) (32, 1) (32, 1)\n",
      "115\n",
      "0.01171151 0.0044761263 (32, 1) (32, 1) (32, 1) (32, 1)\n",
      "116\n",
      "0.012849402 0.0044741365 (32, 1) (32, 1) (32, 1) (32, 1)\n",
      "117\n",
      "0.0117171155 0.004475795 (32, 1) (32, 1) (32, 1) (32, 1)\n",
      "118\n",
      "0.012109492 0.004476354 (32, 1) (32, 1) (32, 1) (32, 1)\n",
      "119\n",
      "0.011554559 0.004475981 (32, 1) (32, 1) (32, 1) (32, 1)\n",
      "120\n",
      "0.011782511 0.0044764853 (32, 1) (32, 1) (32, 1) (32, 1)\n",
      "121\n",
      "0.011625561 0.0044764425 (32, 1) (32, 1) (32, 1) (32, 1)\n",
      "122\n",
      "0.011608744 0.0044767302 (32, 1) (32, 1) (32, 1) (32, 1)\n",
      "123\n",
      "0.011935725 0.0044764304 (32, 1) (32, 1) (32, 1) (32, 1)\n",
      "124\n",
      "0.011461136 0.0044768266 (32, 1) (32, 1) (32, 1) (32, 1)\n",
      "125\n",
      "0.011877803 0.004476367 (32, 1) (32, 1) (32, 1) (32, 1)\n",
      "126\n",
      "0.011591928 0.0044761323 (32, 1) (32, 1) (32, 1) (32, 1)\n",
      "127\n",
      "0.011956278 0.0044755707 (32, 1) (32, 1) (32, 1) (32, 1)\n",
      "128\n",
      "0.011306054 0.004476352 (32, 1) (32, 1) (32, 1) (32, 1)\n",
      "129\n",
      "0.011306054 0.004477169 (32, 1) (32, 1) (32, 1) (32, 1)\n",
      "130\n",
      "0.01129858 0.004476793 (32, 1) (32, 1) (32, 1) (32, 1)\n",
      "131\n",
      "0.011653587 0.0044768928 (32, 1) (32, 1) (32, 1) (32, 1)\n",
      "132\n",
      "0.011162182 0.004477082 (32, 1) (32, 1) (32, 1) (32, 1)\n",
      "133\n",
      "0.011629297 0.004476356 (32, 1) (32, 1) (32, 1) (32, 1)\n",
      "134\n",
      "0.01245142 0.004476029 (32, 1) (32, 1) (32, 1) (32, 1)\n",
      "135\n",
      "0.011448056 0.004476107 (32, 1) (32, 1) (32, 1) (32, 1)\n",
      "136\n",
      "0.010915546 0.0044774534 (32, 1) (32, 1) (32, 1) (32, 1)\n",
      "137\n",
      "0.011763827 0.004476319 (32, 1) (32, 1) (32, 1) (32, 1)\n",
      "138\n",
      "0.011270553 0.004476743 (32, 1) (32, 1) (32, 1) (32, 1)\n",
      "139\n",
      "0.011946936 0.004476417 (32, 1) (32, 1) (32, 1) (32, 1)\n",
      "140\n",
      "0.010756726 0.004477116 (32, 1) (32, 1) (32, 1) (32, 1)\n",
      "141\n",
      "0.011332212 0.0044765947 (32, 1) (32, 1) (32, 1) (32, 1)\n",
      "142\n",
      "0.012102018 0.0044756755 (32, 1) (32, 1) (32, 1) (32, 1)\n",
      "143\n",
      "0.011765695 0.00447645 (32, 1) (32, 1) (32, 1) (32, 1)\n",
      "144\n",
      "0.011588192 0.0044764485 (32, 1) (32, 1) (32, 1) (32, 1)\n",
      "145\n",
      "0.011481689 0.0044770627 (32, 1) (32, 1) (32, 1) (32, 1)\n",
      "146\n",
      "0.01154148 0.0044765323 (32, 1) (32, 1) (32, 1) (32, 1)\n",
      "147\n",
      "0.012412182 0.0044761375 (32, 1) (32, 1) (32, 1) (32, 1)\n",
      "148\n",
      "0.011694694 0.004476566 (32, 1) (32, 1) (32, 1) (32, 1)\n",
      "149\n",
      "0.011612481 0.004476167 (32, 1) (32, 1) (32, 1) (32, 1)\n",
      "150\n",
      "0.011563902 0.004476382 (32, 1) (32, 1) (32, 1) (32, 1)\n",
      "151\n",
      "0.01154148 0.004476554 (32, 1) (32, 1) (32, 1) (32, 1)\n",
      "152\n",
      "0.011907698 0.004476791 (32, 1) (32, 1) (32, 1) (32, 1)\n",
      "153\n",
      "0.012212257 0.004476218 (32, 1) (32, 1) (32, 1) (32, 1)\n",
      "154\n",
      "0.011862855 0.0044764047 (32, 1) (32, 1) (32, 1) (32, 1)\n",
      "155\n",
      "0.0112761585 0.004477118 (32, 1) (32, 1) (32, 1) (32, 1)\n",
      "156\n",
      "0.012907324 0.004474785 (32, 1) (32, 1) (32, 1) (32, 1)\n",
      "157\n",
      "0.011971226 0.0044763032 (32, 1) (32, 1) (32, 1) (32, 1)\n",
      "158\n",
      "0.010689462 0.004476997 (32, 1) (32, 1) (32, 1) (32, 1)\n",
      "159\n",
      "0.012047833 0.004476264 (32, 1) (32, 1) (32, 1) (32, 1)\n",
      "160\n",
      "0.011640509 0.0044768318 (32, 1) (32, 1) (32, 1) (32, 1)\n",
      "161\n",
      "0.011588192 0.0044764527 (32, 1) (32, 1) (32, 1) (32, 1)\n",
      "162\n",
      "0.011438714 0.004476914 (32, 1) (32, 1) (32, 1) (32, 1)\n",
      "163\n",
      "0.011918909 0.004476479 (32, 1) (32, 1) (32, 1) (32, 1)\n",
      "164\n",
      "0.011287369 0.0044772592 (32, 1) (32, 1) (32, 1) (32, 1)\n",
      "165\n",
      "0.011674141 0.0044759195 (32, 1) (32, 1) (32, 1) (32, 1)\n",
      "166\n",
      "0.011681614 0.0044768066 (32, 1) (32, 1) (32, 1) (32, 1)\n",
      "167\n",
      "0.012062781 0.0044759656 (32, 1) (32, 1) (32, 1) (32, 1)\n",
      "168\n",
      "0.012567265 0.0044755307 (32, 1) (32, 1) (32, 1) (32, 1)\n",
      "169\n",
      "0.011668535 0.0044761514 (32, 1) (32, 1) (32, 1) (32, 1)\n",
      "170\n",
      "0.011619955 0.004476165 (32, 1) (32, 1) (32, 1) (32, 1)\n",
      "171\n",
      "0.011126681 0.0044770734 (32, 1) (32, 1) (32, 1) (32, 1)\n",
      "172\n",
      "0.011591928 0.0044758585 (32, 1) (32, 1) (32, 1) (32, 1)\n",
      "173\n",
      "0.011072496 0.0044777333 (32, 1) (32, 1) (32, 1) (32, 1)\n",
      "174\n",
      "0.011520927 0.0044765994 (32, 1) (32, 1) (32, 1) (32, 1)\n",
      "175\n",
      "0.011700299 0.004476555 (32, 1) (32, 1) (32, 1) (32, 1)\n",
      "176\n",
      "0.011401345 0.004477529 (32, 1) (32, 1) (32, 1) (32, 1)\n",
      "177\n",
      "0.011296712 0.0044777817 (32, 1) (32, 1) (32, 1) (32, 1)\n",
      "178\n",
      "0.011745142 0.0044763 (32, 1) (32, 1) (32, 1) (32, 1)\n",
      "179\n",
      "0.011173394 0.004476944 (32, 1) (32, 1) (32, 1) (32, 1)\n",
      "180\n",
      "0.012144992 0.0044759167 (32, 1) (32, 1) (32, 1) (32, 1)\n",
      "181\n",
      "0.012292601 0.0044758692 (32, 1) (32, 1) (32, 1) (32, 1)\n",
      "182\n",
      "0.012714873 0.0044744555 (32, 1) (32, 1) (32, 1) (32, 1)\n",
      "183\n",
      "0.011931988 0.004476322 (32, 1) (32, 1) (32, 1) (32, 1)\n",
      "184\n",
      "0.012253364 0.004475601 (32, 1) (32, 1) (32, 1) (32, 1)\n",
      "185\n",
      "0.012933482 0.004474322 (32, 1) (32, 1) (32, 1) (32, 1)\n",
      "186\n",
      "0.0119581465 0.0044756355 (32, 1) (32, 1) (32, 1) (32, 1)\n",
      "187\n",
      "0.011033258 0.0044770017 (32, 1) (32, 1) (32, 1) (32, 1)\n",
      "188\n",
      "0.012851271 0.004474963 (32, 1) (32, 1) (32, 1) (32, 1)\n",
      "189\n",
      "0.012238416 0.0044751186 (32, 1) (32, 1) (32, 1) (32, 1)\n",
      "190\n",
      "0.011477952 0.004476801 (32, 1) (32, 1) (32, 1) (32, 1)\n",
      "191\n",
      "0.012684978 0.0044756713 (32, 1) (32, 1) (32, 1) (32, 1)\n",
      "192\n",
      "0.011728326 0.0044760522 (32, 1) (32, 1) (32, 1) (32, 1)\n",
      "193\n",
      "0.012662556 0.00447493 (32, 1) (32, 1) (32, 1) (32, 1)\n",
      "194\n",
      "0.011433109 0.0044763596 (32, 1) (32, 1) (32, 1) (32, 1)\n",
      "195\n",
      "0.011324738 0.0044769766 (32, 1) (32, 1) (32, 1) (32, 1)\n",
      "196\n",
      "0.011567638 0.0044769733 (32, 1) (32, 1) (32, 1) (32, 1)\n",
      "197\n",
      "0.011433109 0.0044771126 (32, 1) (32, 1) (32, 1) (32, 1)\n",
      "198\n",
      "0.012195441 0.004475923 (32, 1) (32, 1) (32, 1) (32, 1)\n",
      "199\n",
      "0.011791853 0.0044761226 (32, 1) (32, 1) (32, 1) (32, 1)\n",
      "200\n",
      "0.01159006 0.004476179 (32, 1) (32, 1) (32, 1) (32, 1)\n",
      "201\n",
      "0.011874066 0.004476043 (32, 1) (32, 1) (32, 1) (32, 1)\n",
      "202\n",
      "0.0114144245 0.0044765687 (32, 1) (32, 1) (32, 1) (32, 1)\n",
      "203\n",
      "0.01110426 0.0044770734 (32, 1) (32, 1) (32, 1) (32, 1)\n",
      "204\n",
      "0.011393871 0.004476743 (32, 1) (32, 1) (32, 1) (32, 1)\n",
      "205\n",
      "0.01230568 0.0044756187 (32, 1) (32, 1) (32, 1) (32, 1)\n",
      "206\n",
      "0.0114929 0.0044763433 (32, 1) (32, 1) (32, 1) (32, 1)\n",
      "207\n",
      "0.011741405 0.0044765724 (32, 1) (32, 1) (32, 1) (32, 1)\n",
      "208\n",
      "0.011651719 0.0044764625 (32, 1) (32, 1) (32, 1) (32, 1)\n",
      "209\n",
      "0.011730194 0.004476377 (32, 1) (32, 1) (32, 1) (32, 1)\n",
      "210\n",
      "0.011474215 0.0044766758 (32, 1) (32, 1) (32, 1) (32, 1)\n",
      "211\n",
      "0.010971599 0.004477106 (32, 1) (32, 1) (32, 1) (32, 1)\n",
      "212\n",
      "0.011451794 0.0044766036 (32, 1) (32, 1) (32, 1) (32, 1)\n",
      "213\n",
      "0.012210389 0.004476276 (32, 1) (32, 1) (32, 1) (32, 1)\n",
      "214\n",
      "0.011948804 0.0044760345 (32, 1) (32, 1) (32, 1) (32, 1)\n",
      "215\n",
      "0.011573244 0.004476552 (32, 1) (32, 1) (32, 1) (32, 1)\n",
      "216\n",
      "0.011524663 0.004476413 (32, 1) (32, 1) (32, 1) (32, 1)\n",
      "217\n",
      "0.011633035 0.0044755717 (32, 1) (32, 1) (32, 1) (32, 1)\n",
      "218\n",
      "0.011619955 0.0044758627 (32, 1) (32, 1) (32, 1) (32, 1)\n",
      "219\n",
      "0.011349028 0.0044770916 (32, 1) (32, 1) (32, 1) (32, 1)\n",
      "220\n",
      "0.011494768 0.004476864 (32, 1) (32, 1) (32, 1) (32, 1)\n",
      "221\n",
      "0.012144992 0.0044757267 (32, 1) (32, 1) (32, 1) (32, 1)\n",
      "222\n",
      "0.011799327 0.0044767777 (32, 1) (32, 1) (32, 1) (32, 1)\n",
      "223\n",
      "0.011335949 0.004476732 (32, 1) (32, 1) (32, 1) (32, 1)\n",
      "224\n",
      "0.01161435 0.004476623 (32, 1) (32, 1) (32, 1) (32, 1)\n",
      "225\n",
      "0.011554559 0.004476334 (32, 1) (32, 1) (32, 1) (32, 1)\n",
      "226\n",
      "0.01174701 0.004477043 (32, 1) (32, 1) (32, 1) (32, 1)\n",
      "227\n",
      "0.012617713 0.0044746376 (32, 1) (32, 1) (32, 1) (32, 1)\n",
      "228\n",
      "0.011109865 0.004476762 (32, 1) (32, 1) (32, 1) (32, 1)\n",
      "229\n",
      "0.011537743 0.0044762488 (32, 1) (32, 1) (32, 1) (32, 1)\n",
      "230\n",
      "0.0117358 0.0044764876 (32, 1) (32, 1) (32, 1) (32, 1)\n",
      "231\n",
      "0.012634529 0.004475494 (32, 1) (32, 1) (32, 1) (32, 1)\n",
      "232\n",
      "0.0115003735 0.004476756 (32, 1) (32, 1) (32, 1) (32, 1)\n",
      "233\n",
      "0.012225336 0.0044761337 (32, 1) (32, 1) (32, 1) (32, 1)\n",
      "234\n",
      "0.011010837 0.00447711 (32, 1) (32, 1) (32, 1) (32, 1)\n",
      "235\n",
      "0.011332212 0.0044772956 (32, 1) (32, 1) (32, 1) (32, 1)\n",
      "236\n",
      "0.0115526905 0.0044766823 (32, 1) (32, 1) (32, 1) (32, 1)\n",
      "237\n",
      "0.011980568 0.0044761417 (32, 1) (32, 1) (32, 1) (32, 1)\n",
      "238\n"
     ]
    }
   ],
   "source": [
    "cat = 0\n",
    "for X, y in train_gen_alt:\n",
    "    print(np.mean(X[0]), np.mean(X[1]), X[2].shape, X[3].shape, X[4].shape, y.shape)\n",
    "    cat = cat + 1\n",
    "    print(cat)"
   ]
  },
  {
   "cell_type": "code",
   "execution_count": 47,
   "id": "375b73a9-77a4-417a-a918-d215987842e6",
   "metadata": {},
   "outputs": [
    {
     "data": {
      "text/plain": [
       "7616"
      ]
     },
     "execution_count": 47,
     "metadata": {},
     "output_type": "execute_result"
    }
   ],
   "source": [
    "238*32"
   ]
  },
  {
   "cell_type": "code",
   "execution_count": 48,
   "id": "810d2375-f15d-4c16-bc03-3f60861ab7ec",
   "metadata": {},
   "outputs": [],
   "source": [
    "# # Similarly study the validation data\n",
    "# cat = 0\n",
    "# for X, y in val_gen_alt:\n",
    "#     print(np.mean(X[0]), np.mean(X[1]), X[2].shape, X[3].shape, X[4].shape, y.shape)\n",
    "#     cat = cat + 1\n",
    "#     print(cat)"
   ]
  },
  {
   "cell_type": "code",
   "execution_count": 49,
   "id": "ad4bb1a4-a188-4a79-ac06-48dae77e25ef",
   "metadata": {},
   "outputs": [
    {
     "data": {
      "text/plain": [
       "952"
      ]
     },
     "execution_count": 49,
     "metadata": {},
     "output_type": "execute_result"
    }
   ],
   "source": [
    "29*32+24"
   ]
  },
  {
   "cell_type": "code",
   "execution_count": 50,
   "id": "712256b3-ec75-41cf-9fad-a1455514d06a",
   "metadata": {},
   "outputs": [],
   "source": [
    "# Okay, let's define the bootstrap generator here for the train data. Notice that, the validation generator will remain the same for bootstrap training as well."
   ]
  },
  {
   "cell_type": "code",
   "execution_count": 51,
   "id": "939e079d-5b2e-4569-ac36-805a0b48b376",
   "metadata": {},
   "outputs": [],
   "source": [
    "train_gen_bootstrap = BootstrapGenerator(train_gcn_feats, train_adj_list, train_keep[\"Cell_Line\"].values.reshape(-1,1), train_keep[\"Cell_Line\"].values.reshape(-1,1), train_keep[\"Cell_Line\"].values.reshape(-1,1), train_keep[\"AUC\"].values.reshape(-1,1), batch_size=32)"
   ]
  },
  {
   "cell_type": "code",
   "execution_count": 52,
   "id": "94c39b7e-9a50-4634-ac36-0dfef0a249ce",
   "metadata": {
    "scrolled": true
   },
   "outputs": [
    {
     "name": "stdout",
     "output_type": "stream",
     "text": [
      "0.011459268 0.004476404 (32, 1) (32, 1) (32, 1) (32, 1)\n",
      "1\n",
      "0.011283632 0.0044769906 (32, 1) (32, 1) (32, 1) (32, 1)\n",
      "2\n",
      "0.011956278 0.0044762567 (32, 1) (32, 1) (32, 1) (32, 1)\n",
      "3\n",
      "0.011410688 0.0044767237 (32, 1) (32, 1) (32, 1) (32, 1)\n",
      "4\n",
      "0.011797459 0.004476289 (32, 1) (32, 1) (32, 1) (32, 1)\n",
      "5\n",
      "0.011784379 0.004475936 (32, 1) (32, 1) (32, 1) (32, 1)\n",
      "6\n",
      "0.011535875 0.0044764257 (32, 1) (32, 1) (32, 1) (32, 1)\n",
      "7\n",
      "0.011866592 0.0044768755 (32, 1) (32, 1) (32, 1) (32, 1)\n",
      "8\n",
      "0.011505979 0.0044764993 (32, 1) (32, 1) (32, 1) (32, 1)\n",
      "9\n",
      "0.011491031 0.004476044 (32, 1) (32, 1) (32, 1) (32, 1)\n",
      "10\n",
      "0.011442452 0.004476693 (32, 1) (32, 1) (32, 1) (32, 1)\n",
      "11\n",
      "0.010928625 0.004477154 (32, 1) (32, 1) (32, 1) (32, 1)\n",
      "12\n",
      "0.012169283 0.0044759833 (32, 1) (32, 1) (32, 1) (32, 1)\n",
      "13\n",
      "0.011513453 0.004476108 (32, 1) (32, 1) (32, 1) (32, 1)\n",
      "14\n",
      "0.011961884 0.004475937 (32, 1) (32, 1) (32, 1) (32, 1)\n",
      "15\n",
      "0.011950673 0.004476861 (32, 1) (32, 1) (32, 1) (32, 1)\n",
      "16\n",
      "0.0114144245 0.0044765053 (32, 1) (32, 1) (32, 1) (32, 1)\n",
      "17\n",
      "0.011991778 0.0044763237 (32, 1) (32, 1) (32, 1) (32, 1)\n",
      "18\n",
      "0.011935725 0.0044766506 (32, 1) (32, 1) (32, 1) (32, 1)\n",
      "19\n",
      "0.011545217 0.0044767675 (32, 1) (32, 1) (32, 1) (32, 1)\n",
      "20\n",
      "0.011681614 0.004476254 (32, 1) (32, 1) (32, 1) (32, 1)\n",
      "21\n",
      "0.012131914 0.0044758343 (32, 1) (32, 1) (32, 1) (32, 1)\n",
      "22\n",
      "0.012195441 0.0044755596 (32, 1) (32, 1) (32, 1) (32, 1)\n",
      "23\n",
      "0.011126681 0.004477041 (32, 1) (32, 1) (32, 1) (32, 1)\n",
      "24\n",
      "0.011726458 0.004476298 (32, 1) (32, 1) (32, 1) (32, 1)\n",
      "25\n",
      "0.012559791 0.0044754334 (32, 1) (32, 1) (32, 1) (32, 1)\n",
      "26\n",
      "0.011507847 0.00447615 (32, 1) (32, 1) (32, 1) (32, 1)\n",
      "27\n",
      "0.012193573 0.004475893 (32, 1) (32, 1) (32, 1) (32, 1)\n",
      "28\n",
      "0.0122571 0.004475353 (32, 1) (32, 1) (32, 1) (32, 1)\n",
      "29\n",
      "0.011584454 0.0044767307 (32, 1) (32, 1) (32, 1) (32, 1)\n",
      "30\n",
      "0.011442452 0.0044763163 (32, 1) (32, 1) (32, 1) (32, 1)\n",
      "31\n",
      "0.012174888 0.0044761514 (32, 1) (32, 1) (32, 1) (32, 1)\n",
      "32\n",
      "0.012292601 0.0044760224 (32, 1) (32, 1) (32, 1) (32, 1)\n",
      "33\n",
      "0.011547085 0.0044770124 (32, 1) (32, 1) (32, 1) (32, 1)\n",
      "34\n",
      "0.012909193 0.0044744466 (32, 1) (32, 1) (32, 1) (32, 1)\n",
      "35\n",
      "0.011164051 0.0044770585 (32, 1) (32, 1) (32, 1) (32, 1)\n",
      "36\n",
      "0.011864724 0.004476131 (32, 1) (32, 1) (32, 1) (32, 1)\n",
      "37\n",
      "0.011713378 0.004476103 (32, 1) (32, 1) (32, 1) (32, 1)\n",
      "38\n",
      "0.011136024 0.004476576 (32, 1) (32, 1) (32, 1) (32, 1)\n",
      "39\n",
      "0.011696562 0.004475993 (32, 1) (32, 1) (32, 1) (32, 1)\n",
      "40\n",
      "0.012320627 0.004475846 (32, 1) (32, 1) (32, 1) (32, 1)\n",
      "41\n",
      "0.011956278 0.0044756182 (32, 1) (32, 1) (32, 1) (32, 1)\n",
      "42\n",
      "0.012031017 0.004476089 (32, 1) (32, 1) (32, 1) (32, 1)\n",
      "43\n",
      "0.011724589 0.0044763265 (32, 1) (32, 1) (32, 1) (32, 1)\n",
      "44\n",
      "0.011350897 0.0044772667 (32, 1) (32, 1) (32, 1) (32, 1)\n",
      "45\n",
      "0.011634903 0.004476807 (32, 1) (32, 1) (32, 1) (32, 1)\n",
      "46\n",
      "0.011683483 0.004476082 (32, 1) (32, 1) (32, 1) (32, 1)\n",
      "47\n",
      "0.011315396 0.0044775703 (32, 1) (32, 1) (32, 1) (32, 1)\n",
      "48\n",
      "0.012075859 0.0044759344 (32, 1) (32, 1) (32, 1) (32, 1)\n",
      "49\n",
      "0.012113228 0.004476482 (32, 1) (32, 1) (32, 1) (32, 1)\n",
      "50\n",
      "0.012414051 0.004475737 (32, 1) (32, 1) (32, 1) (32, 1)\n",
      "51\n",
      "0.011278027 0.004476711 (32, 1) (32, 1) (32, 1) (32, 1)\n",
      "52\n",
      "0.011543348 0.0044768797 (32, 1) (32, 1) (32, 1) (32, 1)\n",
      "53\n",
      "0.011220105 0.004476833 (32, 1) (32, 1) (32, 1) (32, 1)\n",
      "54\n",
      "0.011705904 0.004476056 (32, 1) (32, 1) (32, 1) (32, 1)\n",
      "55\n",
      "0.012059043 0.0044767642 (32, 1) (32, 1) (32, 1) (32, 1)\n",
      "56\n",
      "0.011672272 0.0044771754 (32, 1) (32, 1) (32, 1) (32, 1)\n",
      "57\n",
      "0.012130044 0.004475456 (32, 1) (32, 1) (32, 1) (32, 1)\n",
      "58\n",
      "0.011995516 0.0044768993 (32, 1) (32, 1) (32, 1) (32, 1)\n",
      "59\n",
      "0.01116592 0.0044768704 (32, 1) (32, 1) (32, 1) (32, 1)\n",
      "60\n",
      "0.010988415 0.004476487 (32, 1) (32, 1) (32, 1) (32, 1)\n",
      "61\n",
      "0.011134155 0.0044772127 (32, 1) (32, 1) (32, 1) (32, 1)\n",
      "62\n",
      "0.011171524 0.0044772266 (32, 1) (32, 1) (32, 1) (32, 1)\n",
      "63\n",
      "0.011244395 0.0044774376 (32, 1) (32, 1) (32, 1) (32, 1)\n",
      "64\n",
      "0.01134716 0.0044766204 (32, 1) (32, 1) (32, 1) (32, 1)\n",
      "65\n",
      "0.012182361 0.004474881 (32, 1) (32, 1) (32, 1) (32, 1)\n",
      "66\n",
      "0.011662929 0.004475581 (32, 1) (32, 1) (32, 1) (32, 1)\n",
      "67\n",
      "0.010822123 0.004477215 (32, 1) (32, 1) (32, 1) (32, 1)\n",
      "68\n",
      "0.011644245 0.0044762315 (32, 1) (32, 1) (32, 1) (32, 1)\n",
      "69\n",
      "0.011535875 0.004476918 (32, 1) (32, 1) (32, 1) (32, 1)\n",
      "70\n",
      "0.011795591 0.0044768336 (32, 1) (32, 1) (32, 1) (32, 1)\n",
      "71\n",
      "0.0116647985 0.0044758706 (32, 1) (32, 1) (32, 1) (32, 1)\n",
      "72\n",
      "0.011109865 0.004477002 (32, 1) (32, 1) (32, 1) (32, 1)\n",
      "73\n",
      "0.012242152 0.0044760453 (32, 1) (32, 1) (32, 1) (32, 1)\n",
      "74\n",
      "0.011423767 0.0044771186 (32, 1) (32, 1) (32, 1) (32, 1)\n",
      "75\n",
      "0.011145366 0.004476731 (32, 1) (32, 1) (32, 1) (32, 1)\n",
      "76\n",
      "0.011709642 0.0044760434 (32, 1) (32, 1) (32, 1) (32, 1)\n",
      "77\n",
      "0.010921151 0.0044769887 (32, 1) (32, 1) (32, 1) (32, 1)\n",
      "78\n",
      "0.0112761585 0.004477457 (32, 1) (32, 1) (32, 1) (32, 1)\n",
      "79\n",
      "0.012473841 0.0044753924 (32, 1) (32, 1) (32, 1) (32, 1)\n",
      "80\n",
      "0.01265695 0.004475186 (32, 1) (32, 1) (32, 1) (32, 1)\n",
      "81\n",
      "0.011644245 0.0044761947 (32, 1) (32, 1) (32, 1) (32, 1)\n",
      "82\n",
      "0.0113621075 0.0044770394 (32, 1) (32, 1) (32, 1) (32, 1)\n",
      "83\n",
      "0.011205157 0.004476318 (32, 1) (32, 1) (32, 1) (32, 1)\n",
      "84\n",
      "0.011291106 0.00447709 (32, 1) (32, 1) (32, 1) (32, 1)\n",
      "85\n",
      "0.012206651 0.0044754487 (32, 1) (32, 1) (32, 1) (32, 1)\n",
      "86\n",
      "0.0109304935 0.0044779545 (32, 1) (32, 1) (32, 1) (32, 1)\n",
      "87\n",
      "0.012292601 0.0044753714 (32, 1) (32, 1) (32, 1) (32, 1)\n",
      "88\n",
      "0.01200299 0.004476611 (32, 1) (32, 1) (32, 1) (32, 1)\n",
      "89\n",
      "0.012072123 0.004476079 (32, 1) (32, 1) (32, 1) (32, 1)\n",
      "90\n",
      "0.0109734675 0.0044773547 (32, 1) (32, 1) (32, 1) (32, 1)\n",
      "91\n",
      "0.0117077725 0.004475976 (32, 1) (32, 1) (32, 1) (32, 1)\n",
      "92\n",
      "0.011775037 0.004476228 (32, 1) (32, 1) (32, 1) (32, 1)\n",
      "93\n",
      "0.011782511 0.0044764066 (32, 1) (32, 1) (32, 1) (32, 1)\n",
      "94\n",
      "0.011367713 0.0044771535 (32, 1) (32, 1) (32, 1) (32, 1)\n",
      "95\n",
      "0.012582213 0.004475 (32, 1) (32, 1) (32, 1) (32, 1)\n",
      "96\n",
      "0.011494768 0.004477057 (32, 1) (32, 1) (32, 1) (32, 1)\n",
      "97\n",
      "0.012189835 0.0044754744 (32, 1) (32, 1) (32, 1) (32, 1)\n",
      "98\n",
      "0.012666293 0.004475633 (32, 1) (32, 1) (32, 1) (32, 1)\n",
      "99\n",
      "0.012240284 0.0044761947 (32, 1) (32, 1) (32, 1) (32, 1)\n",
      "100\n",
      "0.012130044 0.004476228 (32, 1) (32, 1) (32, 1) (32, 1)\n",
      "101\n",
      "0.011369581 0.0044766553 (32, 1) (32, 1) (32, 1) (32, 1)\n",
      "102\n",
      "0.011743274 0.0044771903 (32, 1) (32, 1) (32, 1) (32, 1)\n",
      "103\n",
      "0.011771301 0.0044768495 (32, 1) (32, 1) (32, 1) (32, 1)\n",
      "104\n",
      "0.011236921 0.004477054 (32, 1) (32, 1) (32, 1) (32, 1)\n",
      "105\n",
      "0.011909567 0.0044760304 (32, 1) (32, 1) (32, 1) (32, 1)\n",
      "106\n",
      "0.011804933 0.004476133 (32, 1) (32, 1) (32, 1) (32, 1)\n",
      "107\n",
      "0.01184417 0.0044764914 (32, 1) (32, 1) (32, 1) (32, 1)\n",
      "108\n",
      "0.012131914 0.0044756234 (32, 1) (32, 1) (32, 1) (32, 1)\n",
      "109\n",
      "0.011107997 0.004477578 (32, 1) (32, 1) (32, 1) (32, 1)\n",
      "110\n",
      "0.012589687 0.0044754976 (32, 1) (32, 1) (32, 1) (32, 1)\n",
      "111\n",
      "0.0113452915 0.004476704 (32, 1) (32, 1) (32, 1) (32, 1)\n",
      "112\n",
      "0.011952541 0.004476283 (32, 1) (32, 1) (32, 1) (32, 1)\n",
      "113\n",
      "0.011182736 0.004476529 (32, 1) (32, 1) (32, 1) (32, 1)\n",
      "114\n",
      "0.011651719 0.0044769514 (32, 1) (32, 1) (32, 1) (32, 1)\n",
      "115\n",
      "0.011612481 0.0044766725 (32, 1) (32, 1) (32, 1) (32, 1)\n",
      "116\n",
      "0.012032885 0.004476119 (32, 1) (32, 1) (32, 1) (32, 1)\n",
      "117\n",
      "0.011821749 0.0044763037 (32, 1) (32, 1) (32, 1) (32, 1)\n",
      "118\n",
      "0.01198991 0.004476062 (32, 1) (32, 1) (32, 1) (32, 1)\n",
      "119\n",
      "0.01198991 0.0044758897 (32, 1) (32, 1) (32, 1) (32, 1)\n",
      "120\n",
      "0.011363976 0.0044766236 (32, 1) (32, 1) (32, 1) (32, 1)\n",
      "121\n",
      "0.012184231 0.004475617 (32, 1) (32, 1) (32, 1) (32, 1)\n",
      "122\n",
      "0.011806801 0.004475836 (32, 1) (32, 1) (32, 1) (32, 1)\n",
      "123\n",
      "0.012176757 0.004475696 (32, 1) (32, 1) (32, 1) (32, 1)\n",
      "124\n",
      "0.012073991 0.0044768346 (32, 1) (32, 1) (32, 1) (32, 1)\n",
      "125\n",
      "0.011259343 0.004477007 (32, 1) (32, 1) (32, 1) (32, 1)\n",
      "126\n",
      "0.012326233 0.004475437 (32, 1) (32, 1) (32, 1) (32, 1)\n",
      "127\n",
      "0.01227018 0.0044757603 (32, 1) (32, 1) (32, 1) (32, 1)\n",
      "128\n",
      "0.011928251 0.004476496 (32, 1) (32, 1) (32, 1) (32, 1)\n",
      "129\n",
      "0.011999252 0.0044759423 (32, 1) (32, 1) (32, 1) (32, 1)\n",
      "130\n",
      "0.010863229 0.004477684 (32, 1) (32, 1) (32, 1) (32, 1)\n",
      "131\n",
      "0.010921151 0.004476589 (32, 1) (32, 1) (32, 1) (32, 1)\n",
      "132\n",
      "0.011773169 0.004476261 (32, 1) (32, 1) (32, 1) (32, 1)\n",
      "133\n",
      "0.0119787 0.0044760313 (32, 1) (32, 1) (32, 1) (32, 1)\n",
      "134\n",
      "0.011862855 0.0044761035 (32, 1) (32, 1) (32, 1) (32, 1)\n",
      "135\n",
      "0.011950673 0.004476071 (32, 1) (32, 1) (32, 1) (32, 1)\n",
      "136\n",
      "0.011713378 0.004476759 (32, 1) (32, 1) (32, 1) (32, 1)\n",
      "137\n",
      "0.011935725 0.004475771 (32, 1) (32, 1) (32, 1) (32, 1)\n",
      "138\n",
      "0.011956278 0.0044756797 (32, 1) (32, 1) (32, 1) (32, 1)\n",
      "139\n",
      "0.011883408 0.004476598 (32, 1) (32, 1) (32, 1) (32, 1)\n",
      "140\n",
      "0.011606876 0.0044762306 (32, 1) (32, 1) (32, 1) (32, 1)\n",
      "141\n",
      "0.01185725 0.004476509 (32, 1) (32, 1) (32, 1) (32, 1)\n",
      "142\n",
      "0.011870329 0.004475953 (32, 1) (32, 1) (32, 1) (32, 1)\n",
      "143\n",
      "0.011999252 0.004476142 (32, 1) (32, 1) (32, 1) (32, 1)\n",
      "144\n",
      "0.011451794 0.004476691 (32, 1) (32, 1) (32, 1) (32, 1)\n",
      "145\n",
      "0.011625561 0.004476587 (32, 1) (32, 1) (32, 1) (32, 1)\n",
      "146\n",
      "0.0119413305 0.0044762664 (32, 1) (32, 1) (32, 1) (32, 1)\n",
      "147\n",
      "0.012486921 0.004475186 (32, 1) (32, 1) (32, 1) (32, 1)\n",
      "148\n",
      "0.012158072 0.0044760695 (32, 1) (32, 1) (32, 1) (32, 1)\n",
      "149\n",
      "0.0117077725 0.004475813 (32, 1) (32, 1) (32, 1) (32, 1)\n",
      "150\n",
      "0.011481689 0.004477136 (32, 1) (32, 1) (32, 1) (32, 1)\n",
      "151\n",
      "0.0117769055 0.004475843 (32, 1) (32, 1) (32, 1) (32, 1)\n",
      "152\n",
      "0.0119581465 0.004476199 (32, 1) (32, 1) (32, 1) (32, 1)\n",
      "153\n",
      "0.011631166 0.0044763396 (32, 1) (32, 1) (32, 1) (32, 1)\n",
      "154\n",
      "0.01117713 0.0044767642 (32, 1) (32, 1) (32, 1) (32, 1)\n",
      "155\n",
      "0.012363602 0.0044758474 (32, 1) (32, 1) (32, 1) (32, 1)\n",
      "156\n",
      "0.011377055 0.0044765263 (32, 1) (32, 1) (32, 1) (32, 1)\n",
      "157\n",
      "0.011466742 0.0044765086 (32, 1) (32, 1) (32, 1) (32, 1)\n",
      "158\n",
      "0.011162182 0.0044767843 (32, 1) (32, 1) (32, 1) (32, 1)\n",
      "159\n",
      "0.011584454 0.0044765305 (32, 1) (32, 1) (32, 1) (32, 1)\n",
      "160\n",
      "0.011659193 0.004475774 (32, 1) (32, 1) (32, 1) (32, 1)\n",
      "161\n",
      "0.011091181 0.004477305 (32, 1) (32, 1) (32, 1) (32, 1)\n",
      "162\n",
      "0.011960015 0.0044758175 (32, 1) (32, 1) (32, 1) (32, 1)\n",
      "163\n",
      "0.011160314 0.004476686 (32, 1) (32, 1) (32, 1) (32, 1)\n",
      "164\n",
      "0.011418161 0.0044772145 (32, 1) (32, 1) (32, 1) (32, 1)\n",
      "165\n",
      "0.011702168 0.00447606 (32, 1) (32, 1) (32, 1) (32, 1)\n",
      "166\n",
      "0.011692825 0.004476292 (32, 1) (32, 1) (32, 1) (32, 1)\n",
      "167\n",
      "0.011534006 0.004476326 (32, 1) (32, 1) (32, 1) (32, 1)\n",
      "168\n",
      "0.012073991 0.0044754352 (32, 1) (32, 1) (32, 1) (32, 1)\n",
      "169\n",
      "0.011649851 0.0044772574 (32, 1) (32, 1) (32, 1) (32, 1)\n",
      "170\n",
      "0.011629297 0.0044767736 (32, 1) (32, 1) (32, 1) (32, 1)\n",
      "171\n",
      "0.012073991 0.004475155 (32, 1) (32, 1) (32, 1) (32, 1)\n",
      "172\n",
      "0.011285501 0.004476621 (32, 1) (32, 1) (32, 1) (32, 1)\n",
      "173\n",
      "0.013002615 0.0044747167 (32, 1) (32, 1) (32, 1) (32, 1)\n",
      "174\n",
      "0.010979073 0.0044766176 (32, 1) (32, 1) (32, 1) (32, 1)\n",
      "175\n",
      "0.011408819 0.0044768252 (32, 1) (32, 1) (32, 1) (32, 1)\n",
      "176\n",
      "0.011315396 0.004476892 (32, 1) (32, 1) (32, 1) (32, 1)\n",
      "177\n",
      "0.012137518 0.004476291 (32, 1) (32, 1) (32, 1) (32, 1)\n",
      "178\n",
      "0.011349028 0.0044767344 (32, 1) (32, 1) (32, 1) (32, 1)\n",
      "179\n",
      "0.012666293 0.0044742418 (32, 1) (32, 1) (32, 1) (32, 1)\n",
      "180\n",
      "0.012677504 0.004475133 (32, 1) (32, 1) (32, 1) (32, 1)\n",
      "181\n",
      "0.012492526 0.0044753538 (32, 1) (32, 1) (32, 1) (32, 1)\n",
      "182\n",
      "0.011304186 0.004477148 (32, 1) (32, 1) (32, 1) (32, 1)\n",
      "183\n",
      "0.011313528 0.00447695 (32, 1) (32, 1) (32, 1) (32, 1)\n",
      "184\n",
      "0.011567638 0.0044763386 (32, 1) (32, 1) (32, 1) (32, 1)\n",
      "185\n",
      "0.011259343 0.004477145 (32, 1) (32, 1) (32, 1) (32, 1)\n",
      "186\n",
      "0.01169843 0.00447708 (32, 1) (32, 1) (32, 1) (32, 1)\n",
      "187\n",
      "0.011061286 0.004477215 (32, 1) (32, 1) (32, 1) (32, 1)\n",
      "188\n",
      "0.011674141 0.0044755433 (32, 1) (32, 1) (32, 1) (32, 1)\n",
      "189\n",
      "0.011651719 0.0044767247 (32, 1) (32, 1) (32, 1) (32, 1)\n",
      "190\n",
      "0.012307549 0.004475549 (32, 1) (32, 1) (32, 1) (32, 1)\n",
      "191\n",
      "0.011662929 0.0044764504 (32, 1) (32, 1) (32, 1) (32, 1)\n",
      "192\n",
      "0.012651346 0.004475408 (32, 1) (32, 1) (32, 1) (32, 1)\n",
      "193\n",
      "0.011791853 0.0044768173 (32, 1) (32, 1) (32, 1) (32, 1)\n",
      "194\n",
      "0.0119151715 0.004475764 (32, 1) (32, 1) (32, 1) (32, 1)\n",
      "195\n",
      "0.011799327 0.0044763805 (32, 1) (32, 1) (32, 1) (32, 1)\n",
      "196\n",
      "0.011036996 0.004476738 (32, 1) (32, 1) (32, 1) (32, 1)\n",
      "197\n",
      "0.011997384 0.0044765 (32, 1) (32, 1) (32, 1) (32, 1)\n",
      "198\n",
      "0.01075299 0.0044769174 (32, 1) (32, 1) (32, 1) (32, 1)\n",
      "199\n",
      "0.011227579 0.0044771275 (32, 1) (32, 1) (32, 1) (32, 1)\n",
      "200\n",
      "0.011999252 0.0044756676 (32, 1) (32, 1) (32, 1) (32, 1)\n",
      "201\n",
      "0.011388266 0.0044773407 (32, 1) (32, 1) (32, 1) (32, 1)\n",
      "202\n",
      "0.011253737 0.00447679 (32, 1) (32, 1) (32, 1) (32, 1)\n",
      "203\n",
      "0.011406951 0.004477187 (32, 1) (32, 1) (32, 1) (32, 1)\n",
      "204\n",
      "0.011922645 0.004476412 (32, 1) (32, 1) (32, 1) (32, 1)\n",
      "205\n",
      "0.011649851 0.0044772094 (32, 1) (32, 1) (32, 1) (32, 1)\n",
      "206\n",
      "0.011730194 0.0044760997 (32, 1) (32, 1) (32, 1) (32, 1)\n",
      "207\n",
      "0.011728326 0.0044769775 (32, 1) (32, 1) (32, 1) (32, 1)\n",
      "208\n",
      "0.011341554 0.0044764485 (32, 1) (32, 1) (32, 1) (32, 1)\n",
      "209\n",
      "0.012128176 0.004475059 (32, 1) (32, 1) (32, 1) (32, 1)\n",
      "210\n",
      "0.011584454 0.0044763684 (32, 1) (32, 1) (32, 1) (32, 1)\n",
      "211\n",
      "0.011676009 0.0044757565 (32, 1) (32, 1) (32, 1) (32, 1)\n",
      "212\n",
      "0.011885277 0.004476684 (32, 1) (32, 1) (32, 1) (32, 1)\n",
      "213\n",
      "0.011401345 0.0044766855 (32, 1) (32, 1) (32, 1) (32, 1)\n",
      "214\n",
      "0.012102018 0.0044765924 (32, 1) (32, 1) (32, 1) (32, 1)\n",
      "215\n",
      "0.011724589 0.004477209 (32, 1) (32, 1) (32, 1) (32, 1)\n",
      "216\n",
      "0.011922645 0.0044755563 (32, 1) (32, 1) (32, 1) (32, 1)\n",
      "217\n",
      "0.011195814 0.004477404 (32, 1) (32, 1) (32, 1) (32, 1)\n",
      "218\n",
      "0.01105568 0.004477555 (32, 1) (32, 1) (32, 1) (32, 1)\n",
      "219\n",
      "0.011367713 0.0044772876 (32, 1) (32, 1) (32, 1) (32, 1)\n",
      "220\n",
      "0.011618087 0.004476727 (32, 1) (32, 1) (32, 1) (32, 1)\n",
      "221\n",
      "0.011642377 0.0044756727 (32, 1) (32, 1) (32, 1) (32, 1)\n",
      "222\n",
      "0.01220852 0.00447541 (32, 1) (32, 1) (32, 1) (32, 1)\n",
      "223\n",
      "0.011279895 0.0044768793 (32, 1) (32, 1) (32, 1) (32, 1)\n",
      "224\n",
      "0.011974962 0.0044754534 (32, 1) (32, 1) (32, 1) (32, 1)\n",
      "225\n",
      "0.01172272 0.0044762366 (32, 1) (32, 1) (32, 1) (32, 1)\n",
      "226\n",
      "0.012143124 0.004476073 (32, 1) (32, 1) (32, 1) (32, 1)\n",
      "227\n",
      "0.012367339 0.004475625 (32, 1) (32, 1) (32, 1) (32, 1)\n",
      "228\n",
      "0.01117713 0.004476912 (32, 1) (32, 1) (32, 1) (32, 1)\n",
      "229\n",
      "0.011634903 0.0044762962 (32, 1) (32, 1) (32, 1) (32, 1)\n",
      "230\n",
      "0.011911435 0.00447583 (32, 1) (32, 1) (32, 1) (32, 1)\n",
      "231\n",
      "0.011840434 0.0044770953 (32, 1) (32, 1) (32, 1) (32, 1)\n",
      "232\n",
      "0.011812407 0.004476073 (32, 1) (32, 1) (32, 1) (32, 1)\n",
      "233\n",
      "0.011033258 0.004476415 (32, 1) (32, 1) (32, 1) (32, 1)\n",
      "234\n",
      "0.012075859 0.0044755344 (32, 1) (32, 1) (32, 1) (32, 1)\n",
      "235\n",
      "0.011063154 0.004477367 (32, 1) (32, 1) (32, 1) (32, 1)\n",
      "236\n",
      "0.011134155 0.004476801 (32, 1) (32, 1) (32, 1) (32, 1)\n",
      "237\n",
      "0.012387892 0.0044763363 (32, 1) (32, 1) (32, 1) (32, 1)\n",
      "238\n"
     ]
    }
   ],
   "source": [
    "# Generate the bootstrap data, we just need to ensure the values are different between this and the train data generator\n",
    "cat = 0\n",
    "for X, y in train_gen_bootstrap:\n",
    "    print(np.mean(X[0]), np.mean(X[1]), X[2].shape, X[3].shape, X[4].shape, y.shape)\n",
    "    cat = cat + 1\n",
    "    print(cat)"
   ]
  },
  {
   "cell_type": "code",
   "execution_count": 53,
   "id": "10550859-c317-4243-a5b1-62cfdb03eaca",
   "metadata": {},
   "outputs": [
    {
     "data": {
      "text/plain": [
       "7616"
      ]
     },
     "execution_count": 53,
     "metadata": {},
     "output_type": "execute_result"
    }
   ],
   "source": [
    "238*32"
   ]
  },
  {
   "cell_type": "code",
   "execution_count": 54,
   "id": "5a8cf30e-a880-41b3-975a-8a87d41e49d8",
   "metadata": {},
   "outputs": [],
   "source": [
    "# Seems like it is working and we are ready for the implementation - And also note that we ran the cell that examines the bootrap generator a few times and we ended up getting different reuslts in those multiple runs. We can add a random seed if it is needed to reproduce the results, but I do not think it is necessary at the moment."
   ]
  },
  {
   "cell_type": "code",
   "execution_count": 55,
   "id": "47b83876-e8eb-418e-9164-d767dc6d2d7d",
   "metadata": {},
   "outputs": [],
   "source": [
    "# I think we can figure out the gist of what needs to happen inorder to get the model to train multiple times and generate the results and store the trained models here before we get it on the train script - Once we have the train script we might also need to make it improve compliant inroder to make sure we use their developed code."
   ]
  },
  {
   "cell_type": "code",
   "execution_count": 56,
   "id": "7d0fbc63-86e4-4f1b-bf44-f9138d308a72",
   "metadata": {},
   "outputs": [],
   "source": [
    "# Okay, before moving there, should we add the bootstrap generator class also to the same python script that has the original data generator class and the batch prediction functions? I think that will be better."
   ]
  },
  {
   "cell_type": "code",
   "execution_count": 57,
   "id": "91b3c0ed-c6c2-429f-a598-19ee888f4b2e",
   "metadata": {},
   "outputs": [],
   "source": [
    "# Continue this work in a separate notebook"
   ]
  }
 ],
 "metadata": {
  "kernelspec": {
   "display_name": "Python (deepcdr_improve_env)",
   "language": "python",
   "name": "deepcdr_improve_env"
  },
  "language_info": {
   "codemirror_mode": {
    "name": "ipython",
    "version": 3
   },
   "file_extension": ".py",
   "mimetype": "text/x-python",
   "name": "python",
   "nbconvert_exporter": "python",
   "pygments_lexer": "ipython3",
   "version": "3.8.16"
  }
 },
 "nbformat": 4,
 "nbformat_minor": 5
}
